{
 "cells": [
  {
   "cell_type": "code",
   "execution_count": 1,
   "metadata": {},
   "outputs": [],
   "source": [
    "import matplotlib.pyplot as plt\n",
    "import numpy as np\n",
    "\n",
    "import optical_gating_analysis as OG\n",
    "from tqdm import tqdm\n",
    "\n",
    "from scipy.stats import gaussian_kde"
   ]
  },
  {
   "cell_type": "code",
   "execution_count": 2,
   "metadata": {},
   "outputs": [
    {
     "name": "stdout",
     "output_type": "stream",
     "text": [
      "Setting source to D:\\Data\\2012-06-20 13.34.11 vid 2x2 multi phase single plane\\brightfield\\*tif\n",
      "Loading reference sequence from D:\\Data\\2012-06-20 13.34.11 vid 2x2 multi phase single plane\\ref_seq.tif\n"
     ]
    },
    {
     "name": "stderr",
     "output_type": "stream",
     "text": [
      "Getting SADs: 100%|█████████▉| 1106/1107 [00:03<00:00, 340.49it/s]\n",
      "Getting phases: 100%|██████████| 1106/1106 [00:00<00:00, 62605.78it/s]\n"
     ]
    }
   ],
   "source": [
    "oog = OG.BasicOpticalGating().default()\n",
    "oog.run()"
   ]
  },
  {
   "cell_type": "code",
   "execution_count": 14,
   "metadata": {},
   "outputs": [],
   "source": [
    "delta_phases = oog.delta_phases\n"
   ]
  }
 ],
 "metadata": {
  "kernelspec": {
   "display_name": "optical-gating",
   "language": "python",
   "name": "python3"
  },
  "language_info": {
   "codemirror_mode": {
    "name": "ipython",
    "version": 3
   },
   "file_extension": ".py",
   "mimetype": "text/x-python",
   "name": "python",
   "nbconvert_exporter": "python",
   "pygments_lexer": "ipython3",
   "version": "3.9.16"
  }
 },
 "nbformat": 4,
 "nbformat_minor": 2
}
