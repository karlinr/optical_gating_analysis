{
 "cells": [
  {
   "cell_type": "code",
   "execution_count": 1,
   "metadata": {},
   "outputs": [],
   "source": [
    "import matplotlib.pyplot as plt\n",
    "import numpy as np\n",
    "\n",
    "import optical_gating_analysis as OG\n",
    "from tqdm import tqdm\n",
    "\n",
    "from scipy.stats import gaussian_kde"
   ]
  },
  {
   "cell_type": "code",
   "execution_count": 2,
   "metadata": {},
   "outputs": [],
   "source": [
    "import hrv_analysis as hrv"
   ]
  },
  {
   "cell_type": "code",
   "execution_count": 3,
   "metadata": {},
   "outputs": [
    {
     "name": "stdout",
     "output_type": "stream",
     "text": [
      "Setting source to \u001b[96mE:\\data\\my data\\June 2024 imaging\\Day1 variability healthy 30mins\\second fish\\2024-06-19 16.39.55 vid\\Allied Vision Technologies GS650 0001f61c\\555586.tif\u001b[0m\n",
      "Getting reference sequence Reference period: \u001b[96m53.68333142004362\u001b[0m; Reference indices: \u001b[96m[10, 68]\u001b[0m\n"
     ]
    },
    {
     "name": "stderr",
     "output_type": "stream",
     "text": [
      "Getting SADs: 100%|██████████| 1/1 [00:00<00:00,  2.25it/s]\n"
     ]
    },
    {
     "name": "stdout",
     "output_type": "stream",
     "text": [
      "Getting phases\n",
      "Setting source to \u001b[96mE:\\data\\my data\\June 2024 imaging\\Day1 variability healthy 30mins\\second fish\\2024-06-19 16.39.55 vid\\Allied Vision Technologies GS650 0001f61c\\556586.tif\u001b[0m\n",
      "Getting reference sequence Reference period: \u001b[96m53.41117625162852\u001b[0m; Reference indices: \u001b[96m[15, 73]\u001b[0m\n"
     ]
    },
    {
     "name": "stderr",
     "output_type": "stream",
     "text": [
      "Getting SADs: 100%|██████████| 1/1 [00:00<00:00,  2.24it/s]\n"
     ]
    },
    {
     "name": "stdout",
     "output_type": "stream",
     "text": [
      "Getting phases\n",
      "Setting source to \u001b[96mE:\\data\\my data\\June 2024 imaging\\Day1 variability healthy 30mins\\second fish\\2024-06-19 16.39.55 vid\\Allied Vision Technologies GS650 0001f61c\\557586.tif\u001b[0m\n",
      "Getting reference sequence Reference period: \u001b[96m54.045203836930455\u001b[0m; Reference indices: \u001b[96m[13, 72]\u001b[0m\n"
     ]
    },
    {
     "name": "stderr",
     "output_type": "stream",
     "text": [
      "Getting SADs: 100%|██████████| 1/1 [00:00<00:00,  2.32it/s]\n"
     ]
    },
    {
     "name": "stdout",
     "output_type": "stream",
     "text": [
      "Getting phases\n",
      "Setting source to \u001b[96mE:\\data\\my data\\June 2024 imaging\\Day1 variability healthy 30mins\\second fish\\2024-06-19 16.39.55 vid\\Allied Vision Technologies GS650 0001f61c\\558586.tif\u001b[0m\n",
      "Getting reference sequence Reference period: \u001b[96m53.11762911752745\u001b[0m; Reference indices: \u001b[96m[17, 75]\u001b[0m\n"
     ]
    },
    {
     "name": "stderr",
     "output_type": "stream",
     "text": [
      "Getting SADs: 100%|██████████| 1/1 [00:00<00:00,  2.35it/s]\n"
     ]
    },
    {
     "name": "stdout",
     "output_type": "stream",
     "text": [
      "Getting phases\n",
      "Setting source to \u001b[96mE:\\data\\my data\\June 2024 imaging\\Day1 variability healthy 30mins\\second fish\\2024-06-19 16.39.55 vid\\Allied Vision Technologies GS650 0001f61c\\559586.tif\u001b[0m\n",
      "Getting reference sequence Reference period: \u001b[96m53.6861242685985\u001b[0m; Reference indices: \u001b[96m[11, 69]\u001b[0m\n"
     ]
    },
    {
     "name": "stderr",
     "output_type": "stream",
     "text": [
      "Getting SADs: 100%|██████████| 1/1 [00:00<00:00,  2.32it/s]\n"
     ]
    },
    {
     "name": "stdout",
     "output_type": "stream",
     "text": [
      "Getting phases\n",
      "Setting source to \u001b[96mE:\\data\\my data\\June 2024 imaging\\Day1 variability healthy 30mins\\second fish\\2024-06-19 16.39.55 vid\\Allied Vision Technologies GS650 0001f61c\\560586.tif\u001b[0m\n",
      "Getting reference sequence Reference period: \u001b[96m53.52353104984684\u001b[0m; Reference indices: \u001b[96m[9, 67]\u001b[0m\n"
     ]
    },
    {
     "name": "stderr",
     "output_type": "stream",
     "text": [
      "Getting SADs: 100%|██████████| 1/1 [00:00<00:00,  2.09it/s]\n"
     ]
    },
    {
     "name": "stdout",
     "output_type": "stream",
     "text": [
      "Getting phases\n",
      "Setting source to \u001b[96mE:\\data\\my data\\June 2024 imaging\\Day1 variability healthy 30mins\\second fish\\2024-06-19 16.39.55 vid\\Allied Vision Technologies GS650 0001f61c\\561586.tif\u001b[0m\n",
      "Getting reference sequence Reference period: \u001b[96m53.35004116920543\u001b[0m; Reference indices: \u001b[96m[17, 75]\u001b[0m\n"
     ]
    },
    {
     "name": "stderr",
     "output_type": "stream",
     "text": [
      "Getting SADs: 100%|██████████| 1/1 [00:00<00:00,  2.22it/s]\n"
     ]
    },
    {
     "name": "stdout",
     "output_type": "stream",
     "text": [
      "Getting phases\n",
      "Setting source to \u001b[96mE:\\data\\my data\\June 2024 imaging\\Day1 variability healthy 30mins\\second fish\\2024-06-19 16.39.55 vid\\Allied Vision Technologies GS650 0001f61c\\562586.tif\u001b[0m\n",
      "Getting reference sequence Reference period: \u001b[96m52.72600166944908\u001b[0m; Reference indices: \u001b[96m[20, 77]\u001b[0m\n"
     ]
    },
    {
     "name": "stderr",
     "output_type": "stream",
     "text": [
      "Getting SADs: 100%|██████████| 1/1 [00:00<00:00,  2.29it/s]\n"
     ]
    },
    {
     "name": "stdout",
     "output_type": "stream",
     "text": [
      "Getting phases\n",
      "Setting source to \u001b[96mE:\\data\\my data\\June 2024 imaging\\Day1 variability healthy 30mins\\second fish\\2024-06-19 16.39.55 vid\\Allied Vision Technologies GS650 0001f61c\\563586.tif\u001b[0m\n",
      "Getting reference sequence Reference period: \u001b[96m53.28829843625762\u001b[0m; Reference indices: \u001b[96m[9, 67]\u001b[0m\n"
     ]
    },
    {
     "name": "stderr",
     "output_type": "stream",
     "text": [
      "Getting SADs: 100%|██████████| 1/1 [00:00<00:00,  2.33it/s]\n"
     ]
    },
    {
     "name": "stdout",
     "output_type": "stream",
     "text": [
      "Getting phases\n",
      "Setting source to \u001b[96mE:\\data\\my data\\June 2024 imaging\\Day1 variability healthy 30mins\\second fish\\2024-06-19 16.39.55 vid\\Allied Vision Technologies GS650 0001f61c\\564586.tif\u001b[0m\n",
      "Getting reference sequence Reference period: \u001b[96m54.16100599669148\u001b[0m; Reference indices: \u001b[96m[14, 73]\u001b[0m\n"
     ]
    },
    {
     "name": "stderr",
     "output_type": "stream",
     "text": [
      "Getting SADs: 100%|██████████| 1/1 [00:00<00:00,  2.26it/s]\n"
     ]
    },
    {
     "name": "stdout",
     "output_type": "stream",
     "text": [
      "Getting phases\n",
      "Setting source to \u001b[96mE:\\data\\my data\\June 2024 imaging\\Day1 variability healthy 30mins\\second fish\\2024-06-19 16.39.55 vid\\Allied Vision Technologies GS650 0001f61c\\565586.tif\u001b[0m\n",
      "Getting reference sequence Reference period: \u001b[96m52.75866765725607\u001b[0m; Reference indices: \u001b[96m[16, 73]\u001b[0m\n"
     ]
    },
    {
     "name": "stderr",
     "output_type": "stream",
     "text": [
      "Getting SADs: 100%|██████████| 1/1 [00:00<00:00,  2.39it/s]\n"
     ]
    },
    {
     "name": "stdout",
     "output_type": "stream",
     "text": [
      "Getting phases\n",
      "Setting source to \u001b[96mE:\\data\\my data\\June 2024 imaging\\Day1 variability healthy 30mins\\second fish\\2024-06-19 16.39.55 vid\\Allied Vision Technologies GS650 0001f61c\\566586.tif\u001b[0m\n",
      "Getting reference sequence Reference period: \u001b[96m54.57413103660412\u001b[0m; Reference indices: \u001b[96m[10, 69]\u001b[0m\n"
     ]
    },
    {
     "name": "stderr",
     "output_type": "stream",
     "text": [
      "Getting SADs: 100%|██████████| 1/1 [00:00<00:00,  2.25it/s]\n"
     ]
    },
    {
     "name": "stdout",
     "output_type": "stream",
     "text": [
      "Getting phases\n",
      "Setting source to \u001b[96mE:\\data\\my data\\June 2024 imaging\\Day1 variability healthy 30mins\\second fish\\2024-06-19 16.39.55 vid\\Allied Vision Technologies GS650 0001f61c\\567586.tif\u001b[0m\n",
      "Getting reference sequence Reference period: \u001b[96m53.72681429511072\u001b[0m; Reference indices: \u001b[96m[13, 71]\u001b[0m\n"
     ]
    },
    {
     "name": "stderr",
     "output_type": "stream",
     "text": [
      "Getting SADs: 100%|██████████| 1/1 [00:00<00:00,  2.27it/s]\n"
     ]
    },
    {
     "name": "stdout",
     "output_type": "stream",
     "text": [
      "Getting phases\n",
      "Setting source to \u001b[96mE:\\data\\my data\\June 2024 imaging\\Day1 variability healthy 30mins\\second fish\\2024-06-19 16.39.55 vid\\Allied Vision Technologies GS650 0001f61c\\568586.tif\u001b[0m\n",
      "Getting reference sequence Reference period: \u001b[96m54.08895875716664\u001b[0m; Reference indices: \u001b[96m[6, 65]\u001b[0m\n"
     ]
    },
    {
     "name": "stderr",
     "output_type": "stream",
     "text": [
      "Getting SADs: 100%|██████████| 1/1 [00:00<00:00,  2.20it/s]\n"
     ]
    },
    {
     "name": "stdout",
     "output_type": "stream",
     "text": [
      "Getting phases\n",
      "Setting source to \u001b[96mE:\\data\\my data\\June 2024 imaging\\Day1 variability healthy 30mins\\second fish\\2024-06-19 16.39.55 vid\\Allied Vision Technologies GS650 0001f61c\\569586.tif\u001b[0m\n",
      "Getting reference sequence Reference period: \u001b[96m53.5567385778935\u001b[0m; Reference indices: \u001b[96m[16, 74]\u001b[0m\n"
     ]
    },
    {
     "name": "stderr",
     "output_type": "stream",
     "text": [
      "Getting SADs: 100%|██████████| 1/1 [00:00<00:00,  2.32it/s]\n"
     ]
    },
    {
     "name": "stdout",
     "output_type": "stream",
     "text": [
      "Getting phases\n",
      "Setting source to \u001b[96mE:\\data\\my data\\June 2024 imaging\\Day1 variability healthy 30mins\\second fish\\2024-06-19 16.39.55 vid\\Allied Vision Technologies GS650 0001f61c\\570586.tif\u001b[0m\n",
      "Getting reference sequence Reference period: \u001b[96m53.523954669792886\u001b[0m; Reference indices: \u001b[96m[20, 78]\u001b[0m\n"
     ]
    },
    {
     "name": "stderr",
     "output_type": "stream",
     "text": [
      "Getting SADs: 100%|██████████| 1/1 [00:00<00:00,  2.26it/s]\n"
     ]
    },
    {
     "name": "stdout",
     "output_type": "stream",
     "text": [
      "Getting phases\n",
      "Setting source to \u001b[96mE:\\data\\my data\\June 2024 imaging\\Day1 variability healthy 30mins\\second fish\\2024-06-19 16.39.55 vid\\Allied Vision Technologies GS650 0001f61c\\571586.tif\u001b[0m\n",
      "Getting reference sequence Reference period: \u001b[96m54.55754107569162\u001b[0m; Reference indices: \u001b[96m[17, 76]\u001b[0m\n"
     ]
    },
    {
     "name": "stderr",
     "output_type": "stream",
     "text": [
      "Getting SADs: 100%|██████████| 1/1 [00:00<00:00,  2.13it/s]\n"
     ]
    },
    {
     "name": "stdout",
     "output_type": "stream",
     "text": [
      "Getting phases\n",
      "Setting source to \u001b[96mE:\\data\\my data\\June 2024 imaging\\Day1 variability healthy 30mins\\second fish\\2024-06-19 16.39.55 vid\\Allied Vision Technologies GS650 0001f61c\\572586.tif\u001b[0m\n",
      "Getting reference sequence Reference period: \u001b[96m55.04044117647059\u001b[0m; Reference indices: \u001b[96m[10, 70]\u001b[0m\n"
     ]
    },
    {
     "name": "stderr",
     "output_type": "stream",
     "text": [
      "Getting SADs: 100%|██████████| 1/1 [00:00<00:00,  2.28it/s]\n"
     ]
    },
    {
     "name": "stdout",
     "output_type": "stream",
     "text": [
      "Getting phases\n",
      "Setting source to \u001b[96mE:\\data\\my data\\June 2024 imaging\\Day1 variability healthy 30mins\\second fish\\2024-06-19 16.39.55 vid\\Allied Vision Technologies GS650 0001f61c\\573586.tif\u001b[0m\n",
      "Getting reference sequence Reference period: \u001b[96m54.073812328229295\u001b[0m; Reference indices: \u001b[96m[14, 73]\u001b[0m\n"
     ]
    },
    {
     "name": "stderr",
     "output_type": "stream",
     "text": [
      "Getting SADs: 100%|██████████| 1/1 [00:00<00:00,  2.39it/s]\n"
     ]
    },
    {
     "name": "stdout",
     "output_type": "stream",
     "text": [
      "Getting phases\n",
      "Setting source to \u001b[96mE:\\data\\my data\\June 2024 imaging\\Day1 variability healthy 30mins\\second fish\\2024-06-19 16.39.55 vid\\Allied Vision Technologies GS650 0001f61c\\574586.tif\u001b[0m\n",
      "Getting reference sequence Reference period: \u001b[96m54.244269506830285\u001b[0m; Reference indices: \u001b[96m[7, 66]\u001b[0m\n"
     ]
    },
    {
     "name": "stderr",
     "output_type": "stream",
     "text": [
      "Getting SADs: 100%|██████████| 1/1 [00:00<00:00,  2.31it/s]\n"
     ]
    },
    {
     "name": "stdout",
     "output_type": "stream",
     "text": [
      "Getting phases\n",
      "Setting source to \u001b[96mE:\\data\\my data\\June 2024 imaging\\Day1 variability healthy 30mins\\second fish\\2024-06-19 16.39.55 vid\\Allied Vision Technologies GS650 0001f61c\\575586.tif\u001b[0m\n",
      "Getting reference sequence Reference period: \u001b[96m53.803553553553556\u001b[0m; Reference indices: \u001b[96m[19, 77]\u001b[0m\n"
     ]
    },
    {
     "name": "stderr",
     "output_type": "stream",
     "text": [
      "Getting SADs: 100%|██████████| 1/1 [00:00<00:00,  2.36it/s]\n"
     ]
    },
    {
     "name": "stdout",
     "output_type": "stream",
     "text": [
      "Getting phases\n",
      "Setting source to \u001b[96mE:\\data\\my data\\June 2024 imaging\\Day1 variability healthy 30mins\\second fish\\2024-06-19 16.39.55 vid\\Allied Vision Technologies GS650 0001f61c\\576586.tif\u001b[0m\n",
      "Getting reference sequence Reference period: \u001b[96m54.762254372705684\u001b[0m; Reference indices: \u001b[96m[14, 73]\u001b[0m\n"
     ]
    },
    {
     "name": "stderr",
     "output_type": "stream",
     "text": [
      "Getting SADs: 100%|██████████| 1/1 [00:00<00:00,  2.19it/s]\n"
     ]
    },
    {
     "name": "stdout",
     "output_type": "stream",
     "text": [
      "Getting phases\n",
      "Setting source to \u001b[96mE:\\data\\my data\\June 2024 imaging\\Day1 variability healthy 30mins\\second fish\\2024-06-19 16.39.55 vid\\Allied Vision Technologies GS650 0001f61c\\577586.tif\u001b[0m\n",
      "Getting reference sequence Reference period: \u001b[96m53.776998597475455\u001b[0m; Reference indices: \u001b[96m[15, 73]\u001b[0m\n"
     ]
    },
    {
     "name": "stderr",
     "output_type": "stream",
     "text": [
      "Getting SADs: 100%|██████████| 1/1 [00:00<00:00,  2.32it/s]\n"
     ]
    },
    {
     "name": "stdout",
     "output_type": "stream",
     "text": [
      "Getting phases\n",
      "Setting source to \u001b[96mE:\\data\\my data\\June 2024 imaging\\Day1 variability healthy 30mins\\second fish\\2024-06-19 16.39.55 vid\\Allied Vision Technologies GS650 0001f61c\\578586.tif\u001b[0m\n",
      "Getting reference sequence Reference period: \u001b[96m53.718027734976886\u001b[0m; Reference indices: \u001b[96m[8, 66]\u001b[0m\n"
     ]
    },
    {
     "name": "stderr",
     "output_type": "stream",
     "text": [
      "Getting SADs: 100%|██████████| 1/1 [00:00<00:00,  2.31it/s]\n"
     ]
    },
    {
     "name": "stdout",
     "output_type": "stream",
     "text": [
      "Getting phases\n",
      "Setting source to \u001b[96mE:\\data\\my data\\June 2024 imaging\\Day1 variability healthy 30mins\\second fish\\2024-06-19 16.39.55 vid\\Allied Vision Technologies GS650 0001f61c\\579586.tif\u001b[0m\n",
      "Getting reference sequence Reference period: \u001b[96m54.928941311852704\u001b[0m; Reference indices: \u001b[96m[16, 75]\u001b[0m\n"
     ]
    },
    {
     "name": "stderr",
     "output_type": "stream",
     "text": [
      "Getting SADs: 100%|██████████| 1/1 [00:00<00:00,  2.30it/s]\n"
     ]
    },
    {
     "name": "stdout",
     "output_type": "stream",
     "text": [
      "Getting phases\n",
      "Setting source to \u001b[96mE:\\data\\my data\\June 2024 imaging\\Day1 variability healthy 30mins\\second fish\\2024-06-19 16.39.55 vid\\Allied Vision Technologies GS650 0001f61c\\580586.tif\u001b[0m\n",
      "Getting reference sequence Reference period: \u001b[96m54.15618139407245\u001b[0m; Reference indices: \u001b[96m[8, 67]\u001b[0m\n"
     ]
    },
    {
     "name": "stderr",
     "output_type": "stream",
     "text": [
      "Getting SADs: 100%|██████████| 1/1 [00:00<00:00,  2.32it/s]\n"
     ]
    },
    {
     "name": "stdout",
     "output_type": "stream",
     "text": [
      "Getting phases\n",
      "Setting source to \u001b[96mE:\\data\\my data\\June 2024 imaging\\Day1 variability healthy 30mins\\second fish\\2024-06-19 16.39.55 vid\\Allied Vision Technologies GS650 0001f61c\\581586.tif\u001b[0m\n",
      "Getting reference sequence Reference period: \u001b[96m53.8326213592233\u001b[0m; Reference indices: \u001b[96m[7, 65]\u001b[0m\n"
     ]
    },
    {
     "name": "stderr",
     "output_type": "stream",
     "text": [
      "Getting SADs: 100%|██████████| 1/1 [00:00<00:00,  2.37it/s]\n"
     ]
    },
    {
     "name": "stdout",
     "output_type": "stream",
     "text": [
      "Getting phases\n",
      "Setting source to \u001b[96mE:\\data\\my data\\June 2024 imaging\\Day1 variability healthy 30mins\\second fish\\2024-06-19 16.39.55 vid\\Allied Vision Technologies GS650 0001f61c\\582586.tif\u001b[0m\n",
      "Getting reference sequence Reference period: \u001b[96m54.4145596291614\u001b[0m; Reference indices: \u001b[96m[16, 75]\u001b[0m\n"
     ]
    },
    {
     "name": "stderr",
     "output_type": "stream",
     "text": [
      "Getting SADs: 100%|██████████| 1/1 [00:00<00:00,  2.32it/s]\n"
     ]
    },
    {
     "name": "stdout",
     "output_type": "stream",
     "text": [
      "Getting phases\n",
      "Setting source to \u001b[96mE:\\data\\my data\\June 2024 imaging\\Day1 variability healthy 30mins\\second fish\\2024-06-19 16.39.55 vid\\Allied Vision Technologies GS650 0001f61c\\583586.tif\u001b[0m\n",
      "Getting reference sequence Reference period: \u001b[96m54.251080325368584\u001b[0m; Reference indices: \u001b[96m[10, 69]\u001b[0m\n"
     ]
    },
    {
     "name": "stderr",
     "output_type": "stream",
     "text": [
      "Getting SADs: 100%|██████████| 1/1 [00:00<00:00,  2.30it/s]\n"
     ]
    },
    {
     "name": "stdout",
     "output_type": "stream",
     "text": [
      "Getting phases\n",
      "Setting source to \u001b[96mE:\\data\\my data\\June 2024 imaging\\Day1 variability healthy 30mins\\second fish\\2024-06-19 16.39.55 vid\\Allied Vision Technologies GS650 0001f61c\\584586.tif\u001b[0m\n",
      "Getting reference sequence Reference period: \u001b[96m54.50184783993883\u001b[0m; Reference indices: \u001b[96m[9, 68]\u001b[0m\n"
     ]
    },
    {
     "name": "stderr",
     "output_type": "stream",
     "text": [
      "Getting SADs: 100%|██████████| 1/1 [00:00<00:00,  2.30it/s]\n"
     ]
    },
    {
     "name": "stdout",
     "output_type": "stream",
     "text": [
      "Getting phases\n",
      "Setting source to \u001b[96mE:\\data\\my data\\June 2024 imaging\\Day1 variability healthy 30mins\\second fish\\2024-06-19 16.39.55 vid\\Allied Vision Technologies GS650 0001f61c\\585586.tif\u001b[0m\n",
      "Getting reference sequence Reference period: \u001b[96m54.00211588541667\u001b[0m; Reference indices: \u001b[96m[16, 75]\u001b[0m\n"
     ]
    },
    {
     "name": "stderr",
     "output_type": "stream",
     "text": [
      "Getting SADs: 100%|██████████| 1/1 [00:00<00:00,  2.29it/s]\n"
     ]
    },
    {
     "name": "stdout",
     "output_type": "stream",
     "text": [
      "Getting phases\n",
      "Setting source to \u001b[96mE:\\data\\my data\\June 2024 imaging\\Day1 variability healthy 30mins\\second fish\\2024-06-19 16.39.55 vid\\Allied Vision Technologies GS650 0001f61c\\586586.tif\u001b[0m\n",
      "Getting reference sequence Reference period: \u001b[96m54.22066305596586\u001b[0m; Reference indices: \u001b[96m[16, 75]\u001b[0m\n"
     ]
    },
    {
     "name": "stderr",
     "output_type": "stream",
     "text": [
      "Getting SADs: 100%|██████████| 1/1 [00:00<00:00,  2.28it/s]\n"
     ]
    },
    {
     "name": "stdout",
     "output_type": "stream",
     "text": [
      "Getting phases\n",
      "Setting source to \u001b[96mE:\\data\\my data\\June 2024 imaging\\Day1 variability healthy 30mins\\second fish\\2024-06-19 16.39.55 vid\\Allied Vision Technologies GS650 0001f61c\\587586.tif\u001b[0m\n",
      "Getting reference sequence Reference period: \u001b[96m54.77358670741024\u001b[0m; Reference indices: \u001b[96m[12, 71]\u001b[0m\n"
     ]
    },
    {
     "name": "stderr",
     "output_type": "stream",
     "text": [
      "Getting SADs: 100%|██████████| 1/1 [00:00<00:00,  2.23it/s]\n"
     ]
    },
    {
     "name": "stdout",
     "output_type": "stream",
     "text": [
      "Getting phases\n",
      "Setting source to \u001b[96mE:\\data\\my data\\June 2024 imaging\\Day1 variability healthy 30mins\\second fish\\2024-06-19 16.39.55 vid\\Allied Vision Technologies GS650 0001f61c\\588586.tif\u001b[0m\n",
      "Getting reference sequence Reference period: \u001b[96m53.65461049284579\u001b[0m; Reference indices: \u001b[96m[19, 77]\u001b[0m\n"
     ]
    },
    {
     "name": "stderr",
     "output_type": "stream",
     "text": [
      "Getting SADs: 100%|██████████| 1/1 [00:00<00:00,  2.34it/s]\n"
     ]
    },
    {
     "name": "stdout",
     "output_type": "stream",
     "text": [
      "Getting phases\n",
      "Setting source to \u001b[96mE:\\data\\my data\\June 2024 imaging\\Day1 variability healthy 30mins\\second fish\\2024-06-19 16.39.55 vid\\Allied Vision Technologies GS650 0001f61c\\589586.tif\u001b[0m\n",
      "Getting reference sequence Reference period: \u001b[96m54.78992392749074\u001b[0m; Reference indices: \u001b[96m[19, 78]\u001b[0m\n"
     ]
    },
    {
     "name": "stderr",
     "output_type": "stream",
     "text": [
      "Getting SADs: 100%|██████████| 1/1 [00:00<00:00,  2.36it/s]\n"
     ]
    },
    {
     "name": "stdout",
     "output_type": "stream",
     "text": [
      "Getting phases\n",
      "Setting source to \u001b[96mE:\\data\\my data\\June 2024 imaging\\Day1 variability healthy 30mins\\second fish\\2024-06-19 16.39.55 vid\\Allied Vision Technologies GS650 0001f61c\\590586.tif\u001b[0m\n",
      "Getting reference sequence Reference period: \u001b[96m53.89491368680641\u001b[0m; Reference indices: \u001b[96m[10, 68]\u001b[0m\n"
     ]
    },
    {
     "name": "stderr",
     "output_type": "stream",
     "text": [
      "Getting SADs: 100%|██████████| 1/1 [00:00<00:00,  2.36it/s]\n"
     ]
    },
    {
     "name": "stdout",
     "output_type": "stream",
     "text": [
      "Getting phases\n",
      "Setting source to \u001b[96mE:\\data\\my data\\June 2024 imaging\\Day1 variability healthy 30mins\\second fish\\2024-06-19 16.39.55 vid\\Allied Vision Technologies GS650 0001f61c\\591586.tif\u001b[0m\n",
      "Getting reference sequence Reference period: \u001b[96m55.28167475728155\u001b[0m; Reference indices: \u001b[96m[7, 67]\u001b[0m\n"
     ]
    },
    {
     "name": "stderr",
     "output_type": "stream",
     "text": [
      "Getting SADs: 100%|██████████| 1/1 [00:00<00:00,  2.28it/s]\n"
     ]
    },
    {
     "name": "stdout",
     "output_type": "stream",
     "text": [
      "Getting phases\n",
      "Setting source to \u001b[96mE:\\data\\my data\\June 2024 imaging\\Day1 variability healthy 30mins\\second fish\\2024-06-19 16.39.55 vid\\Allied Vision Technologies GS650 0001f61c\\592586.tif\u001b[0m\n",
      "Getting reference sequence Reference period: \u001b[96m55.466562173458726\u001b[0m; Reference indices: \u001b[96m[11, 71]\u001b[0m\n"
     ]
    },
    {
     "name": "stderr",
     "output_type": "stream",
     "text": [
      "Getting SADs: 100%|██████████| 1/1 [00:00<00:00,  2.30it/s]\n"
     ]
    },
    {
     "name": "stdout",
     "output_type": "stream",
     "text": [
      "Getting phases\n",
      "Setting source to \u001b[96mE:\\data\\my data\\June 2024 imaging\\Day1 variability healthy 30mins\\second fish\\2024-06-19 16.39.55 vid\\Allied Vision Technologies GS650 0001f61c\\593586.tif\u001b[0m\n",
      "Getting reference sequence Reference period: \u001b[96m54.990533856387515\u001b[0m; Reference indices: \u001b[96m[17, 76]\u001b[0m\n"
     ]
    },
    {
     "name": "stderr",
     "output_type": "stream",
     "text": [
      "Getting SADs: 100%|██████████| 1/1 [00:00<00:00,  2.31it/s]\n"
     ]
    },
    {
     "name": "stdout",
     "output_type": "stream",
     "text": [
      "Getting phases\n",
      "Setting source to \u001b[96mE:\\data\\my data\\June 2024 imaging\\Day1 variability healthy 30mins\\second fish\\2024-06-19 16.39.55 vid\\Allied Vision Technologies GS650 0001f61c\\594586.tif\u001b[0m\n",
      "Getting reference sequence Reference period: \u001b[96m55.17342414701535\u001b[0m; Reference indices: \u001b[96m[13, 73]\u001b[0m\n"
     ]
    },
    {
     "name": "stderr",
     "output_type": "stream",
     "text": [
      "Getting SADs: 100%|██████████| 1/1 [00:00<00:00,  2.27it/s]\n"
     ]
    },
    {
     "name": "stdout",
     "output_type": "stream",
     "text": [
      "Getting phases\n",
      "Setting source to \u001b[96mE:\\data\\my data\\June 2024 imaging\\Day1 variability healthy 30mins\\second fish\\2024-06-19 16.39.55 vid\\Allied Vision Technologies GS650 0001f61c\\595586.tif\u001b[0m\n",
      "Getting reference sequence Reference period: \u001b[96m54.89725079113924\u001b[0m; Reference indices: \u001b[96m[14, 73]\u001b[0m\n"
     ]
    },
    {
     "name": "stderr",
     "output_type": "stream",
     "text": [
      "Getting SADs: 100%|██████████| 1/1 [00:00<00:00,  2.38it/s]\n"
     ]
    },
    {
     "name": "stdout",
     "output_type": "stream",
     "text": [
      "Getting phases\n",
      "Setting source to \u001b[96mE:\\data\\my data\\June 2024 imaging\\Day1 variability healthy 30mins\\second fish\\2024-06-19 16.39.55 vid\\Allied Vision Technologies GS650 0001f61c\\596586.tif\u001b[0m\n",
      "Getting reference sequence Reference period: \u001b[96m54.58219116724895\u001b[0m; Reference indices: \u001b[96m[20, 79]\u001b[0m\n"
     ]
    },
    {
     "name": "stderr",
     "output_type": "stream",
     "text": [
      "Getting SADs: 100%|██████████| 1/1 [00:00<00:00,  2.33it/s]\n"
     ]
    },
    {
     "name": "stdout",
     "output_type": "stream",
     "text": [
      "Getting phases\n",
      "Setting source to \u001b[96mE:\\data\\my data\\June 2024 imaging\\Day1 variability healthy 30mins\\second fish\\2024-06-19 16.39.55 vid\\Allied Vision Technologies GS650 0001f61c\\597586.tif\u001b[0m\n",
      "Getting reference sequence Reference period: \u001b[96m54.66104122895577\u001b[0m; Reference indices: \u001b[96m[18, 77]\u001b[0m\n"
     ]
    },
    {
     "name": "stderr",
     "output_type": "stream",
     "text": [
      "Getting SADs: 100%|██████████| 1/1 [00:00<00:00,  2.20it/s]\n"
     ]
    },
    {
     "name": "stdout",
     "output_type": "stream",
     "text": [
      "Getting phases\n",
      "Setting source to \u001b[96mE:\\data\\my data\\June 2024 imaging\\Day1 variability healthy 30mins\\second fish\\2024-06-19 16.39.55 vid\\Allied Vision Technologies GS650 0001f61c\\598586.tif\u001b[0m\n",
      "Getting reference sequence Reference period: \u001b[96m54.69499341238472\u001b[0m; Reference indices: \u001b[96m[7, 66]\u001b[0m\n"
     ]
    },
    {
     "name": "stderr",
     "output_type": "stream",
     "text": [
      "Getting SADs: 100%|██████████| 1/1 [00:00<00:00,  2.24it/s]\n"
     ]
    },
    {
     "name": "stdout",
     "output_type": "stream",
     "text": [
      "Getting phases\n",
      "Setting source to \u001b[96mE:\\data\\my data\\June 2024 imaging\\Day1 variability healthy 30mins\\second fish\\2024-06-19 16.39.55 vid\\Allied Vision Technologies GS650 0001f61c\\599586.tif\u001b[0m\n",
      "Getting reference sequence Reference period: \u001b[96m53.54947145877378\u001b[0m; Reference indices: \u001b[96m[7, 65]\u001b[0m\n"
     ]
    },
    {
     "name": "stderr",
     "output_type": "stream",
     "text": [
      "Getting SADs: 100%|██████████| 1/1 [00:00<00:00,  2.31it/s]\n"
     ]
    },
    {
     "name": "stdout",
     "output_type": "stream",
     "text": [
      "Getting phases\n",
      "Setting source to \u001b[96mE:\\data\\my data\\June 2024 imaging\\Day1 variability healthy 30mins\\second fish\\2024-06-19 16.39.55 vid\\Allied Vision Technologies GS650 0001f61c\\600586.tif\u001b[0m\n",
      "Getting reference sequence Reference period: \u001b[96m54.6282559944799\u001b[0m; Reference indices: \u001b[96m[15, 74]\u001b[0m\n"
     ]
    },
    {
     "name": "stderr",
     "output_type": "stream",
     "text": [
      "Getting SADs: 100%|██████████| 1/1 [00:00<00:00,  2.23it/s]\n"
     ]
    },
    {
     "name": "stdout",
     "output_type": "stream",
     "text": [
      "Getting phases\n",
      "Setting source to \u001b[96mE:\\data\\my data\\June 2024 imaging\\Day1 variability healthy 30mins\\second fish\\2024-06-19 16.39.55 vid\\Allied Vision Technologies GS650 0001f61c\\601586.tif\u001b[0m\n",
      "Getting reference sequence Reference period: \u001b[96m53.733830495755356\u001b[0m; Reference indices: \u001b[96m[8, 66]\u001b[0m\n"
     ]
    },
    {
     "name": "stderr",
     "output_type": "stream",
     "text": [
      "Getting SADs: 100%|██████████| 1/1 [00:00<00:00,  2.36it/s]\n"
     ]
    },
    {
     "name": "stdout",
     "output_type": "stream",
     "text": [
      "Getting phases\n",
      "Setting source to \u001b[96mE:\\data\\my data\\June 2024 imaging\\Day1 variability healthy 30mins\\second fish\\2024-06-19 16.39.55 vid\\Allied Vision Technologies GS650 0001f61c\\602586.tif\u001b[0m\n",
      "Getting reference sequence Reference period: \u001b[96m54.21432264736298\u001b[0m; Reference indices: \u001b[96m[21, 80]\u001b[0m\n"
     ]
    },
    {
     "name": "stderr",
     "output_type": "stream",
     "text": [
      "Getting SADs: 100%|██████████| 1/1 [00:00<00:00,  2.36it/s]\n"
     ]
    },
    {
     "name": "stdout",
     "output_type": "stream",
     "text": [
      "Getting phases\n",
      "Setting source to \u001b[96mE:\\data\\my data\\June 2024 imaging\\Day1 variability healthy 30mins\\second fish\\2024-06-19 16.39.55 vid\\Allied Vision Technologies GS650 0001f61c\\603586.tif\u001b[0m\n",
      "Getting reference sequence Reference period: \u001b[96m53.61021152134289\u001b[0m; Reference indices: \u001b[96m[16, 74]\u001b[0m\n"
     ]
    },
    {
     "name": "stderr",
     "output_type": "stream",
     "text": [
      "Getting SADs: 100%|██████████| 1/1 [00:00<00:00,  2.23it/s]\n"
     ]
    },
    {
     "name": "stdout",
     "output_type": "stream",
     "text": [
      "Getting phases\n",
      "Setting source to \u001b[96mE:\\data\\my data\\June 2024 imaging\\Day1 variability healthy 30mins\\second fish\\2024-06-19 16.39.55 vid\\Allied Vision Technologies GS650 0001f61c\\604586.tif\u001b[0m\n",
      "Getting reference sequence Reference period: \u001b[96m54.940333151283454\u001b[0m; Reference indices: \u001b[96m[15, 74]\u001b[0m\n"
     ]
    },
    {
     "name": "stderr",
     "output_type": "stream",
     "text": [
      "Getting SADs: 100%|██████████| 1/1 [00:00<00:00,  2.22it/s]\n"
     ]
    },
    {
     "name": "stdout",
     "output_type": "stream",
     "text": [
      "Getting phases\n",
      "Setting source to \u001b[96mE:\\data\\my data\\June 2024 imaging\\Day1 variability healthy 30mins\\second fish\\2024-06-19 16.39.55 vid\\Allied Vision Technologies GS650 0001f61c\\605586.tif\u001b[0m\n",
      "Getting reference sequence Reference period: \u001b[96m54.13472469812653\u001b[0m; Reference indices: \u001b[96m[14, 73]\u001b[0m\n"
     ]
    },
    {
     "name": "stderr",
     "output_type": "stream",
     "text": [
      "Getting SADs: 100%|██████████| 1/1 [00:00<00:00,  2.30it/s]\n"
     ]
    },
    {
     "name": "stdout",
     "output_type": "stream",
     "text": [
      "Getting phases\n",
      "Setting source to \u001b[96mE:\\data\\my data\\June 2024 imaging\\Day1 variability healthy 30mins\\second fish\\2024-06-19 16.39.55 vid\\Allied Vision Technologies GS650 0001f61c\\606586.tif\u001b[0m\n",
      "Getting reference sequence Reference period: \u001b[96m53.34776334776335\u001b[0m; Reference indices: \u001b[96m[21, 79]\u001b[0m\n"
     ]
    },
    {
     "name": "stderr",
     "output_type": "stream",
     "text": [
      "Getting SADs: 100%|██████████| 1/1 [00:00<00:00,  2.35it/s]\n"
     ]
    },
    {
     "name": "stdout",
     "output_type": "stream",
     "text": [
      "Getting phases\n",
      "Setting source to \u001b[96mE:\\data\\my data\\June 2024 imaging\\Day1 variability healthy 30mins\\second fish\\2024-06-19 16.39.55 vid\\Allied Vision Technologies GS650 0001f61c\\607586.tif\u001b[0m\n",
      "Getting reference sequence Reference period: \u001b[96m54.39891247065587\u001b[0m; Reference indices: \u001b[96m[14, 73]\u001b[0m\n"
     ]
    },
    {
     "name": "stderr",
     "output_type": "stream",
     "text": [
      "Getting SADs: 100%|██████████| 1/1 [00:00<00:00,  2.32it/s]\n"
     ]
    },
    {
     "name": "stdout",
     "output_type": "stream",
     "text": [
      "Getting phases\n",
      "Setting source to \u001b[96mE:\\data\\my data\\June 2024 imaging\\Day1 variability healthy 30mins\\second fish\\2024-06-19 16.39.55 vid\\Allied Vision Technologies GS650 0001f61c\\608586.tif\u001b[0m\n",
      "Getting reference sequence Reference period: \u001b[96m54.29744567730005\u001b[0m; Reference indices: \u001b[96m[20, 79]\u001b[0m\n"
     ]
    },
    {
     "name": "stderr",
     "output_type": "stream",
     "text": [
      "Getting SADs: 100%|██████████| 1/1 [00:00<00:00,  2.32it/s]\n"
     ]
    },
    {
     "name": "stdout",
     "output_type": "stream",
     "text": [
      "Getting phases\n",
      "Setting source to \u001b[96mE:\\data\\my data\\June 2024 imaging\\Day1 variability healthy 30mins\\second fish\\2024-06-19 16.39.55 vid\\Allied Vision Technologies GS650 0001f61c\\609586.tif\u001b[0m\n",
      "Getting reference sequence Reference period: \u001b[96m53.751959503592424\u001b[0m; Reference indices: \u001b[96m[17, 75]\u001b[0m\n"
     ]
    },
    {
     "name": "stderr",
     "output_type": "stream",
     "text": [
      "Getting SADs: 100%|██████████| 1/1 [00:00<00:00,  2.36it/s]\n"
     ]
    },
    {
     "name": "stdout",
     "output_type": "stream",
     "text": [
      "Getting phases\n",
      "Setting source to \u001b[96mE:\\data\\my data\\June 2024 imaging\\Day1 variability healthy 30mins\\second fish\\2024-06-19 16.39.55 vid\\Allied Vision Technologies GS650 0001f61c\\610586.tif\u001b[0m\n",
      "Getting reference sequence Reference period: \u001b[96m54.58840886315555\u001b[0m; Reference indices: \u001b[96m[7, 66]\u001b[0m\n"
     ]
    },
    {
     "name": "stderr",
     "output_type": "stream",
     "text": [
      "Getting SADs: 100%|██████████| 1/1 [00:00<00:00,  2.33it/s]\n"
     ]
    },
    {
     "name": "stdout",
     "output_type": "stream",
     "text": [
      "Getting phases\n",
      "Setting source to \u001b[96mE:\\data\\my data\\June 2024 imaging\\Day1 variability healthy 30mins\\second fish\\2024-06-19 16.39.55 vid\\Allied Vision Technologies GS650 0001f61c\\611586.tif\u001b[0m\n",
      "Getting reference sequence Reference period: \u001b[96m53.93049684189586\u001b[0m; Reference indices: \u001b[96m[22, 80]\u001b[0m\n"
     ]
    },
    {
     "name": "stderr",
     "output_type": "stream",
     "text": [
      "Getting SADs: 100%|██████████| 1/1 [00:00<00:00,  2.28it/s]\n"
     ]
    },
    {
     "name": "stdout",
     "output_type": "stream",
     "text": [
      "Getting phases\n",
      "Setting source to \u001b[96mE:\\data\\my data\\June 2024 imaging\\Day1 variability healthy 30mins\\second fish\\2024-06-19 16.39.55 vid\\Allied Vision Technologies GS650 0001f61c\\612586.tif\u001b[0m\n",
      "Getting reference sequence Reference period: \u001b[96m53.08109484404838\u001b[0m; Reference indices: \u001b[96m[7, 65]\u001b[0m\n"
     ]
    },
    {
     "name": "stderr",
     "output_type": "stream",
     "text": [
      "Getting SADs: 100%|██████████| 1/1 [00:00<00:00,  2.33it/s]\n"
     ]
    },
    {
     "name": "stdout",
     "output_type": "stream",
     "text": [
      "Getting phases\n",
      "Setting source to \u001b[96mE:\\data\\my data\\June 2024 imaging\\Day1 variability healthy 30mins\\second fish\\2024-06-19 16.39.55 vid\\Allied Vision Technologies GS650 0001f61c\\613586.tif\u001b[0m\n",
      "Getting reference sequence Reference period: \u001b[96m54.40889869461298\u001b[0m; Reference indices: \u001b[96m[17, 76]\u001b[0m\n"
     ]
    },
    {
     "name": "stderr",
     "output_type": "stream",
     "text": [
      "Getting SADs: 100%|██████████| 1/1 [00:00<00:00,  2.31it/s]\n"
     ]
    },
    {
     "name": "stdout",
     "output_type": "stream",
     "text": [
      "Getting phases\n",
      "Setting source to \u001b[96mE:\\data\\my data\\June 2024 imaging\\Day1 variability healthy 30mins\\second fish\\2024-06-19 16.39.55 vid\\Allied Vision Technologies GS650 0001f61c\\614586.tif\u001b[0m\n",
      "Getting reference sequence Reference period: \u001b[96m53.50716861263736\u001b[0m; Reference indices: \u001b[96m[19, 77]\u001b[0m\n"
     ]
    },
    {
     "name": "stderr",
     "output_type": "stream",
     "text": [
      "Getting SADs: 100%|██████████| 1/1 [00:00<00:00,  2.25it/s]\n"
     ]
    },
    {
     "name": "stdout",
     "output_type": "stream",
     "text": [
      "Getting phases\n",
      "Setting source to \u001b[96mE:\\data\\my data\\June 2024 imaging\\Day1 variability healthy 30mins\\second fish\\2024-06-19 16.39.55 vid\\Allied Vision Technologies GS650 0001f61c\\615586.tif\u001b[0m\n",
      "Getting reference sequence Reference period: \u001b[96m53.48483511193132\u001b[0m; Reference indices: \u001b[96m[10, 68]\u001b[0m\n"
     ]
    },
    {
     "name": "stderr",
     "output_type": "stream",
     "text": [
      "Getting SADs: 100%|██████████| 1/1 [00:00<00:00,  2.38it/s]\n"
     ]
    },
    {
     "name": "stdout",
     "output_type": "stream",
     "text": [
      "Getting phases\n",
      "Setting source to \u001b[96mE:\\data\\my data\\June 2024 imaging\\Day1 variability healthy 30mins\\second fish\\2024-06-19 16.39.55 vid\\Allied Vision Technologies GS650 0001f61c\\616586.tif\u001b[0m\n",
      "Getting reference sequence Reference period: \u001b[96m53.76596343178622\u001b[0m; Reference indices: \u001b[96m[18, 76]\u001b[0m\n"
     ]
    },
    {
     "name": "stderr",
     "output_type": "stream",
     "text": [
      "Getting SADs: 100%|██████████| 1/1 [00:00<00:00,  2.31it/s]\n"
     ]
    },
    {
     "name": "stdout",
     "output_type": "stream",
     "text": [
      "Getting phases\n",
      "Setting source to \u001b[96mE:\\data\\my data\\June 2024 imaging\\Day1 variability healthy 30mins\\second fish\\2024-06-19 16.39.55 vid\\Allied Vision Technologies GS650 0001f61c\\617586.tif\u001b[0m\n",
      "Getting reference sequence Reference period: \u001b[96m53.698272315919375\u001b[0m; Reference indices: \u001b[96m[11, 69]\u001b[0m\n"
     ]
    },
    {
     "name": "stderr",
     "output_type": "stream",
     "text": [
      "Getting SADs: 100%|██████████| 1/1 [00:00<00:00,  2.36it/s]\n"
     ]
    },
    {
     "name": "stdout",
     "output_type": "stream",
     "text": [
      "Getting phases\n",
      "Setting source to \u001b[96mE:\\data\\my data\\June 2024 imaging\\Day1 variability healthy 30mins\\second fish\\2024-06-19 16.39.55 vid\\Allied Vision Technologies GS650 0001f61c\\618586.tif\u001b[0m\n",
      "Getting reference sequence Reference period: \u001b[96m53.9471416007036\u001b[0m; Reference indices: \u001b[96m[15, 73]\u001b[0m\n"
     ]
    },
    {
     "name": "stderr",
     "output_type": "stream",
     "text": [
      "Getting SADs: 100%|██████████| 1/1 [00:00<00:00,  2.22it/s]\n"
     ]
    },
    {
     "name": "stdout",
     "output_type": "stream",
     "text": [
      "Getting phases\n",
      "Setting source to \u001b[96mE:\\data\\my data\\June 2024 imaging\\Day1 variability healthy 30mins\\second fish\\2024-06-19 16.39.55 vid\\Allied Vision Technologies GS650 0001f61c\\619586.tif\u001b[0m\n",
      "Getting reference sequence Reference period: \u001b[96m53.417497686851036\u001b[0m; Reference indices: \u001b[96m[17, 75]\u001b[0m\n"
     ]
    },
    {
     "name": "stderr",
     "output_type": "stream",
     "text": [
      "Getting SADs: 100%|██████████| 1/1 [00:00<00:00,  2.31it/s]\n"
     ]
    },
    {
     "name": "stdout",
     "output_type": "stream",
     "text": [
      "Getting phases\n",
      "Setting source to \u001b[96mE:\\data\\my data\\June 2024 imaging\\Day1 variability healthy 30mins\\second fish\\2024-06-19 16.39.55 vid\\Allied Vision Technologies GS650 0001f61c\\620586.tif\u001b[0m\n",
      "Getting reference sequence Reference period: \u001b[96m54.18446601941748\u001b[0m; Reference indices: \u001b[96m[7, 66]\u001b[0m\n"
     ]
    },
    {
     "name": "stderr",
     "output_type": "stream",
     "text": [
      "Getting SADs: 100%|██████████| 1/1 [00:00<00:00,  2.33it/s]\n"
     ]
    },
    {
     "name": "stdout",
     "output_type": "stream",
     "text": [
      "Getting phases\n",
      "Setting source to \u001b[96mE:\\data\\my data\\June 2024 imaging\\Day1 variability healthy 30mins\\second fish\\2024-06-19 16.39.55 vid\\Allied Vision Technologies GS650 0001f61c\\621586.tif\u001b[0m\n",
      "Getting reference sequence Reference period: \u001b[96m53.07004968062456\u001b[0m; Reference indices: \u001b[96m[12, 70]\u001b[0m\n"
     ]
    },
    {
     "name": "stderr",
     "output_type": "stream",
     "text": [
      "Getting SADs: 100%|██████████| 1/1 [00:00<00:00,  2.35it/s]\n"
     ]
    },
    {
     "name": "stdout",
     "output_type": "stream",
     "text": [
      "Getting phases\n",
      "Setting source to \u001b[96mE:\\data\\my data\\June 2024 imaging\\Day1 variability healthy 30mins\\second fish\\2024-06-19 16.39.55 vid\\Allied Vision Technologies GS650 0001f61c\\622586.tif\u001b[0m\n",
      "Getting reference sequence Reference period: \u001b[96m53.71647623958531\u001b[0m; Reference indices: \u001b[96m[22, 80]\u001b[0m\n"
     ]
    },
    {
     "name": "stderr",
     "output_type": "stream",
     "text": [
      "Getting SADs: 100%|██████████| 1/1 [00:00<00:00,  2.36it/s]\n"
     ]
    },
    {
     "name": "stdout",
     "output_type": "stream",
     "text": [
      "Getting phases\n",
      "Setting source to \u001b[96mE:\\data\\my data\\June 2024 imaging\\Day1 variability healthy 30mins\\second fish\\2024-06-19 16.39.55 vid\\Allied Vision Technologies GS650 0001f61c\\623586.tif\u001b[0m\n",
      "Getting reference sequence Reference period: \u001b[96m53.5543093270366\u001b[0m; Reference indices: \u001b[96m[13, 71]\u001b[0m\n"
     ]
    },
    {
     "name": "stderr",
     "output_type": "stream",
     "text": [
      "Getting SADs: 100%|██████████| 1/1 [00:00<00:00,  1.70it/s]\n"
     ]
    },
    {
     "name": "stdout",
     "output_type": "stream",
     "text": [
      "Getting phases\n",
      "Setting source to \u001b[96mE:\\data\\my data\\June 2024 imaging\\Day1 variability healthy 30mins\\second fish\\2024-06-19 16.39.55 vid\\Allied Vision Technologies GS650 0001f61c\\624586.tif\u001b[0m\n",
      "Getting reference sequence Reference period: \u001b[96m53.323557166981224\u001b[0m; Reference indices: \u001b[96m[11, 69]\u001b[0m\n"
     ]
    },
    {
     "name": "stderr",
     "output_type": "stream",
     "text": [
      "Getting SADs: 100%|██████████| 1/1 [00:00<00:00,  2.06it/s]\n"
     ]
    },
    {
     "name": "stdout",
     "output_type": "stream",
     "text": [
      "Getting phases\n",
      "Setting source to \u001b[96mE:\\data\\my data\\June 2024 imaging\\Day1 variability healthy 30mins\\second fish\\2024-06-19 16.39.55 vid\\Allied Vision Technologies GS650 0001f61c\\625586.tif\u001b[0m\n",
      "Getting reference sequence Reference period: \u001b[96m54.25151640474221\u001b[0m; Reference indices: \u001b[96m[19, 78]\u001b[0m\n"
     ]
    },
    {
     "name": "stderr",
     "output_type": "stream",
     "text": [
      "Getting SADs: 100%|██████████| 1/1 [00:00<00:00,  1.97it/s]\n"
     ]
    },
    {
     "name": "stdout",
     "output_type": "stream",
     "text": [
      "Getting phases\n",
      "Setting source to \u001b[96mE:\\data\\my data\\June 2024 imaging\\Day1 variability healthy 30mins\\second fish\\2024-06-19 16.39.55 vid\\Allied Vision Technologies GS650 0001f61c\\626586.tif\u001b[0m\n",
      "Getting reference sequence Reference period: \u001b[96m54.23797689414293\u001b[0m; Reference indices: \u001b[96m[9, 68]\u001b[0m\n"
     ]
    },
    {
     "name": "stderr",
     "output_type": "stream",
     "text": [
      "Getting SADs: 100%|██████████| 1/1 [00:00<00:00,  2.25it/s]\n"
     ]
    },
    {
     "name": "stdout",
     "output_type": "stream",
     "text": [
      "Getting phases\n",
      "Setting source to \u001b[96mE:\\data\\my data\\June 2024 imaging\\Day1 variability healthy 30mins\\second fish\\2024-06-19 16.39.55 vid\\Allied Vision Technologies GS650 0001f61c\\627586.tif\u001b[0m\n",
      "Getting reference sequence Reference period: \u001b[96m54.37354562155542\u001b[0m; Reference indices: \u001b[96m[17, 76]\u001b[0m\n"
     ]
    },
    {
     "name": "stderr",
     "output_type": "stream",
     "text": [
      "Getting SADs: 100%|██████████| 1/1 [00:00<00:00,  2.28it/s]\n"
     ]
    },
    {
     "name": "stdout",
     "output_type": "stream",
     "text": [
      "Getting phases\n",
      "Setting source to \u001b[96mE:\\data\\my data\\June 2024 imaging\\Day1 variability healthy 30mins\\second fish\\2024-06-19 16.39.55 vid\\Allied Vision Technologies GS650 0001f61c\\628586.tif\u001b[0m\n",
      "Getting reference sequence Reference period: \u001b[96m53.61168792643133\u001b[0m; Reference indices: \u001b[96m[19, 77]\u001b[0m\n"
     ]
    },
    {
     "name": "stderr",
     "output_type": "stream",
     "text": [
      "Getting SADs: 100%|██████████| 1/1 [00:00<00:00,  2.27it/s]\n"
     ]
    },
    {
     "name": "stdout",
     "output_type": "stream",
     "text": [
      "Getting phases\n",
      "Setting source to \u001b[96mE:\\data\\my data\\June 2024 imaging\\Day1 variability healthy 30mins\\second fish\\2024-06-19 16.39.55 vid\\Allied Vision Technologies GS650 0001f61c\\629586.tif\u001b[0m\n",
      "Getting reference sequence Reference period: \u001b[96m54.002869880189465\u001b[0m; Reference indices: \u001b[96m[7, 66]\u001b[0m\n"
     ]
    },
    {
     "name": "stderr",
     "output_type": "stream",
     "text": [
      "Getting SADs: 100%|██████████| 1/1 [00:00<00:00,  2.22it/s]\n"
     ]
    },
    {
     "name": "stdout",
     "output_type": "stream",
     "text": [
      "Getting phases\n",
      "Setting source to \u001b[96mE:\\data\\my data\\June 2024 imaging\\Day1 variability healthy 30mins\\second fish\\2024-06-19 16.39.55 vid\\Allied Vision Technologies GS650 0001f61c\\630586.tif\u001b[0m\n",
      "Getting reference sequence Reference period: \u001b[96m52.98050590730082\u001b[0m; Reference indices: \u001b[96m[20, 77]\u001b[0m\n"
     ]
    },
    {
     "name": "stderr",
     "output_type": "stream",
     "text": [
      "Getting SADs: 100%|██████████| 1/1 [00:00<00:00,  2.27it/s]\n"
     ]
    },
    {
     "name": "stdout",
     "output_type": "stream",
     "text": [
      "Getting phases\n",
      "Setting source to \u001b[96mE:\\data\\my data\\June 2024 imaging\\Day1 variability healthy 30mins\\second fish\\2024-06-19 16.39.55 vid\\Allied Vision Technologies GS650 0001f61c\\631586.tif\u001b[0m\n",
      "Getting reference sequence Reference period: \u001b[96m52.72117024906176\u001b[0m; Reference indices: \u001b[96m[20, 77]\u001b[0m\n"
     ]
    },
    {
     "name": "stderr",
     "output_type": "stream",
     "text": [
      "Getting SADs: 100%|██████████| 1/1 [00:00<00:00,  2.37it/s]\n"
     ]
    },
    {
     "name": "stdout",
     "output_type": "stream",
     "text": [
      "Getting phases\n",
      "Setting source to \u001b[96mE:\\data\\my data\\June 2024 imaging\\Day1 variability healthy 30mins\\second fish\\2024-06-19 16.39.55 vid\\Allied Vision Technologies GS650 0001f61c\\632586.tif\u001b[0m\n",
      "Getting reference sequence Reference period: \u001b[96m53.080149812734085\u001b[0m; Reference indices: \u001b[96m[10, 68]\u001b[0m\n"
     ]
    },
    {
     "name": "stderr",
     "output_type": "stream",
     "text": [
      "Getting SADs: 100%|██████████| 1/1 [00:00<00:00,  2.34it/s]\n"
     ]
    },
    {
     "name": "stdout",
     "output_type": "stream",
     "text": [
      "Getting phases\n",
      "Setting source to \u001b[96mE:\\data\\my data\\June 2024 imaging\\Day1 variability healthy 30mins\\second fish\\2024-06-19 16.39.55 vid\\Allied Vision Technologies GS650 0001f61c\\633586.tif\u001b[0m\n",
      "Getting reference sequence Reference period: \u001b[96m53.728316067438556\u001b[0m; Reference indices: \u001b[96m[15, 73]\u001b[0m\n"
     ]
    },
    {
     "name": "stderr",
     "output_type": "stream",
     "text": [
      "Getting SADs: 100%|██████████| 1/1 [00:00<00:00,  2.26it/s]\n"
     ]
    },
    {
     "name": "stdout",
     "output_type": "stream",
     "text": [
      "Getting phases\n",
      "Setting source to \u001b[96mE:\\data\\my data\\June 2024 imaging\\Day1 variability healthy 30mins\\second fish\\2024-06-19 16.39.55 vid\\Allied Vision Technologies GS650 0001f61c\\634586.tif\u001b[0m\n",
      "Getting reference sequence Reference period: \u001b[96m54.12485404503753\u001b[0m; Reference indices: \u001b[96m[17, 76]\u001b[0m\n"
     ]
    },
    {
     "name": "stderr",
     "output_type": "stream",
     "text": [
      "Getting SADs: 100%|██████████| 1/1 [00:00<00:00,  2.33it/s]\n"
     ]
    },
    {
     "name": "stdout",
     "output_type": "stream",
     "text": [
      "Getting phases\n",
      "Setting source to \u001b[96mE:\\data\\my data\\June 2024 imaging\\Day1 variability healthy 30mins\\second fish\\2024-06-19 16.39.55 vid\\Allied Vision Technologies GS650 0001f61c\\635586.tif\u001b[0m\n",
      "Getting reference sequence Reference period: \u001b[96m52.40776756950245\u001b[0m; Reference indices: \u001b[96m[19, 76]\u001b[0m\n"
     ]
    },
    {
     "name": "stderr",
     "output_type": "stream",
     "text": [
      "Getting SADs: 100%|██████████| 1/1 [00:00<00:00,  2.32it/s]\n"
     ]
    },
    {
     "name": "stdout",
     "output_type": "stream",
     "text": [
      "Getting phases\n",
      "Setting source to \u001b[96mE:\\data\\my data\\June 2024 imaging\\Day1 variability healthy 30mins\\second fish\\2024-06-19 16.39.55 vid\\Allied Vision Technologies GS650 0001f61c\\636586.tif\u001b[0m\n",
      "Getting reference sequence Reference period: \u001b[96m53.14553353244638\u001b[0m; Reference indices: \u001b[96m[7, 65]\u001b[0m\n"
     ]
    },
    {
     "name": "stderr",
     "output_type": "stream",
     "text": [
      "Getting SADs: 100%|██████████| 1/1 [00:00<00:00,  2.21it/s]\n"
     ]
    },
    {
     "name": "stdout",
     "output_type": "stream",
     "text": [
      "Getting phases\n",
      "Setting source to \u001b[96mE:\\data\\my data\\June 2024 imaging\\Day1 variability healthy 30mins\\second fish\\2024-06-19 16.39.55 vid\\Allied Vision Technologies GS650 0001f61c\\637586.tif\u001b[0m\n",
      "Getting reference sequence Reference period: \u001b[96m52.76540802739205\u001b[0m; Reference indices: \u001b[96m[7, 64]\u001b[0m\n"
     ]
    },
    {
     "name": "stderr",
     "output_type": "stream",
     "text": [
      "Getting SADs: 100%|██████████| 1/1 [00:00<00:00,  2.39it/s]\n"
     ]
    },
    {
     "name": "stdout",
     "output_type": "stream",
     "text": [
      "Getting phases\n",
      "Setting source to \u001b[96mE:\\data\\my data\\June 2024 imaging\\Day1 variability healthy 30mins\\second fish\\2024-06-19 16.39.55 vid\\Allied Vision Technologies GS650 0001f61c\\638586.tif\u001b[0m\n",
      "Getting reference sequence Reference period: \u001b[96m53.19222180285588\u001b[0m; Reference indices: \u001b[96m[19, 77]\u001b[0m\n"
     ]
    },
    {
     "name": "stderr",
     "output_type": "stream",
     "text": [
      "Getting SADs: 100%|██████████| 1/1 [00:00<00:00,  2.37it/s]\n"
     ]
    },
    {
     "name": "stdout",
     "output_type": "stream",
     "text": [
      "Getting phases\n",
      "Setting source to \u001b[96mE:\\data\\my data\\June 2024 imaging\\Day1 variability healthy 30mins\\second fish\\2024-06-19 16.39.55 vid\\Allied Vision Technologies GS650 0001f61c\\639586.tif\u001b[0m\n",
      "Getting reference sequence Reference period: \u001b[96m52.52762198541784\u001b[0m; Reference indices: \u001b[96m[17, 74]\u001b[0m\n"
     ]
    },
    {
     "name": "stderr",
     "output_type": "stream",
     "text": [
      "Getting SADs: 100%|██████████| 1/1 [00:00<00:00,  2.43it/s]\n"
     ]
    },
    {
     "name": "stdout",
     "output_type": "stream",
     "text": [
      "Getting phases\n",
      "Setting source to \u001b[96mE:\\data\\my data\\June 2024 imaging\\Day1 variability healthy 30mins\\second fish\\2024-06-19 16.39.55 vid\\Allied Vision Technologies GS650 0001f61c\\640586.tif\u001b[0m\n",
      "Getting reference sequence Reference period: \u001b[96m52.55332167832168\u001b[0m; Reference indices: \u001b[96m[23, 80]\u001b[0m\n"
     ]
    },
    {
     "name": "stderr",
     "output_type": "stream",
     "text": [
      "Getting SADs: 100%|██████████| 1/1 [00:00<00:00,  2.36it/s]\n"
     ]
    },
    {
     "name": "stdout",
     "output_type": "stream",
     "text": [
      "Getting phases\n",
      "Setting source to \u001b[96mE:\\data\\my data\\June 2024 imaging\\Day1 variability healthy 30mins\\second fish\\2024-06-19 16.39.55 vid\\Allied Vision Technologies GS650 0001f61c\\641586.tif\u001b[0m\n",
      "Getting reference sequence Reference period: \u001b[96m52.460183266063055\u001b[0m; Reference indices: \u001b[96m[9, 66]\u001b[0m\n"
     ]
    },
    {
     "name": "stderr",
     "output_type": "stream",
     "text": [
      "Getting SADs: 100%|██████████| 1/1 [00:00<00:00,  2.36it/s]\n"
     ]
    },
    {
     "name": "stdout",
     "output_type": "stream",
     "text": [
      "Getting phases\n",
      "Setting source to \u001b[96mE:\\data\\my data\\June 2024 imaging\\Day1 variability healthy 30mins\\second fish\\2024-06-19 16.39.55 vid\\Allied Vision Technologies GS650 0001f61c\\642586.tif\u001b[0m\n",
      "Getting reference sequence Reference period: \u001b[96m52.734903995293365\u001b[0m; Reference indices: \u001b[96m[11, 68]\u001b[0m\n"
     ]
    },
    {
     "name": "stderr",
     "output_type": "stream",
     "text": [
      "Getting SADs: 100%|██████████| 1/1 [00:00<00:00,  2.36it/s]\n"
     ]
    },
    {
     "name": "stdout",
     "output_type": "stream",
     "text": [
      "Getting phases\n",
      "Setting source to \u001b[96mE:\\data\\my data\\June 2024 imaging\\Day1 variability healthy 30mins\\second fish\\2024-06-19 16.39.55 vid\\Allied Vision Technologies GS650 0001f61c\\643586.tif\u001b[0m\n",
      "Getting reference sequence Reference period: \u001b[96m53.508587237711986\u001b[0m; Reference indices: \u001b[96m[18, 76]\u001b[0m\n"
     ]
    },
    {
     "name": "stderr",
     "output_type": "stream",
     "text": [
      "Getting SADs: 100%|██████████| 1/1 [00:00<00:00,  2.37it/s]\n"
     ]
    },
    {
     "name": "stdout",
     "output_type": "stream",
     "text": [
      "Getting phases\n",
      "Setting source to \u001b[96mE:\\data\\my data\\June 2024 imaging\\Day1 variability healthy 30mins\\second fish\\2024-06-19 16.39.55 vid\\Allied Vision Technologies GS650 0001f61c\\644586.tif\u001b[0m\n",
      "Getting reference sequence Reference period: \u001b[96m52.66209270752522\u001b[0m; Reference indices: \u001b[96m[16, 73]\u001b[0m\n"
     ]
    },
    {
     "name": "stderr",
     "output_type": "stream",
     "text": [
      "Getting SADs: 100%|██████████| 1/1 [00:00<00:00,  2.37it/s]\n"
     ]
    },
    {
     "name": "stdout",
     "output_type": "stream",
     "text": [
      "Getting phases\n",
      "Setting source to \u001b[96mE:\\data\\my data\\June 2024 imaging\\Day1 variability healthy 30mins\\second fish\\2024-06-19 16.39.55 vid\\Allied Vision Technologies GS650 0001f61c\\645586.tif\u001b[0m\n",
      "Getting reference sequence Reference period: \u001b[96m52.39027237354085\u001b[0m; Reference indices: \u001b[96m[19, 76]\u001b[0m\n"
     ]
    },
    {
     "name": "stderr",
     "output_type": "stream",
     "text": [
      "Getting SADs: 100%|██████████| 1/1 [00:00<00:00,  2.44it/s]\n"
     ]
    },
    {
     "name": "stdout",
     "output_type": "stream",
     "text": [
      "Getting phases\n",
      "Setting source to \u001b[96mE:\\data\\my data\\June 2024 imaging\\Day1 variability healthy 30mins\\second fish\\2024-06-19 16.39.55 vid\\Allied Vision Technologies GS650 0001f61c\\646586.tif\u001b[0m\n",
      "Getting reference sequence Reference period: \u001b[96m52.662123543635964\u001b[0m; Reference indices: \u001b[96m[7, 64]\u001b[0m\n"
     ]
    },
    {
     "name": "stderr",
     "output_type": "stream",
     "text": [
      "Getting SADs: 100%|██████████| 1/1 [00:00<00:00,  2.43it/s]\n"
     ]
    },
    {
     "name": "stdout",
     "output_type": "stream",
     "text": [
      "Getting phases\n",
      "Setting source to \u001b[96mE:\\data\\my data\\June 2024 imaging\\Day1 variability healthy 30mins\\second fish\\2024-06-19 16.39.55 vid\\Allied Vision Technologies GS650 0001f61c\\647586.tif\u001b[0m\n",
      "Getting reference sequence Reference period: \u001b[96m53.00991091314031\u001b[0m; Reference indices: \u001b[96m[7, 65]\u001b[0m\n"
     ]
    },
    {
     "name": "stderr",
     "output_type": "stream",
     "text": [
      "Getting SADs: 100%|██████████| 1/1 [00:00<00:00,  2.26it/s]\n"
     ]
    },
    {
     "name": "stdout",
     "output_type": "stream",
     "text": [
      "Getting phases\n",
      "Setting source to \u001b[96mE:\\data\\my data\\June 2024 imaging\\Day1 variability healthy 30mins\\second fish\\2024-06-19 16.39.55 vid\\Allied Vision Technologies GS650 0001f61c\\648586.tif\u001b[0m\n",
      "Getting reference sequence Reference period: \u001b[96m52.589254766031196\u001b[0m; Reference indices: \u001b[96m[16, 73]\u001b[0m\n"
     ]
    },
    {
     "name": "stderr",
     "output_type": "stream",
     "text": [
      "Getting SADs: 100%|██████████| 1/1 [00:00<00:00,  2.36it/s]\n"
     ]
    },
    {
     "name": "stdout",
     "output_type": "stream",
     "text": [
      "Getting phases\n",
      "Setting source to \u001b[96mE:\\data\\my data\\June 2024 imaging\\Day1 variability healthy 30mins\\second fish\\2024-06-19 16.39.55 vid\\Allied Vision Technologies GS650 0001f61c\\649586.tif\u001b[0m\n",
      "Getting reference sequence Reference period: \u001b[96m53.60267151172572\u001b[0m; Reference indices: \u001b[96m[15, 73]\u001b[0m\n"
     ]
    },
    {
     "name": "stderr",
     "output_type": "stream",
     "text": [
      "Getting SADs: 100%|██████████| 1/1 [00:00<00:00,  2.35it/s]\n"
     ]
    },
    {
     "name": "stdout",
     "output_type": "stream",
     "text": [
      "Getting phases\n",
      "Setting source to \u001b[96mE:\\data\\my data\\June 2024 imaging\\Day1 variability healthy 30mins\\second fish\\2024-06-19 16.39.55 vid\\Allied Vision Technologies GS650 0001f61c\\650586.tif\u001b[0m\n",
      "Getting reference sequence Reference period: \u001b[96m53.02627173653104\u001b[0m; Reference indices: \u001b[96m[18, 76]\u001b[0m\n"
     ]
    },
    {
     "name": "stderr",
     "output_type": "stream",
     "text": [
      "Getting SADs: 100%|██████████| 1/1 [00:00<00:00,  2.35it/s]\n"
     ]
    },
    {
     "name": "stdout",
     "output_type": "stream",
     "text": [
      "Getting phases\n",
      "Setting source to \u001b[96mE:\\data\\my data\\June 2024 imaging\\Day1 variability healthy 30mins\\second fish\\2024-06-19 16.39.55 vid\\Allied Vision Technologies GS650 0001f61c\\651586.tif\u001b[0m\n",
      "Getting reference sequence Reference period: \u001b[96m53.50974729241877\u001b[0m; Reference indices: \u001b[96m[19, 77]\u001b[0m\n"
     ]
    },
    {
     "name": "stderr",
     "output_type": "stream",
     "text": [
      "Getting SADs: 100%|██████████| 1/1 [00:00<00:00,  2.39it/s]\n"
     ]
    },
    {
     "name": "stdout",
     "output_type": "stream",
     "text": [
      "Getting phases\n",
      "Setting source to \u001b[96mE:\\data\\my data\\June 2024 imaging\\Day1 variability healthy 30mins\\second fish\\2024-06-19 16.39.55 vid\\Allied Vision Technologies GS650 0001f61c\\652586.tif\u001b[0m\n",
      "Getting reference sequence Reference period: \u001b[96m53.60898543569489\u001b[0m; Reference indices: \u001b[96m[17, 75]\u001b[0m\n"
     ]
    },
    {
     "name": "stderr",
     "output_type": "stream",
     "text": [
      "Getting SADs: 100%|██████████| 1/1 [00:00<00:00,  2.33it/s]\n"
     ]
    },
    {
     "name": "stdout",
     "output_type": "stream",
     "text": [
      "Getting phases\n",
      "Setting source to \u001b[96mE:\\data\\my data\\June 2024 imaging\\Day1 variability healthy 30mins\\second fish\\2024-06-19 16.39.55 vid\\Allied Vision Technologies GS650 0001f61c\\653586.tif\u001b[0m\n",
      "Getting reference sequence Reference period: \u001b[96m53.335765530735365\u001b[0m; Reference indices: \u001b[96m[18, 76]\u001b[0m\n"
     ]
    },
    {
     "name": "stderr",
     "output_type": "stream",
     "text": [
      "Getting SADs: 100%|██████████| 1/1 [00:00<00:00,  2.32it/s]\n"
     ]
    },
    {
     "name": "stdout",
     "output_type": "stream",
     "text": [
      "Getting phases\n",
      "Setting source to \u001b[96mE:\\data\\my data\\June 2024 imaging\\Day1 variability healthy 30mins\\second fish\\2024-06-19 16.39.55 vid\\Allied Vision Technologies GS650 0001f61c\\654586.tif\u001b[0m\n",
      "Getting reference sequence Reference period: \u001b[96m53.134082318353634\u001b[0m; Reference indices: \u001b[96m[22, 80]\u001b[0m\n"
     ]
    },
    {
     "name": "stderr",
     "output_type": "stream",
     "text": [
      "Getting SADs: 100%|██████████| 1/1 [00:00<00:00,  2.34it/s]\n"
     ]
    },
    {
     "name": "stdout",
     "output_type": "stream",
     "text": [
      "Getting phases\n",
      "Setting source to \u001b[96mE:\\data\\my data\\June 2024 imaging\\Day1 variability healthy 30mins\\second fish\\2024-06-19 16.39.55 vid\\Allied Vision Technologies GS650 0001f61c\\655586.tif\u001b[0m\n",
      "Getting reference sequence Reference period: \u001b[96m52.90698801017319\u001b[0m; Reference indices: \u001b[96m[9, 66]\u001b[0m\n"
     ]
    },
    {
     "name": "stderr",
     "output_type": "stream",
     "text": [
      "Getting SADs: 100%|██████████| 1/1 [00:00<00:00,  2.39it/s]\n"
     ]
    },
    {
     "name": "stdout",
     "output_type": "stream",
     "text": [
      "Getting phases\n",
      "Setting source to \u001b[96mE:\\data\\my data\\June 2024 imaging\\Day1 variability healthy 30mins\\second fish\\2024-06-19 16.39.55 vid\\Allied Vision Technologies GS650 0001f61c\\656586.tif\u001b[0m\n",
      "Getting reference sequence Reference period: \u001b[96m53.399630216587425\u001b[0m; Reference indices: \u001b[96m[11, 69]\u001b[0m\n"
     ]
    },
    {
     "name": "stderr",
     "output_type": "stream",
     "text": [
      "Getting SADs: 100%|██████████| 1/1 [00:00<00:00,  2.31it/s]\n"
     ]
    },
    {
     "name": "stdout",
     "output_type": "stream",
     "text": [
      "Getting phases\n",
      "Setting source to \u001b[96mE:\\data\\my data\\June 2024 imaging\\Day1 variability healthy 30mins\\second fish\\2024-06-19 16.39.55 vid\\Allied Vision Technologies GS650 0001f61c\\657586.tif\u001b[0m\n",
      "Getting reference sequence Reference period: \u001b[96m52.801768048831825\u001b[0m; Reference indices: \u001b[96m[7, 64]\u001b[0m\n"
     ]
    },
    {
     "name": "stderr",
     "output_type": "stream",
     "text": [
      "Getting SADs: 100%|██████████| 1/1 [00:00<00:00,  2.44it/s]\n"
     ]
    },
    {
     "name": "stdout",
     "output_type": "stream",
     "text": [
      "Getting phases\n",
      "Setting source to \u001b[96mE:\\data\\my data\\June 2024 imaging\\Day1 variability healthy 30mins\\second fish\\2024-06-19 16.39.55 vid\\Allied Vision Technologies GS650 0001f61c\\658586.tif\u001b[0m\n",
      "Getting reference sequence Reference period: \u001b[96m52.5110533159948\u001b[0m; Reference indices: \u001b[96m[10, 67]\u001b[0m\n"
     ]
    },
    {
     "name": "stderr",
     "output_type": "stream",
     "text": [
      "Getting SADs: 100%|██████████| 1/1 [00:00<00:00,  2.31it/s]\n"
     ]
    },
    {
     "name": "stdout",
     "output_type": "stream",
     "text": [
      "Getting phases\n",
      "Setting source to \u001b[96mE:\\data\\my data\\June 2024 imaging\\Day1 variability healthy 30mins\\second fish\\2024-06-19 16.39.55 vid\\Allied Vision Technologies GS650 0001f61c\\659586.tif\u001b[0m\n",
      "Getting reference sequence Reference period: \u001b[96m53.05168580115261\u001b[0m; Reference indices: \u001b[96m[12, 70]\u001b[0m\n"
     ]
    },
    {
     "name": "stderr",
     "output_type": "stream",
     "text": [
      "Getting SADs: 100%|██████████| 1/1 [00:00<00:00,  2.38it/s]\n"
     ]
    },
    {
     "name": "stdout",
     "output_type": "stream",
     "text": [
      "Getting phases\n",
      "Setting source to \u001b[96mE:\\data\\my data\\June 2024 imaging\\Day1 variability healthy 30mins\\second fish\\2024-06-19 16.39.55 vid\\Allied Vision Technologies GS650 0001f61c\\660586.tif\u001b[0m\n",
      "Getting reference sequence Reference period: \u001b[96m53.067001535970775\u001b[0m; Reference indices: \u001b[96m[13, 71]\u001b[0m\n"
     ]
    },
    {
     "name": "stderr",
     "output_type": "stream",
     "text": [
      "Getting SADs: 100%|██████████| 1/1 [00:00<00:00,  2.36it/s]\n"
     ]
    },
    {
     "name": "stdout",
     "output_type": "stream",
     "text": [
      "Getting phases\n",
      "Setting source to \u001b[96mE:\\data\\my data\\June 2024 imaging\\Day1 variability healthy 30mins\\second fish\\2024-06-19 16.39.55 vid\\Allied Vision Technologies GS650 0001f61c\\661586.tif\u001b[0m\n",
      "Getting reference sequence Reference period: \u001b[96m52.65163868259606\u001b[0m; Reference indices: \u001b[96m[17, 74]\u001b[0m\n"
     ]
    },
    {
     "name": "stderr",
     "output_type": "stream",
     "text": [
      "Getting SADs: 100%|██████████| 1/1 [00:00<00:00,  2.39it/s]\n"
     ]
    },
    {
     "name": "stdout",
     "output_type": "stream",
     "text": [
      "Getting phases\n",
      "Setting source to \u001b[96mE:\\data\\my data\\June 2024 imaging\\Day1 variability healthy 30mins\\second fish\\2024-06-19 16.39.55 vid\\Allied Vision Technologies GS650 0001f61c\\662586.tif\u001b[0m\n",
      "Getting reference sequence Reference period: \u001b[96m52.64091751790323\u001b[0m; Reference indices: \u001b[96m[15, 72]\u001b[0m\n"
     ]
    },
    {
     "name": "stderr",
     "output_type": "stream",
     "text": [
      "Getting SADs: 100%|██████████| 1/1 [00:00<00:00,  2.40it/s]\n"
     ]
    },
    {
     "name": "stdout",
     "output_type": "stream",
     "text": [
      "Getting phases\n",
      "Setting source to \u001b[96mE:\\data\\my data\\June 2024 imaging\\Day1 variability healthy 30mins\\second fish\\2024-06-19 16.39.55 vid\\Allied Vision Technologies GS650 0001f61c\\663586.tif\u001b[0m\n",
      "Getting reference sequence Reference period: \u001b[96m52.637574759159115\u001b[0m; Reference indices: \u001b[96m[17, 74]\u001b[0m\n"
     ]
    },
    {
     "name": "stderr",
     "output_type": "stream",
     "text": [
      "Getting SADs: 100%|██████████| 1/1 [00:00<00:00,  2.23it/s]\n"
     ]
    },
    {
     "name": "stdout",
     "output_type": "stream",
     "text": [
      "Getting phases\n",
      "Setting source to \u001b[96mE:\\data\\my data\\June 2024 imaging\\Day1 variability healthy 30mins\\second fish\\2024-06-19 16.39.55 vid\\Allied Vision Technologies GS650 0001f61c\\664586.tif\u001b[0m\n",
      "Getting reference sequence Reference period: \u001b[96m53.42386286699083\u001b[0m; Reference indices: \u001b[96m[17, 75]\u001b[0m\n"
     ]
    },
    {
     "name": "stderr",
     "output_type": "stream",
     "text": [
      "Getting SADs: 100%|██████████| 1/1 [00:00<00:00,  2.33it/s]\n"
     ]
    },
    {
     "name": "stdout",
     "output_type": "stream",
     "text": [
      "Getting phases\n",
      "Setting source to \u001b[96mE:\\data\\my data\\June 2024 imaging\\Day1 variability healthy 30mins\\second fish\\2024-06-19 16.39.55 vid\\Allied Vision Technologies GS650 0001f61c\\665586.tif\u001b[0m\n",
      "Getting reference sequence Reference period: \u001b[96m53.13459577785774\u001b[0m; Reference indices: \u001b[96m[18, 76]\u001b[0m\n"
     ]
    },
    {
     "name": "stderr",
     "output_type": "stream",
     "text": [
      "Getting SADs: 100%|██████████| 1/1 [00:00<00:00,  2.37it/s]\n"
     ]
    },
    {
     "name": "stdout",
     "output_type": "stream",
     "text": [
      "Getting phases\n",
      "Setting source to \u001b[96mE:\\data\\my data\\June 2024 imaging\\Day1 variability healthy 30mins\\second fish\\2024-06-19 16.39.55 vid\\Allied Vision Technologies GS650 0001f61c\\666586.tif\u001b[0m\n",
      "Getting reference sequence Reference period: \u001b[96m53.017240233855965\u001b[0m; Reference indices: \u001b[96m[20, 78]\u001b[0m\n"
     ]
    },
    {
     "name": "stderr",
     "output_type": "stream",
     "text": [
      "Getting SADs: 100%|██████████| 1/1 [00:00<00:00,  2.40it/s]\n"
     ]
    },
    {
     "name": "stdout",
     "output_type": "stream",
     "text": [
      "Getting phases\n",
      "Setting source to \u001b[96mE:\\data\\my data\\June 2024 imaging\\Day1 variability healthy 30mins\\second fish\\2024-06-19 16.39.55 vid\\Allied Vision Technologies GS650 0001f61c\\667586.tif\u001b[0m\n",
      "Getting reference sequence Reference period: \u001b[96m52.89264799897711\u001b[0m; Reference indices: \u001b[96m[19, 76]\u001b[0m\n"
     ]
    },
    {
     "name": "stderr",
     "output_type": "stream",
     "text": [
      "Getting SADs: 100%|██████████| 1/1 [00:00<00:00,  2.34it/s]\n"
     ]
    },
    {
     "name": "stdout",
     "output_type": "stream",
     "text": [
      "Getting phases\n",
      "Setting source to \u001b[96mE:\\data\\my data\\June 2024 imaging\\Day1 variability healthy 30mins\\second fish\\2024-06-19 16.39.55 vid\\Allied Vision Technologies GS650 0001f61c\\668586.tif\u001b[0m\n",
      "Getting reference sequence Reference period: \u001b[96m52.65038186950025\u001b[0m; Reference indices: \u001b[96m[21, 78]\u001b[0m\n"
     ]
    },
    {
     "name": "stderr",
     "output_type": "stream",
     "text": [
      "Getting SADs: 100%|██████████| 1/1 [00:00<00:00,  2.42it/s]\n"
     ]
    },
    {
     "name": "stdout",
     "output_type": "stream",
     "text": [
      "Getting phases\n",
      "Setting source to \u001b[96mE:\\data\\my data\\June 2024 imaging\\Day1 variability healthy 30mins\\second fish\\2024-06-19 16.39.55 vid\\Allied Vision Technologies GS650 0001f61c\\669586.tif\u001b[0m\n",
      "Getting reference sequence Reference period: \u001b[96m53.22899513473054\u001b[0m; Reference indices: \u001b[96m[7, 65]\u001b[0m\n"
     ]
    },
    {
     "name": "stderr",
     "output_type": "stream",
     "text": [
      "Getting SADs: 100%|██████████| 1/1 [00:00<00:00,  2.36it/s]\n"
     ]
    },
    {
     "name": "stdout",
     "output_type": "stream",
     "text": [
      "Getting phases\n",
      "Setting source to \u001b[96mE:\\data\\my data\\June 2024 imaging\\Day1 variability healthy 30mins\\second fish\\2024-06-19 16.39.55 vid\\Allied Vision Technologies GS650 0001f61c\\670586.tif\u001b[0m\n",
      "Getting reference sequence Reference period: \u001b[96m53.49176004193696\u001b[0m; Reference indices: \u001b[96m[11, 69]\u001b[0m\n"
     ]
    },
    {
     "name": "stderr",
     "output_type": "stream",
     "text": [
      "Getting SADs: 100%|██████████| 1/1 [00:00<00:00,  2.37it/s]\n"
     ]
    },
    {
     "name": "stdout",
     "output_type": "stream",
     "text": [
      "Getting phases\n",
      "Setting source to \u001b[96mE:\\data\\my data\\June 2024 imaging\\Day1 variability healthy 30mins\\second fish\\2024-06-19 16.39.55 vid\\Allied Vision Technologies GS650 0001f61c\\671586.tif\u001b[0m\n",
      "Getting reference sequence Reference period: \u001b[96m52.81438840840166\u001b[0m; Reference indices: \u001b[96m[15, 72]\u001b[0m\n"
     ]
    },
    {
     "name": "stderr",
     "output_type": "stream",
     "text": [
      "Getting SADs: 100%|██████████| 1/1 [00:00<00:00,  2.42it/s]\n"
     ]
    },
    {
     "name": "stdout",
     "output_type": "stream",
     "text": [
      "Getting phases\n",
      "Setting source to \u001b[96mE:\\data\\my data\\June 2024 imaging\\Day1 variability healthy 30mins\\second fish\\2024-06-19 16.39.55 vid\\Allied Vision Technologies GS650 0001f61c\\672586.tif\u001b[0m\n",
      "Getting reference sequence Reference period: \u001b[96m52.223505732038156\u001b[0m; Reference indices: \u001b[96m[20, 77]\u001b[0m\n"
     ]
    },
    {
     "name": "stderr",
     "output_type": "stream",
     "text": [
      "Getting SADs: 100%|██████████| 1/1 [00:00<00:00,  2.36it/s]\n"
     ]
    },
    {
     "name": "stdout",
     "output_type": "stream",
     "text": [
      "Getting phases\n",
      "Setting source to \u001b[96mE:\\data\\my data\\June 2024 imaging\\Day1 variability healthy 30mins\\second fish\\2024-06-19 16.39.55 vid\\Allied Vision Technologies GS650 0001f61c\\673586.tif\u001b[0m\n",
      "Getting reference sequence Reference period: \u001b[96m53.731272140029176\u001b[0m; Reference indices: \u001b[96m[20, 78]\u001b[0m\n"
     ]
    },
    {
     "name": "stderr",
     "output_type": "stream",
     "text": [
      "Getting SADs: 100%|██████████| 1/1 [00:00<00:00,  2.36it/s]\n"
     ]
    },
    {
     "name": "stdout",
     "output_type": "stream",
     "text": [
      "Getting phases\n",
      "Setting source to \u001b[96mE:\\data\\my data\\June 2024 imaging\\Day1 variability healthy 30mins\\second fish\\2024-06-19 16.39.55 vid\\Allied Vision Technologies GS650 0001f61c\\674586.tif\u001b[0m\n",
      "Getting reference sequence Reference period: \u001b[96m52.6184981054082\u001b[0m; Reference indices: \u001b[96m[21, 78]\u001b[0m\n"
     ]
    },
    {
     "name": "stderr",
     "output_type": "stream",
     "text": [
      "Getting SADs: 100%|██████████| 1/1 [00:00<00:00,  2.42it/s]\n"
     ]
    },
    {
     "name": "stdout",
     "output_type": "stream",
     "text": [
      "Getting phases\n",
      "Setting source to \u001b[96mE:\\data\\my data\\June 2024 imaging\\Day1 variability healthy 30mins\\second fish\\2024-06-19 16.39.55 vid\\Allied Vision Technologies GS650 0001f61c\\675586.tif\u001b[0m\n",
      "Getting reference sequence Reference period: \u001b[96m52.2982995951417\u001b[0m; Reference indices: \u001b[96m[7, 64]\u001b[0m\n"
     ]
    },
    {
     "name": "stderr",
     "output_type": "stream",
     "text": [
      "Getting SADs: 100%|██████████| 1/1 [00:00<00:00,  2.45it/s]\n"
     ]
    },
    {
     "name": "stdout",
     "output_type": "stream",
     "text": [
      "Getting phases\n",
      "Setting source to \u001b[96mE:\\data\\my data\\June 2024 imaging\\Day1 variability healthy 30mins\\second fish\\2024-06-19 16.39.55 vid\\Allied Vision Technologies GS650 0001f61c\\676586.tif\u001b[0m\n",
      "Getting reference sequence Reference period: \u001b[96m53.182508409418546\u001b[0m; Reference indices: \u001b[96m[11, 69]\u001b[0m\n"
     ]
    },
    {
     "name": "stderr",
     "output_type": "stream",
     "text": [
      "Getting SADs: 100%|██████████| 1/1 [00:00<00:00,  2.34it/s]\n"
     ]
    },
    {
     "name": "stdout",
     "output_type": "stream",
     "text": [
      "Getting phases\n",
      "Setting source to \u001b[96mE:\\data\\my data\\June 2024 imaging\\Day1 variability healthy 30mins\\second fish\\2024-06-19 16.39.55 vid\\Allied Vision Technologies GS650 0001f61c\\677586.tif\u001b[0m\n",
      "Getting reference sequence Reference period: \u001b[96m52.255165252895004\u001b[0m; Reference indices: \u001b[96m[8, 65]\u001b[0m\n"
     ]
    },
    {
     "name": "stderr",
     "output_type": "stream",
     "text": [
      "Getting SADs: 100%|██████████| 1/1 [00:00<00:00,  2.41it/s]\n"
     ]
    },
    {
     "name": "stdout",
     "output_type": "stream",
     "text": [
      "Getting phases\n",
      "Setting source to \u001b[96mE:\\data\\my data\\June 2024 imaging\\Day1 variability healthy 30mins\\second fish\\2024-06-19 16.39.55 vid\\Allied Vision Technologies GS650 0001f61c\\678586.tif\u001b[0m\n",
      "Getting reference sequence Reference period: \u001b[96m52.48179394151331\u001b[0m; Reference indices: \u001b[96m[18, 75]\u001b[0m\n"
     ]
    },
    {
     "name": "stderr",
     "output_type": "stream",
     "text": [
      "Getting SADs: 100%|██████████| 1/1 [00:00<00:00,  2.44it/s]\n"
     ]
    },
    {
     "name": "stdout",
     "output_type": "stream",
     "text": [
      "Getting phases\n",
      "Setting source to \u001b[96mE:\\data\\my data\\June 2024 imaging\\Day1 variability healthy 30mins\\second fish\\2024-06-19 16.39.55 vid\\Allied Vision Technologies GS650 0001f61c\\679586.tif\u001b[0m\n",
      "Getting reference sequence Reference period: \u001b[96m53.72704551801173\u001b[0m; Reference indices: \u001b[96m[18, 76]\u001b[0m\n"
     ]
    },
    {
     "name": "stderr",
     "output_type": "stream",
     "text": [
      "Getting SADs: 100%|██████████| 1/1 [00:00<00:00,  2.24it/s]\n"
     ]
    },
    {
     "name": "stdout",
     "output_type": "stream",
     "text": [
      "Getting phases\n",
      "Setting source to \u001b[96mE:\\data\\my data\\June 2024 imaging\\Day1 variability healthy 30mins\\second fish\\2024-06-19 16.39.55 vid\\Allied Vision Technologies GS650 0001f61c\\680586.tif\u001b[0m\n",
      "Getting reference sequence Reference period: \u001b[96m52.52895104895105\u001b[0m; Reference indices: \u001b[96m[17, 74]\u001b[0m\n"
     ]
    },
    {
     "name": "stderr",
     "output_type": "stream",
     "text": [
      "Getting SADs: 100%|██████████| 1/1 [00:00<00:00,  2.36it/s]\n"
     ]
    },
    {
     "name": "stdout",
     "output_type": "stream",
     "text": [
      "Getting phases\n",
      "Setting source to \u001b[96mE:\\data\\my data\\June 2024 imaging\\Day1 variability healthy 30mins\\second fish\\2024-06-19 16.39.55 vid\\Allied Vision Technologies GS650 0001f61c\\681586.tif\u001b[0m\n",
      "Getting reference sequence Reference period: \u001b[96m52.587224753227034\u001b[0m; Reference indices: \u001b[96m[20, 77]\u001b[0m\n"
     ]
    },
    {
     "name": "stderr",
     "output_type": "stream",
     "text": [
      "Getting SADs: 100%|██████████| 1/1 [00:00<00:00,  2.36it/s]\n"
     ]
    },
    {
     "name": "stdout",
     "output_type": "stream",
     "text": [
      "Getting phases\n",
      "Setting source to \u001b[96mE:\\data\\my data\\June 2024 imaging\\Day1 variability healthy 30mins\\second fish\\2024-06-19 16.39.55 vid\\Allied Vision Technologies GS650 0001f61c\\682586.tif\u001b[0m\n",
      "Getting reference sequence Reference period: \u001b[96m52.6655119774542\u001b[0m; Reference indices: \u001b[96m[17, 74]\u001b[0m\n"
     ]
    },
    {
     "name": "stderr",
     "output_type": "stream",
     "text": [
      "Getting SADs: 100%|██████████| 1/1 [00:00<00:00,  2.38it/s]\n"
     ]
    },
    {
     "name": "stdout",
     "output_type": "stream",
     "text": [
      "Getting phases\n",
      "Setting source to \u001b[96mE:\\data\\my data\\June 2024 imaging\\Day1 variability healthy 30mins\\second fish\\2024-06-19 16.39.55 vid\\Allied Vision Technologies GS650 0001f61c\\683586.tif\u001b[0m\n",
      "Getting reference sequence Reference period: \u001b[96m52.83064949006978\u001b[0m; Reference indices: \u001b[96m[8, 65]\u001b[0m\n"
     ]
    },
    {
     "name": "stderr",
     "output_type": "stream",
     "text": [
      "Getting SADs: 100%|██████████| 1/1 [00:00<00:00,  2.34it/s]\n"
     ]
    },
    {
     "name": "stdout",
     "output_type": "stream",
     "text": [
      "Getting phases\n",
      "Setting source to \u001b[96mE:\\data\\my data\\June 2024 imaging\\Day1 variability healthy 30mins\\second fish\\2024-06-19 16.39.55 vid\\Allied Vision Technologies GS650 0001f61c\\684586.tif\u001b[0m\n",
      "Getting reference sequence Reference period: \u001b[96m52.397766975543064\u001b[0m; Reference indices: \u001b[96m[9, 66]\u001b[0m\n"
     ]
    },
    {
     "name": "stderr",
     "output_type": "stream",
     "text": [
      "Getting SADs: 100%|██████████| 1/1 [00:00<00:00,  2.37it/s]\n"
     ]
    },
    {
     "name": "stdout",
     "output_type": "stream",
     "text": [
      "Getting phases\n",
      "Setting source to \u001b[96mE:\\data\\my data\\June 2024 imaging\\Day1 variability healthy 30mins\\second fish\\2024-06-19 16.39.55 vid\\Allied Vision Technologies GS650 0001f61c\\685586.tif\u001b[0m\n",
      "Getting reference sequence Reference period: \u001b[96m53.06105859343167\u001b[0m; Reference indices: \u001b[96m[10, 68]\u001b[0m\n"
     ]
    },
    {
     "name": "stderr",
     "output_type": "stream",
     "text": [
      "Getting SADs: 100%|██████████| 1/1 [00:00<00:00,  2.37it/s]\n"
     ]
    },
    {
     "name": "stdout",
     "output_type": "stream",
     "text": [
      "Getting phases\n",
      "Setting source to \u001b[96mE:\\data\\my data\\June 2024 imaging\\Day1 variability healthy 30mins\\second fish\\2024-06-19 16.39.55 vid\\Allied Vision Technologies GS650 0001f61c\\686586.tif\u001b[0m\n",
      "Getting reference sequence Reference period: \u001b[96m53.33376740821125\u001b[0m; Reference indices: \u001b[96m[10, 68]\u001b[0m\n"
     ]
    },
    {
     "name": "stderr",
     "output_type": "stream",
     "text": [
      "Getting SADs: 100%|██████████| 1/1 [00:00<00:00,  2.38it/s]\n"
     ]
    },
    {
     "name": "stdout",
     "output_type": "stream",
     "text": [
      "Getting phases\n",
      "Setting source to \u001b[96mE:\\data\\my data\\June 2024 imaging\\Day1 variability healthy 30mins\\second fish\\2024-06-19 16.39.55 vid\\Allied Vision Technologies GS650 0001f61c\\687586.tif\u001b[0m\n",
      "Getting reference sequence Reference period: \u001b[96m53.897024737662775\u001b[0m; Reference indices: \u001b[96m[18, 76]\u001b[0m\n"
     ]
    },
    {
     "name": "stderr",
     "output_type": "stream",
     "text": [
      "Getting SADs: 100%|██████████| 1/1 [00:00<00:00,  2.11it/s]\n"
     ]
    },
    {
     "name": "stdout",
     "output_type": "stream",
     "text": [
      "Getting phases\n",
      "Setting source to \u001b[96mE:\\data\\my data\\June 2024 imaging\\Day1 variability healthy 30mins\\second fish\\2024-06-19 16.39.55 vid\\Allied Vision Technologies GS650 0001f61c\\688586.tif\u001b[0m\n",
      "Getting reference sequence Reference period: \u001b[96m52.68922022775526\u001b[0m; Reference indices: \u001b[96m[18, 75]\u001b[0m\n"
     ]
    },
    {
     "name": "stderr",
     "output_type": "stream",
     "text": [
      "Getting SADs: 100%|██████████| 1/1 [00:00<00:00,  2.14it/s]\n"
     ]
    },
    {
     "name": "stdout",
     "output_type": "stream",
     "text": [
      "Getting phases\n",
      "Setting source to \u001b[96mE:\\data\\my data\\June 2024 imaging\\Day1 variability healthy 30mins\\second fish\\2024-06-19 16.39.55 vid\\Allied Vision Technologies GS650 0001f61c\\689586.tif\u001b[0m\n",
      "Getting reference sequence Reference period: \u001b[96m52.7540461660918\u001b[0m; Reference indices: \u001b[96m[23, 80]\u001b[0m\n"
     ]
    },
    {
     "name": "stderr",
     "output_type": "stream",
     "text": [
      "Getting SADs: 100%|██████████| 1/1 [00:00<00:00,  2.43it/s]\n"
     ]
    },
    {
     "name": "stdout",
     "output_type": "stream",
     "text": [
      "Getting phases\n",
      "Setting source to \u001b[96mE:\\data\\my data\\June 2024 imaging\\Day1 variability healthy 30mins\\second fish\\2024-06-19 16.39.55 vid\\Allied Vision Technologies GS650 0001f61c\\690586.tif\u001b[0m\n",
      "Getting reference sequence Reference period: \u001b[96m52.1710947980325\u001b[0m; Reference indices: \u001b[96m[20, 77]\u001b[0m\n"
     ]
    },
    {
     "name": "stderr",
     "output_type": "stream",
     "text": [
      "Getting SADs: 100%|██████████| 1/1 [00:00<00:00,  2.37it/s]\n"
     ]
    },
    {
     "name": "stdout",
     "output_type": "stream",
     "text": [
      "Getting phases\n",
      "Setting source to \u001b[96mE:\\data\\my data\\June 2024 imaging\\Day1 variability healthy 30mins\\second fish\\2024-06-19 16.39.55 vid\\Allied Vision Technologies GS650 0001f61c\\691586.tif\u001b[0m\n",
      "Getting reference sequence Reference period: \u001b[96m53.12970051790137\u001b[0m; Reference indices: \u001b[96m[19, 77]\u001b[0m\n"
     ]
    },
    {
     "name": "stderr",
     "output_type": "stream",
     "text": [
      "Getting SADs: 100%|██████████| 1/1 [00:00<00:00,  2.37it/s]\n"
     ]
    },
    {
     "name": "stdout",
     "output_type": "stream",
     "text": [
      "Getting phases\n",
      "Setting source to \u001b[96mE:\\data\\my data\\June 2024 imaging\\Day1 variability healthy 30mins\\second fish\\2024-06-19 16.39.55 vid\\Allied Vision Technologies GS650 0001f61c\\692586.tif\u001b[0m\n",
      "Getting reference sequence Reference period: \u001b[96m53.374089694235344\u001b[0m; Reference indices: \u001b[96m[21, 79]\u001b[0m\n"
     ]
    },
    {
     "name": "stderr",
     "output_type": "stream",
     "text": [
      "Getting SADs: 100%|██████████| 1/1 [00:00<00:00,  2.38it/s]\n"
     ]
    },
    {
     "name": "stdout",
     "output_type": "stream",
     "text": [
      "Getting phases\n",
      "Setting source to \u001b[96mE:\\data\\my data\\June 2024 imaging\\Day1 variability healthy 30mins\\second fish\\2024-06-19 16.39.55 vid\\Allied Vision Technologies GS650 0001f61c\\693586.tif\u001b[0m\n",
      "Getting reference sequence Reference period: \u001b[96m51.73130148865443\u001b[0m; Reference indices: \u001b[96m[20, 76]\u001b[0m\n"
     ]
    },
    {
     "name": "stderr",
     "output_type": "stream",
     "text": [
      "Getting SADs: 100%|██████████| 1/1 [00:00<00:00,  2.41it/s]\n"
     ]
    },
    {
     "name": "stdout",
     "output_type": "stream",
     "text": [
      "Getting phases\n",
      "Setting source to \u001b[96mE:\\data\\my data\\June 2024 imaging\\Day1 variability healthy 30mins\\second fish\\2024-06-19 16.39.55 vid\\Allied Vision Technologies GS650 0001f61c\\694586.tif\u001b[0m\n",
      "Getting reference sequence Reference period: \u001b[96m51.83661772787941\u001b[0m; Reference indices: \u001b[96m[19, 75]\u001b[0m\n"
     ]
    },
    {
     "name": "stderr",
     "output_type": "stream",
     "text": [
      "Getting SADs: 100%|██████████| 1/1 [00:00<00:00,  2.36it/s]\n"
     ]
    },
    {
     "name": "stdout",
     "output_type": "stream",
     "text": [
      "Getting phases\n",
      "Setting source to \u001b[96mE:\\data\\my data\\June 2024 imaging\\Day1 variability healthy 30mins\\second fish\\2024-06-19 16.39.55 vid\\Allied Vision Technologies GS650 0001f61c\\695586.tif\u001b[0m\n",
      "Getting reference sequence Reference period: \u001b[96m52.14866592436802\u001b[0m; Reference indices: \u001b[96m[17, 74]\u001b[0m\n"
     ]
    },
    {
     "name": "stderr",
     "output_type": "stream",
     "text": [
      "Getting SADs: 100%|██████████| 1/1 [00:00<00:00,  2.38it/s]\n"
     ]
    },
    {
     "name": "stdout",
     "output_type": "stream",
     "text": [
      "Getting phases\n",
      "Setting source to \u001b[96mE:\\data\\my data\\June 2024 imaging\\Day1 variability healthy 30mins\\second fish\\2024-06-19 16.39.55 vid\\Allied Vision Technologies GS650 0001f61c\\696586.tif\u001b[0m\n",
      "Getting reference sequence Reference period: \u001b[96m52.544798680775045\u001b[0m; Reference indices: \u001b[96m[17, 74]\u001b[0m\n"
     ]
    },
    {
     "name": "stderr",
     "output_type": "stream",
     "text": [
      "Getting SADs: 100%|██████████| 1/1 [00:00<00:00,  2.37it/s]\n"
     ]
    },
    {
     "name": "stdout",
     "output_type": "stream",
     "text": [
      "Getting phases\n",
      "Setting source to \u001b[96mE:\\data\\my data\\June 2024 imaging\\Day1 variability healthy 30mins\\second fish\\2024-06-19 16.39.55 vid\\Allied Vision Technologies GS650 0001f61c\\697586.tif\u001b[0m\n",
      "Getting reference sequence Reference period: \u001b[96m52.4286647284372\u001b[0m; Reference indices: \u001b[96m[16, 73]\u001b[0m\n"
     ]
    },
    {
     "name": "stderr",
     "output_type": "stream",
     "text": [
      "Getting SADs: 100%|██████████| 1/1 [00:00<00:00,  2.37it/s]\n"
     ]
    },
    {
     "name": "stdout",
     "output_type": "stream",
     "text": [
      "Getting phases\n",
      "Setting source to \u001b[96mE:\\data\\my data\\June 2024 imaging\\Day1 variability healthy 30mins\\second fish\\2024-06-19 16.39.55 vid\\Allied Vision Technologies GS650 0001f61c\\698586.tif\u001b[0m\n",
      "Getting reference sequence Reference period: \u001b[96m53.27649802914693\u001b[0m; Reference indices: \u001b[96m[13, 71]\u001b[0m\n"
     ]
    },
    {
     "name": "stderr",
     "output_type": "stream",
     "text": [
      "Getting SADs: 100%|██████████| 1/1 [00:00<00:00,  2.37it/s]\n"
     ]
    },
    {
     "name": "stdout",
     "output_type": "stream",
     "text": [
      "Getting phases\n",
      "Setting source to \u001b[96mE:\\data\\my data\\June 2024 imaging\\Day1 variability healthy 30mins\\second fish\\2024-06-19 16.39.55 vid\\Allied Vision Technologies GS650 0001f61c\\699586.tif\u001b[0m\n",
      "Getting reference sequence Reference period: \u001b[96m52.88758717968811\u001b[0m; Reference indices: \u001b[96m[13, 70]\u001b[0m\n"
     ]
    },
    {
     "name": "stderr",
     "output_type": "stream",
     "text": [
      "Getting SADs: 100%|██████████| 1/1 [00:00<00:00,  2.37it/s]\n"
     ]
    },
    {
     "name": "stdout",
     "output_type": "stream",
     "text": [
      "Getting phases\n",
      "Setting source to \u001b[96mE:\\data\\my data\\June 2024 imaging\\Day1 variability healthy 30mins\\second fish\\2024-06-19 16.39.55 vid\\Allied Vision Technologies GS650 0001f61c\\700586.tif\u001b[0m\n",
      "Getting reference sequence Reference period: \u001b[96m52.13330626896287\u001b[0m; Reference indices: \u001b[96m[16, 73]\u001b[0m\n"
     ]
    },
    {
     "name": "stderr",
     "output_type": "stream",
     "text": [
      "Getting SADs: 100%|██████████| 1/1 [00:00<00:00,  2.38it/s]\n"
     ]
    },
    {
     "name": "stdout",
     "output_type": "stream",
     "text": [
      "Getting phases\n",
      "Setting source to \u001b[96mE:\\data\\my data\\June 2024 imaging\\Day1 variability healthy 30mins\\second fish\\2024-06-19 16.39.55 vid\\Allied Vision Technologies GS650 0001f61c\\701586.tif\u001b[0m\n",
      "Getting reference sequence Reference period: \u001b[96m51.78974059271548\u001b[0m; Reference indices: \u001b[96m[12, 68]\u001b[0m\n"
     ]
    },
    {
     "name": "stderr",
     "output_type": "stream",
     "text": [
      "Getting SADs: 100%|██████████| 1/1 [00:00<00:00,  2.37it/s]\n"
     ]
    },
    {
     "name": "stdout",
     "output_type": "stream",
     "text": [
      "Getting phases\n",
      "Setting source to \u001b[96mE:\\data\\my data\\June 2024 imaging\\Day1 variability healthy 30mins\\second fish\\2024-06-19 16.39.55 vid\\Allied Vision Technologies GS650 0001f61c\\702586.tif\u001b[0m\n",
      "Getting reference sequence Reference period: \u001b[96m52.510514336186986\u001b[0m; Reference indices: \u001b[96m[10, 67]\u001b[0m\n"
     ]
    },
    {
     "name": "stderr",
     "output_type": "stream",
     "text": [
      "Getting SADs: 100%|██████████| 1/1 [00:00<00:00,  2.39it/s]\n"
     ]
    },
    {
     "name": "stdout",
     "output_type": "stream",
     "text": [
      "Getting phases\n",
      "Setting source to \u001b[96mE:\\data\\my data\\June 2024 imaging\\Day1 variability healthy 30mins\\second fish\\2024-06-19 16.39.55 vid\\Allied Vision Technologies GS650 0001f61c\\703586.tif\u001b[0m\n",
      "Getting reference sequence Reference period: \u001b[96m53.582221123743615\u001b[0m; Reference indices: \u001b[96m[7, 65]\u001b[0m\n"
     ]
    },
    {
     "name": "stderr",
     "output_type": "stream",
     "text": [
      "Getting SADs: 100%|██████████| 1/1 [00:00<00:00,  2.36it/s]\n"
     ]
    },
    {
     "name": "stdout",
     "output_type": "stream",
     "text": [
      "Getting phases\n",
      "Setting source to \u001b[96mE:\\data\\my data\\June 2024 imaging\\Day1 variability healthy 30mins\\second fish\\2024-06-19 16.39.55 vid\\Allied Vision Technologies GS650 0001f61c\\704586.tif\u001b[0m\n",
      "Getting reference sequence Reference period: \u001b[96m52.191452579981615\u001b[0m; Reference indices: \u001b[96m[7, 64]\u001b[0m\n"
     ]
    },
    {
     "name": "stderr",
     "output_type": "stream",
     "text": [
      "Getting SADs: 100%|██████████| 1/1 [00:00<00:00,  2.38it/s]\n"
     ]
    },
    {
     "name": "stdout",
     "output_type": "stream",
     "text": [
      "Getting phases\n",
      "Setting source to \u001b[96mE:\\data\\my data\\June 2024 imaging\\Day1 variability healthy 30mins\\second fish\\2024-06-19 16.39.55 vid\\Allied Vision Technologies GS650 0001f61c\\705586.tif\u001b[0m\n",
      "Getting reference sequence Reference period: \u001b[96m51.74840567784406\u001b[0m; Reference indices: \u001b[96m[13, 69]\u001b[0m\n"
     ]
    },
    {
     "name": "stderr",
     "output_type": "stream",
     "text": [
      "Getting SADs: 100%|██████████| 1/1 [00:00<00:00,  2.43it/s]\n"
     ]
    },
    {
     "name": "stdout",
     "output_type": "stream",
     "text": [
      "Getting phases\n",
      "Setting source to \u001b[96mE:\\data\\my data\\June 2024 imaging\\Day1 variability healthy 30mins\\second fish\\2024-06-19 16.39.55 vid\\Allied Vision Technologies GS650 0001f61c\\706586.tif\u001b[0m\n",
      "Getting reference sequence Reference period: \u001b[96m52.702784839718305\u001b[0m; Reference indices: \u001b[96m[11, 68]\u001b[0m\n"
     ]
    },
    {
     "name": "stderr",
     "output_type": "stream",
     "text": [
      "Getting SADs: 100%|██████████| 1/1 [00:00<00:00,  2.39it/s]\n"
     ]
    },
    {
     "name": "stdout",
     "output_type": "stream",
     "text": [
      "Getting phases\n",
      "Setting source to \u001b[96mE:\\data\\my data\\June 2024 imaging\\Day1 variability healthy 30mins\\second fish\\2024-06-19 16.39.55 vid\\Allied Vision Technologies GS650 0001f61c\\707586.tif\u001b[0m\n",
      "Getting reference sequence Reference period: \u001b[96m52.28454619787408\u001b[0m; Reference indices: \u001b[96m[13, 70]\u001b[0m\n"
     ]
    },
    {
     "name": "stderr",
     "output_type": "stream",
     "text": [
      "Getting SADs: 100%|██████████| 1/1 [00:00<00:00,  2.39it/s]\n"
     ]
    },
    {
     "name": "stdout",
     "output_type": "stream",
     "text": [
      "Getting phases\n",
      "Setting source to \u001b[96mE:\\data\\my data\\June 2024 imaging\\Day1 variability healthy 30mins\\second fish\\2024-06-19 16.39.55 vid\\Allied Vision Technologies GS650 0001f61c\\708586.tif\u001b[0m\n",
      "Getting reference sequence Reference period: \u001b[96m51.900895856662935\u001b[0m; Reference indices: \u001b[96m[10, 66]\u001b[0m\n"
     ]
    },
    {
     "name": "stderr",
     "output_type": "stream",
     "text": [
      "Getting SADs: 100%|██████████| 1/1 [00:00<00:00,  2.48it/s]\n"
     ]
    },
    {
     "name": "stdout",
     "output_type": "stream",
     "text": [
      "Getting phases\n",
      "Setting source to \u001b[96mE:\\data\\my data\\June 2024 imaging\\Day1 variability healthy 30mins\\second fish\\2024-06-19 16.39.55 vid\\Allied Vision Technologies GS650 0001f61c\\709586.tif\u001b[0m\n",
      "Getting reference sequence Reference period: \u001b[96m51.72182254196643\u001b[0m; Reference indices: \u001b[96m[23, 79]\u001b[0m\n"
     ]
    },
    {
     "name": "stderr",
     "output_type": "stream",
     "text": [
      "Getting SADs: 100%|██████████| 1/1 [00:00<00:00,  2.11it/s]\n"
     ]
    },
    {
     "name": "stdout",
     "output_type": "stream",
     "text": [
      "Getting phases\n",
      "Setting source to \u001b[96mE:\\data\\my data\\June 2024 imaging\\Day1 variability healthy 30mins\\second fish\\2024-06-19 16.39.55 vid\\Allied Vision Technologies GS650 0001f61c\\710586.tif\u001b[0m\n",
      "Getting reference sequence Reference period: \u001b[96m52.61862140681869\u001b[0m; Reference indices: \u001b[96m[18, 75]\u001b[0m\n"
     ]
    },
    {
     "name": "stderr",
     "output_type": "stream",
     "text": [
      "Getting SADs: 100%|██████████| 1/1 [00:00<00:00,  2.31it/s]\n"
     ]
    },
    {
     "name": "stdout",
     "output_type": "stream",
     "text": [
      "Getting phases\n",
      "Setting source to \u001b[96mE:\\data\\my data\\June 2024 imaging\\Day1 variability healthy 30mins\\second fish\\2024-06-19 16.39.55 vid\\Allied Vision Technologies GS650 0001f61c\\711586.tif\u001b[0m\n",
      "Getting reference sequence Reference period: \u001b[96m52.64236030605147\u001b[0m; Reference indices: \u001b[96m[23, 80]\u001b[0m\n"
     ]
    },
    {
     "name": "stderr",
     "output_type": "stream",
     "text": [
      "Getting SADs: 100%|██████████| 1/1 [00:00<00:00,  2.31it/s]\n"
     ]
    },
    {
     "name": "stdout",
     "output_type": "stream",
     "text": [
      "Getting phases\n",
      "Setting source to \u001b[96mE:\\data\\my data\\June 2024 imaging\\Day1 variability healthy 30mins\\second fish\\2024-06-19 16.39.55 vid\\Allied Vision Technologies GS650 0001f61c\\712586.tif\u001b[0m\n",
      "Getting reference sequence Reference period: \u001b[96m52.36229086229086\u001b[0m; Reference indices: \u001b[96m[19, 76]\u001b[0m\n"
     ]
    },
    {
     "name": "stderr",
     "output_type": "stream",
     "text": [
      "Getting SADs: 100%|██████████| 1/1 [00:00<00:00,  1.91it/s]\n"
     ]
    },
    {
     "name": "stdout",
     "output_type": "stream",
     "text": [
      "Getting phases\n",
      "Setting source to \u001b[96mE:\\data\\my data\\June 2024 imaging\\Day1 variability healthy 30mins\\second fish\\2024-06-19 16.39.55 vid\\Allied Vision Technologies GS650 0001f61c\\713586.tif\u001b[0m\n",
      "Getting reference sequence Reference period: \u001b[96m52.626733673985065\u001b[0m; Reference indices: \u001b[96m[21, 78]\u001b[0m\n"
     ]
    },
    {
     "name": "stderr",
     "output_type": "stream",
     "text": [
      "Getting SADs: 100%|██████████| 1/1 [00:00<00:00,  2.06it/s]\n"
     ]
    },
    {
     "name": "stdout",
     "output_type": "stream",
     "text": [
      "Getting phases\n",
      "Setting source to \u001b[96mE:\\data\\my data\\June 2024 imaging\\Day1 variability healthy 30mins\\second fish\\2024-06-19 16.39.55 vid\\Allied Vision Technologies GS650 0001f61c\\714586.tif\u001b[0m\n",
      "Getting reference sequence Reference period: \u001b[96m52.11518699964154\u001b[0m; Reference indices: \u001b[96m[18, 75]\u001b[0m\n"
     ]
    },
    {
     "name": "stderr",
     "output_type": "stream",
     "text": [
      "Getting SADs: 100%|██████████| 1/1 [00:00<00:00,  2.07it/s]\n"
     ]
    },
    {
     "name": "stdout",
     "output_type": "stream",
     "text": [
      "Getting phases\n",
      "Setting source to \u001b[96mE:\\data\\my data\\June 2024 imaging\\Day1 variability healthy 30mins\\second fish\\2024-06-19 16.39.55 vid\\Allied Vision Technologies GS650 0001f61c\\715586.tif\u001b[0m\n",
      "Getting reference sequence Reference period: \u001b[96m52.62645875251509\u001b[0m; Reference indices: \u001b[96m[17, 74]\u001b[0m\n"
     ]
    },
    {
     "name": "stderr",
     "output_type": "stream",
     "text": [
      "Getting SADs: 100%|██████████| 1/1 [00:00<00:00,  2.40it/s]\n"
     ]
    },
    {
     "name": "stdout",
     "output_type": "stream",
     "text": [
      "Getting phases\n",
      "Setting source to \u001b[96mE:\\data\\my data\\June 2024 imaging\\Day1 variability healthy 30mins\\second fish\\2024-06-19 16.39.55 vid\\Allied Vision Technologies GS650 0001f61c\\716586.tif\u001b[0m\n",
      "Getting reference sequence Reference period: \u001b[96m51.935237474659715\u001b[0m; Reference indices: \u001b[96m[16, 72]\u001b[0m\n"
     ]
    },
    {
     "name": "stderr",
     "output_type": "stream",
     "text": [
      "Getting SADs: 100%|██████████| 1/1 [00:00<00:00,  2.42it/s]\n"
     ]
    },
    {
     "name": "stdout",
     "output_type": "stream",
     "text": [
      "Getting phases\n",
      "Setting source to \u001b[96mE:\\data\\my data\\June 2024 imaging\\Day1 variability healthy 30mins\\second fish\\2024-06-19 16.39.55 vid\\Allied Vision Technologies GS650 0001f61c\\717586.tif\u001b[0m\n",
      "Getting reference sequence Reference period: \u001b[96m52.65290018832392\u001b[0m; Reference indices: \u001b[96m[12, 69]\u001b[0m\n"
     ]
    },
    {
     "name": "stderr",
     "output_type": "stream",
     "text": [
      "Getting SADs: 100%|██████████| 1/1 [00:00<00:00,  2.34it/s]\n"
     ]
    },
    {
     "name": "stdout",
     "output_type": "stream",
     "text": [
      "Getting phases\n",
      "Setting source to \u001b[96mE:\\data\\my data\\June 2024 imaging\\Day1 variability healthy 30mins\\second fish\\2024-06-19 16.39.55 vid\\Allied Vision Technologies GS650 0001f61c\\718586.tif\u001b[0m\n",
      "Getting reference sequence Reference period: \u001b[96m52.15407830342578\u001b[0m; Reference indices: \u001b[96m[8, 65]\u001b[0m\n"
     ]
    },
    {
     "name": "stderr",
     "output_type": "stream",
     "text": [
      "Getting SADs: 100%|██████████| 1/1 [00:00<00:00,  2.40it/s]\n"
     ]
    },
    {
     "name": "stdout",
     "output_type": "stream",
     "text": [
      "Getting phases\n",
      "Setting source to \u001b[96mE:\\data\\my data\\June 2024 imaging\\Day1 variability healthy 30mins\\second fish\\2024-06-19 16.39.55 vid\\Allied Vision Technologies GS650 0001f61c\\719586.tif\u001b[0m\n",
      "Getting reference sequence Reference period: \u001b[96m52.053748762925295\u001b[0m; Reference indices: \u001b[96m[9, 66]\u001b[0m\n"
     ]
    },
    {
     "name": "stderr",
     "output_type": "stream",
     "text": [
      "Getting SADs: 100%|██████████| 1/1 [00:00<00:00,  2.37it/s]\n"
     ]
    },
    {
     "name": "stdout",
     "output_type": "stream",
     "text": [
      "Getting phases\n",
      "Setting source to \u001b[96mE:\\data\\my data\\June 2024 imaging\\Day1 variability healthy 30mins\\second fish\\2024-06-19 16.39.55 vid\\Allied Vision Technologies GS650 0001f61c\\720586.tif\u001b[0m\n",
      "Getting reference sequence Reference period: \u001b[96m52.402952913008775\u001b[0m; Reference indices: \u001b[96m[10, 67]\u001b[0m\n"
     ]
    },
    {
     "name": "stderr",
     "output_type": "stream",
     "text": [
      "Getting SADs: 100%|██████████| 1/1 [00:00<00:00,  2.34it/s]\n"
     ]
    },
    {
     "name": "stdout",
     "output_type": "stream",
     "text": [
      "Getting phases\n",
      "Setting source to \u001b[96mE:\\data\\my data\\June 2024 imaging\\Day1 variability healthy 30mins\\second fish\\2024-06-19 16.39.55 vid\\Allied Vision Technologies GS650 0001f61c\\721586.tif\u001b[0m\n",
      "Getting reference sequence Reference period: \u001b[96m52.08941545325736\u001b[0m; Reference indices: \u001b[96m[8, 65]\u001b[0m\n"
     ]
    },
    {
     "name": "stderr",
     "output_type": "stream",
     "text": [
      "Getting SADs: 100%|██████████| 1/1 [00:00<00:00,  2.35it/s]\n"
     ]
    },
    {
     "name": "stdout",
     "output_type": "stream",
     "text": [
      "Getting phases\n",
      "Setting source to \u001b[96mE:\\data\\my data\\June 2024 imaging\\Day1 variability healthy 30mins\\second fish\\2024-06-19 16.39.55 vid\\Allied Vision Technologies GS650 0001f61c\\722586.tif\u001b[0m\n",
      "Getting reference sequence Reference period: \u001b[96m53.057688170390634\u001b[0m; Reference indices: \u001b[96m[7, 65]\u001b[0m\n"
     ]
    },
    {
     "name": "stderr",
     "output_type": "stream",
     "text": [
      "Getting SADs: 100%|██████████| 1/1 [00:00<00:00,  2.37it/s]\n"
     ]
    },
    {
     "name": "stdout",
     "output_type": "stream",
     "text": [
      "Getting phases\n",
      "Setting source to \u001b[96mE:\\data\\my data\\June 2024 imaging\\Day1 variability healthy 30mins\\second fish\\2024-06-19 16.39.55 vid\\Allied Vision Technologies GS650 0001f61c\\723586.tif\u001b[0m\n",
      "Getting reference sequence Reference period: \u001b[96m52.60752515735878\u001b[0m; Reference indices: \u001b[96m[12, 69]\u001b[0m\n"
     ]
    },
    {
     "name": "stderr",
     "output_type": "stream",
     "text": [
      "Getting SADs: 100%|██████████| 1/1 [00:00<00:00,  2.38it/s]\n"
     ]
    },
    {
     "name": "stdout",
     "output_type": "stream",
     "text": [
      "Getting phases\n",
      "Setting source to \u001b[96mE:\\data\\my data\\June 2024 imaging\\Day1 variability healthy 30mins\\second fish\\2024-06-19 16.39.55 vid\\Allied Vision Technologies GS650 0001f61c\\724586.tif\u001b[0m\n",
      "Getting reference sequence Reference period: \u001b[96m52.7739078216484\u001b[0m; Reference indices: \u001b[96m[10, 67]\u001b[0m\n"
     ]
    },
    {
     "name": "stderr",
     "output_type": "stream",
     "text": [
      "Getting SADs: 100%|██████████| 1/1 [00:00<00:00,  2.41it/s]\n"
     ]
    },
    {
     "name": "stdout",
     "output_type": "stream",
     "text": [
      "Getting phases\n",
      "Setting source to \u001b[96mE:\\data\\my data\\June 2024 imaging\\Day1 variability healthy 30mins\\second fish\\2024-06-19 16.39.55 vid\\Allied Vision Technologies GS650 0001f61c\\725586.tif\u001b[0m\n",
      "Getting reference sequence Reference period: \u001b[96m52.42971482378262\u001b[0m; Reference indices: \u001b[96m[7, 64]\u001b[0m\n"
     ]
    },
    {
     "name": "stderr",
     "output_type": "stream",
     "text": [
      "Getting SADs: 100%|██████████| 1/1 [00:00<00:00,  2.35it/s]\n"
     ]
    },
    {
     "name": "stdout",
     "output_type": "stream",
     "text": [
      "Getting phases\n",
      "Setting source to \u001b[96mE:\\data\\my data\\June 2024 imaging\\Day1 variability healthy 30mins\\second fish\\2024-06-19 16.39.55 vid\\Allied Vision Technologies GS650 0001f61c\\726586.tif\u001b[0m\n",
      "Getting reference sequence Reference period: \u001b[96m52.5660774134192\u001b[0m; Reference indices: \u001b[96m[8, 65]\u001b[0m\n"
     ]
    },
    {
     "name": "stderr",
     "output_type": "stream",
     "text": [
      "Getting SADs: 100%|██████████| 1/1 [00:00<00:00,  2.41it/s]\n"
     ]
    },
    {
     "name": "stdout",
     "output_type": "stream",
     "text": [
      "Getting phases\n",
      "Setting source to \u001b[96mE:\\data\\my data\\June 2024 imaging\\Day1 variability healthy 30mins\\second fish\\2024-06-19 16.39.55 vid\\Allied Vision Technologies GS650 0001f61c\\727586.tif\u001b[0m\n",
      "Getting reference sequence Reference period: \u001b[96m52.26910043130006\u001b[0m; Reference indices: \u001b[96m[7, 64]\u001b[0m\n"
     ]
    },
    {
     "name": "stderr",
     "output_type": "stream",
     "text": [
      "Getting SADs: 100%|██████████| 1/1 [00:00<00:00,  2.36it/s]\n"
     ]
    },
    {
     "name": "stdout",
     "output_type": "stream",
     "text": [
      "Getting phases\n",
      "Setting source to \u001b[96mE:\\data\\my data\\June 2024 imaging\\Day1 variability healthy 30mins\\second fish\\2024-06-19 16.39.55 vid\\Allied Vision Technologies GS650 0001f61c\\728586.tif\u001b[0m\n",
      "Getting reference sequence Reference period: \u001b[96m52.8422268907563\u001b[0m; Reference indices: \u001b[96m[17, 74]\u001b[0m\n"
     ]
    },
    {
     "name": "stderr",
     "output_type": "stream",
     "text": [
      "Getting SADs: 100%|██████████| 1/1 [00:00<00:00,  2.39it/s]\n"
     ]
    },
    {
     "name": "stdout",
     "output_type": "stream",
     "text": [
      "Getting phases\n",
      "Setting source to \u001b[96mE:\\data\\my data\\June 2024 imaging\\Day1 variability healthy 30mins\\second fish\\2024-06-19 16.39.55 vid\\Allied Vision Technologies GS650 0001f61c\\729586.tif\u001b[0m\n",
      "Getting reference sequence Reference period: \u001b[96m52.69844890510949\u001b[0m; Reference indices: \u001b[96m[18, 75]\u001b[0m\n"
     ]
    },
    {
     "name": "stderr",
     "output_type": "stream",
     "text": [
      "Getting SADs: 100%|██████████| 1/1 [00:00<00:00,  2.40it/s]\n"
     ]
    },
    {
     "name": "stdout",
     "output_type": "stream",
     "text": [
      "Getting phases\n",
      "Setting source to \u001b[96mE:\\data\\my data\\June 2024 imaging\\Day1 variability healthy 30mins\\second fish\\2024-06-19 16.39.55 vid\\Allied Vision Technologies GS650 0001f61c\\730586.tif\u001b[0m\n",
      "Getting reference sequence Reference period: \u001b[96m52.65271966527197\u001b[0m; Reference indices: \u001b[96m[21, 78]\u001b[0m\n"
     ]
    },
    {
     "name": "stderr",
     "output_type": "stream",
     "text": [
      "Getting SADs: 100%|██████████| 1/1 [00:00<00:00,  2.39it/s]\n"
     ]
    },
    {
     "name": "stdout",
     "output_type": "stream",
     "text": [
      "Getting phases\n",
      "Setting source to \u001b[96mE:\\data\\my data\\June 2024 imaging\\Day1 variability healthy 30mins\\second fish\\2024-06-19 16.39.55 vid\\Allied Vision Technologies GS650 0001f61c\\731586.tif\u001b[0m\n",
      "Getting reference sequence Reference period: \u001b[96m52.22381498470948\u001b[0m; Reference indices: \u001b[96m[20, 77]\u001b[0m\n"
     ]
    },
    {
     "name": "stderr",
     "output_type": "stream",
     "text": [
      "Getting SADs: 100%|██████████| 1/1 [00:00<00:00,  2.37it/s]\n"
     ]
    },
    {
     "name": "stdout",
     "output_type": "stream",
     "text": [
      "Getting phases\n",
      "Setting source to \u001b[96mE:\\data\\my data\\June 2024 imaging\\Day1 variability healthy 30mins\\second fish\\2024-06-19 16.39.55 vid\\Allied Vision Technologies GS650 0001f61c\\732586.tif\u001b[0m\n",
      "Getting reference sequence Reference period: \u001b[96m51.594639288913385\u001b[0m; Reference indices: \u001b[96m[21, 77]\u001b[0m\n"
     ]
    },
    {
     "name": "stderr",
     "output_type": "stream",
     "text": [
      "Getting SADs: 100%|██████████| 1/1 [00:00<00:00,  2.47it/s]\n"
     ]
    },
    {
     "name": "stdout",
     "output_type": "stream",
     "text": [
      "Getting phases\n",
      "Setting source to \u001b[96mE:\\data\\my data\\June 2024 imaging\\Day1 variability healthy 30mins\\second fish\\2024-06-19 16.39.55 vid\\Allied Vision Technologies GS650 0001f61c\\733586.tif\u001b[0m\n",
      "Getting reference sequence Reference period: \u001b[96m52.5918370212288\u001b[0m; Reference indices: \u001b[96m[17, 74]\u001b[0m\n"
     ]
    },
    {
     "name": "stderr",
     "output_type": "stream",
     "text": [
      "Getting SADs: 100%|██████████| 1/1 [00:00<00:00,  2.39it/s]\n"
     ]
    },
    {
     "name": "stdout",
     "output_type": "stream",
     "text": [
      "Getting phases\n",
      "Setting source to \u001b[96mE:\\data\\my data\\June 2024 imaging\\Day1 variability healthy 30mins\\second fish\\2024-06-19 16.39.55 vid\\Allied Vision Technologies GS650 0001f61c\\734586.tif\u001b[0m\n",
      "Getting reference sequence Reference period: \u001b[96m53.14556612657077\u001b[0m; Reference indices: \u001b[96m[16, 74]\u001b[0m\n"
     ]
    },
    {
     "name": "stderr",
     "output_type": "stream",
     "text": [
      "Getting SADs: 100%|██████████| 1/1 [00:00<00:00,  2.34it/s]\n"
     ]
    },
    {
     "name": "stdout",
     "output_type": "stream",
     "text": [
      "Getting phases\n",
      "Setting source to \u001b[96mE:\\data\\my data\\June 2024 imaging\\Day1 variability healthy 30mins\\second fish\\2024-06-19 16.39.55 vid\\Allied Vision Technologies GS650 0001f61c\\735586.tif\u001b[0m\n",
      "Getting reference sequence Reference period: \u001b[96m51.75933446875409\u001b[0m; Reference indices: \u001b[96m[15, 71]\u001b[0m\n"
     ]
    },
    {
     "name": "stderr",
     "output_type": "stream",
     "text": [
      "Getting SADs: 100%|██████████| 1/1 [00:00<00:00,  2.47it/s]\n"
     ]
    },
    {
     "name": "stdout",
     "output_type": "stream",
     "text": [
      "Getting phases\n",
      "Setting source to \u001b[96mE:\\data\\my data\\June 2024 imaging\\Day1 variability healthy 30mins\\second fish\\2024-06-19 16.39.55 vid\\Allied Vision Technologies GS650 0001f61c\\736586.tif\u001b[0m\n",
      "Getting reference sequence Reference period: \u001b[96m53.09528820548063\u001b[0m; Reference indices: \u001b[96m[16, 74]\u001b[0m\n"
     ]
    },
    {
     "name": "stderr",
     "output_type": "stream",
     "text": [
      "Getting SADs: 100%|██████████| 1/1 [00:00<00:00,  2.35it/s]\n"
     ]
    },
    {
     "name": "stdout",
     "output_type": "stream",
     "text": [
      "Getting phases\n",
      "Setting source to \u001b[96mE:\\data\\my data\\June 2024 imaging\\Day1 variability healthy 30mins\\second fish\\2024-06-19 16.39.55 vid\\Allied Vision Technologies GS650 0001f61c\\737586.tif\u001b[0m\n",
      "Getting reference sequence Reference period: \u001b[96m52.52001163467132\u001b[0m; Reference indices: \u001b[96m[18, 75]\u001b[0m\n"
     ]
    },
    {
     "name": "stderr",
     "output_type": "stream",
     "text": [
      "Getting SADs: 100%|██████████| 1/1 [00:00<00:00,  2.35it/s]\n"
     ]
    },
    {
     "name": "stdout",
     "output_type": "stream",
     "text": [
      "Getting phases\n",
      "Setting source to \u001b[96mE:\\data\\my data\\June 2024 imaging\\Day1 variability healthy 30mins\\second fish\\2024-06-19 16.39.55 vid\\Allied Vision Technologies GS650 0001f61c\\738586.tif\u001b[0m\n",
      "Getting reference sequence Reference period: \u001b[96m53.07268294142284\u001b[0m; Reference indices: \u001b[96m[16, 74]\u001b[0m\n"
     ]
    },
    {
     "name": "stderr",
     "output_type": "stream",
     "text": [
      "Getting SADs: 100%|██████████| 1/1 [00:00<00:00,  2.04it/s]\n"
     ]
    },
    {
     "name": "stdout",
     "output_type": "stream",
     "text": [
      "Getting phases\n",
      "Setting source to \u001b[96mE:\\data\\my data\\June 2024 imaging\\Day1 variability healthy 30mins\\second fish\\2024-06-19 16.39.55 vid\\Allied Vision Technologies GS650 0001f61c\\739586.tif\u001b[0m\n",
      "Getting reference sequence Reference period: \u001b[96m53.10313901345292\u001b[0m; Reference indices: \u001b[96m[19, 77]\u001b[0m\n"
     ]
    },
    {
     "name": "stderr",
     "output_type": "stream",
     "text": [
      "Getting SADs: 100%|██████████| 1/1 [00:00<00:00,  2.07it/s]\n"
     ]
    },
    {
     "name": "stdout",
     "output_type": "stream",
     "text": [
      "Getting phases\n",
      "Setting source to \u001b[96mE:\\data\\my data\\June 2024 imaging\\Day1 variability healthy 30mins\\second fish\\2024-06-19 16.39.55 vid\\Allied Vision Technologies GS650 0001f61c\\740586.tif\u001b[0m\n",
      "Getting reference sequence Reference period: \u001b[96m53.47787600691095\u001b[0m; Reference indices: \u001b[96m[20, 78]\u001b[0m\n"
     ]
    },
    {
     "name": "stderr",
     "output_type": "stream",
     "text": [
      "Getting SADs: 100%|██████████| 1/1 [00:00<00:00,  2.29it/s]\n"
     ]
    },
    {
     "name": "stdout",
     "output_type": "stream",
     "text": [
      "Getting phases\n",
      "Setting source to \u001b[96mE:\\data\\my data\\June 2024 imaging\\Day1 variability healthy 30mins\\second fish\\2024-06-19 16.39.55 vid\\Allied Vision Technologies GS650 0001f61c\\741586.tif\u001b[0m\n",
      "Getting reference sequence Reference period: \u001b[96m53.042596008720444\u001b[0m; Reference indices: \u001b[96m[18, 76]\u001b[0m\n"
     ]
    },
    {
     "name": "stderr",
     "output_type": "stream",
     "text": [
      "Getting SADs: 100%|██████████| 1/1 [00:00<00:00,  2.30it/s]\n"
     ]
    },
    {
     "name": "stdout",
     "output_type": "stream",
     "text": [
      "Getting phases\n",
      "Setting source to \u001b[96mE:\\data\\my data\\June 2024 imaging\\Day1 variability healthy 30mins\\second fish\\2024-06-19 16.39.55 vid\\Allied Vision Technologies GS650 0001f61c\\742586.tif\u001b[0m\n",
      "Getting reference sequence Reference period: \u001b[96m53.061248294379155\u001b[0m; Reference indices: \u001b[96m[17, 75]\u001b[0m\n"
     ]
    },
    {
     "name": "stderr",
     "output_type": "stream",
     "text": [
      "Getting SADs: 100%|██████████| 1/1 [00:00<00:00,  2.26it/s]\n"
     ]
    },
    {
     "name": "stdout",
     "output_type": "stream",
     "text": [
      "Getting phases\n",
      "Setting source to \u001b[96mE:\\data\\my data\\June 2024 imaging\\Day1 variability healthy 30mins\\second fish\\2024-06-19 16.39.55 vid\\Allied Vision Technologies GS650 0001f61c\\743586.tif\u001b[0m\n",
      "Getting reference sequence Reference period: \u001b[96m53.18282275102858\u001b[0m; Reference indices: \u001b[96m[19, 77]\u001b[0m\n"
     ]
    },
    {
     "name": "stderr",
     "output_type": "stream",
     "text": [
      "Getting SADs: 100%|██████████| 1/1 [00:00<00:00,  2.25it/s]\n"
     ]
    },
    {
     "name": "stdout",
     "output_type": "stream",
     "text": [
      "Getting phases\n",
      "Setting source to \u001b[96mE:\\data\\my data\\June 2024 imaging\\Day1 variability healthy 30mins\\second fish\\2024-06-19 16.39.55 vid\\Allied Vision Technologies GS650 0001f61c\\744586.tif\u001b[0m\n",
      "Getting reference sequence Reference period: \u001b[96m53.30107040554802\u001b[0m; Reference indices: \u001b[96m[19, 77]\u001b[0m\n"
     ]
    },
    {
     "name": "stderr",
     "output_type": "stream",
     "text": [
      "Getting SADs: 100%|██████████| 1/1 [00:00<00:00,  2.34it/s]\n"
     ]
    },
    {
     "name": "stdout",
     "output_type": "stream",
     "text": [
      "Getting phases\n",
      "Setting source to \u001b[96mE:\\data\\my data\\June 2024 imaging\\Day1 variability healthy 30mins\\second fish\\2024-06-19 16.39.55 vid\\Allied Vision Technologies GS650 0001f61c\\745586.tif\u001b[0m\n",
      "Getting reference sequence Reference period: \u001b[96m52.44021793461961\u001b[0m; Reference indices: \u001b[96m[21, 78]\u001b[0m\n"
     ]
    },
    {
     "name": "stderr",
     "output_type": "stream",
     "text": [
      "Getting SADs: 100%|██████████| 1/1 [00:00<00:00,  2.33it/s]\n"
     ]
    },
    {
     "name": "stdout",
     "output_type": "stream",
     "text": [
      "Getting phases\n",
      "Setting source to \u001b[96mE:\\data\\my data\\June 2024 imaging\\Day1 variability healthy 30mins\\second fish\\2024-06-19 16.39.55 vid\\Allied Vision Technologies GS650 0001f61c\\746586.tif\u001b[0m\n",
      "Getting reference sequence Reference period: \u001b[96m53.50654026161047\u001b[0m; Reference indices: \u001b[96m[19, 77]\u001b[0m\n"
     ]
    },
    {
     "name": "stderr",
     "output_type": "stream",
     "text": [
      "Getting SADs: 100%|██████████| 1/1 [00:00<00:00,  2.38it/s]\n"
     ]
    },
    {
     "name": "stdout",
     "output_type": "stream",
     "text": [
      "Getting phases\n",
      "Setting source to \u001b[96mE:\\data\\my data\\June 2024 imaging\\Day1 variability healthy 30mins\\second fish\\2024-06-19 16.39.55 vid\\Allied Vision Technologies GS650 0001f61c\\747586.tif\u001b[0m\n",
      "Getting reference sequence Reference period: \u001b[96m52.123546625048775\u001b[0m; Reference indices: \u001b[96m[8, 65]\u001b[0m\n"
     ]
    },
    {
     "name": "stderr",
     "output_type": "stream",
     "text": [
      "Getting SADs: 100%|██████████| 1/1 [00:00<00:00,  2.40it/s]\n"
     ]
    },
    {
     "name": "stdout",
     "output_type": "stream",
     "text": [
      "Getting phases\n",
      "Setting source to \u001b[96mE:\\data\\my data\\June 2024 imaging\\Day1 variability healthy 30mins\\second fish\\2024-06-19 16.39.55 vid\\Allied Vision Technologies GS650 0001f61c\\748586.tif\u001b[0m\n",
      "Getting reference sequence Reference period: \u001b[96m53.10572505850741\u001b[0m; Reference indices: \u001b[96m[16, 74]\u001b[0m\n"
     ]
    },
    {
     "name": "stderr",
     "output_type": "stream",
     "text": [
      "Getting SADs: 100%|██████████| 1/1 [00:00<00:00,  2.31it/s]\n"
     ]
    },
    {
     "name": "stdout",
     "output_type": "stream",
     "text": [
      "Getting phases\n",
      "Setting source to \u001b[96mE:\\data\\my data\\June 2024 imaging\\Day1 variability healthy 30mins\\second fish\\2024-06-19 16.39.55 vid\\Allied Vision Technologies GS650 0001f61c\\749586.tif\u001b[0m\n",
      "Getting reference sequence Reference period: \u001b[96m52.9577122394317\u001b[0m; Reference indices: \u001b[96m[20, 77]\u001b[0m\n"
     ]
    },
    {
     "name": "stderr",
     "output_type": "stream",
     "text": [
      "Getting SADs: 100%|██████████| 1/1 [00:00<00:00,  2.40it/s]\n"
     ]
    },
    {
     "name": "stdout",
     "output_type": "stream",
     "text": [
      "Getting phases\n",
      "Setting source to \u001b[96mE:\\data\\my data\\June 2024 imaging\\Day1 variability healthy 30mins\\second fish\\2024-06-19 16.39.55 vid\\Allied Vision Technologies GS650 0001f61c\\750586.tif\u001b[0m\n",
      "Getting reference sequence Reference period: \u001b[96m54.44034852546917\u001b[0m; Reference indices: \u001b[96m[19, 78]\u001b[0m\n"
     ]
    },
    {
     "name": "stderr",
     "output_type": "stream",
     "text": [
      "Getting SADs: 100%|██████████| 1/1 [00:00<00:00,  2.31it/s]\n"
     ]
    },
    {
     "name": "stdout",
     "output_type": "stream",
     "text": [
      "Getting phases\n",
      "Setting source to \u001b[96mE:\\data\\my data\\June 2024 imaging\\Day1 variability healthy 30mins\\second fish\\2024-06-19 16.39.55 vid\\Allied Vision Technologies GS650 0001f61c\\751586.tif\u001b[0m\n",
      "Getting reference sequence Reference period: \u001b[96m53.23743768299438\u001b[0m; Reference indices: \u001b[96m[7, 65]\u001b[0m\n"
     ]
    },
    {
     "name": "stderr",
     "output_type": "stream",
     "text": [
      "Getting SADs: 100%|██████████| 1/1 [00:00<00:00,  2.33it/s]\n"
     ]
    },
    {
     "name": "stdout",
     "output_type": "stream",
     "text": [
      "Getting phases\n",
      "Setting source to \u001b[96mE:\\data\\my data\\June 2024 imaging\\Day1 variability healthy 30mins\\second fish\\2024-06-19 16.39.55 vid\\Allied Vision Technologies GS650 0001f61c\\752586.tif\u001b[0m\n",
      "Getting reference sequence Reference period: \u001b[96m53.263184875328086\u001b[0m; Reference indices: \u001b[96m[12, 70]\u001b[0m\n"
     ]
    },
    {
     "name": "stderr",
     "output_type": "stream",
     "text": [
      "Getting SADs: 100%|██████████| 1/1 [00:00<00:00,  2.36it/s]\n"
     ]
    },
    {
     "name": "stdout",
     "output_type": "stream",
     "text": [
      "Getting phases\n",
      "Setting source to \u001b[96mE:\\data\\my data\\June 2024 imaging\\Day1 variability healthy 30mins\\second fish\\2024-06-19 16.39.55 vid\\Allied Vision Technologies GS650 0001f61c\\753586.tif\u001b[0m\n",
      "Getting reference sequence Reference period: \u001b[96m53.229344136296675\u001b[0m; Reference indices: \u001b[96m[23, 81]\u001b[0m\n"
     ]
    },
    {
     "name": "stderr",
     "output_type": "stream",
     "text": [
      "Getting SADs: 100%|██████████| 1/1 [00:00<00:00,  2.36it/s]\n"
     ]
    },
    {
     "name": "stdout",
     "output_type": "stream",
     "text": [
      "Getting phases\n",
      "Setting source to \u001b[96mE:\\data\\my data\\June 2024 imaging\\Day1 variability healthy 30mins\\second fish\\2024-06-19 16.39.55 vid\\Allied Vision Technologies GS650 0001f61c\\754586.tif\u001b[0m\n",
      "Getting reference sequence Reference period: \u001b[96m53.5021232273055\u001b[0m; Reference indices: \u001b[96m[7, 65]\u001b[0m\n"
     ]
    },
    {
     "name": "stderr",
     "output_type": "stream",
     "text": [
      "Getting SADs: 100%|██████████| 1/1 [00:00<00:00,  2.27it/s]\n"
     ]
    },
    {
     "name": "stdout",
     "output_type": "stream",
     "text": [
      "Getting phases\n",
      "Setting source to \u001b[96mE:\\data\\my data\\June 2024 imaging\\Day1 variability healthy 30mins\\second fish\\2024-06-19 16.39.55 vid\\Allied Vision Technologies GS650 0001f61c\\755586.tif\u001b[0m\n",
      "Getting reference sequence Reference period: \u001b[96m53.72928659758646\u001b[0m; Reference indices: \u001b[96m[12, 70]\u001b[0m\n"
     ]
    },
    {
     "name": "stderr",
     "output_type": "stream",
     "text": [
      "Getting SADs: 100%|██████████| 1/1 [00:00<00:00,  2.34it/s]\n"
     ]
    },
    {
     "name": "stdout",
     "output_type": "stream",
     "text": [
      "Getting phases\n",
      "Setting source to \u001b[96mE:\\data\\my data\\June 2024 imaging\\Day1 variability healthy 30mins\\second fish\\2024-06-19 16.39.55 vid\\Allied Vision Technologies GS650 0001f61c\\756586.tif\u001b[0m\n",
      "Getting reference sequence Reference period: \u001b[96m53.24054248571814\u001b[0m; Reference indices: \u001b[96m[21, 79]\u001b[0m\n"
     ]
    },
    {
     "name": "stderr",
     "output_type": "stream",
     "text": [
      "Getting SADs: 100%|██████████| 1/1 [00:00<00:00,  2.39it/s]\n"
     ]
    },
    {
     "name": "stdout",
     "output_type": "stream",
     "text": [
      "Getting phases\n",
      "Setting source to \u001b[96mE:\\data\\my data\\June 2024 imaging\\Day1 variability healthy 30mins\\second fish\\2024-06-19 16.39.55 vid\\Allied Vision Technologies GS650 0001f61c\\757586.tif\u001b[0m\n",
      "Getting reference sequence Reference period: \u001b[96m52.579404466501245\u001b[0m; Reference indices: \u001b[96m[20, 77]\u001b[0m\n"
     ]
    },
    {
     "name": "stderr",
     "output_type": "stream",
     "text": [
      "Getting SADs: 100%|██████████| 1/1 [00:00<00:00,  2.39it/s]\n"
     ]
    },
    {
     "name": "stdout",
     "output_type": "stream",
     "text": [
      "Getting phases\n",
      "Setting source to \u001b[96mE:\\data\\my data\\June 2024 imaging\\Day1 variability healthy 30mins\\second fish\\2024-06-19 16.39.55 vid\\Allied Vision Technologies GS650 0001f61c\\758586.tif\u001b[0m\n",
      "Getting reference sequence Reference period: \u001b[96m53.41317733990148\u001b[0m; Reference indices: \u001b[96m[7, 65]\u001b[0m\n"
     ]
    },
    {
     "name": "stderr",
     "output_type": "stream",
     "text": [
      "Getting SADs: 100%|██████████| 1/1 [00:00<00:00,  2.28it/s]\n"
     ]
    },
    {
     "name": "stdout",
     "output_type": "stream",
     "text": [
      "Getting phases\n",
      "Setting source to \u001b[96mE:\\data\\my data\\June 2024 imaging\\Day1 variability healthy 30mins\\second fish\\2024-06-19 16.39.55 vid\\Allied Vision Technologies GS650 0001f61c\\759586.tif\u001b[0m\n",
      "Getting reference sequence Reference period: \u001b[96m53.0094910095711\u001b[0m; Reference indices: \u001b[96m[7, 65]\u001b[0m\n"
     ]
    },
    {
     "name": "stderr",
     "output_type": "stream",
     "text": [
      "Getting SADs: 100%|██████████| 1/1 [00:00<00:00,  2.38it/s]\n"
     ]
    },
    {
     "name": "stdout",
     "output_type": "stream",
     "text": [
      "Getting phases\n",
      "Setting source to \u001b[96mE:\\data\\my data\\June 2024 imaging\\Day1 variability healthy 30mins\\second fish\\2024-06-19 16.39.55 vid\\Allied Vision Technologies GS650 0001f61c\\760586.tif\u001b[0m\n",
      "Getting reference sequence Reference period: \u001b[96m53.716922203293585\u001b[0m; Reference indices: \u001b[96m[12, 70]\u001b[0m\n"
     ]
    },
    {
     "name": "stderr",
     "output_type": "stream",
     "text": [
      "Getting SADs: 100%|██████████| 1/1 [00:00<00:00,  2.35it/s]\n"
     ]
    },
    {
     "name": "stdout",
     "output_type": "stream",
     "text": [
      "Getting phases\n",
      "Setting source to \u001b[96mE:\\data\\my data\\June 2024 imaging\\Day1 variability healthy 30mins\\second fish\\2024-06-19 16.39.55 vid\\Allied Vision Technologies GS650 0001f61c\\761586.tif\u001b[0m\n",
      "Getting reference sequence Reference period: \u001b[96m52.14221153846154\u001b[0m; Reference indices: \u001b[96m[15, 72]\u001b[0m\n"
     ]
    },
    {
     "name": "stderr",
     "output_type": "stream",
     "text": [
      "Getting SADs: 100%|██████████| 1/1 [00:00<00:00,  2.34it/s]\n"
     ]
    },
    {
     "name": "stdout",
     "output_type": "stream",
     "text": [
      "Getting phases\n",
      "Setting source to \u001b[96mE:\\data\\my data\\June 2024 imaging\\Day1 variability healthy 30mins\\second fish\\2024-06-19 16.39.55 vid\\Allied Vision Technologies GS650 0001f61c\\762586.tif\u001b[0m\n",
      "Getting reference sequence Reference period: \u001b[96m53.570018877638574\u001b[0m; Reference indices: \u001b[96m[17, 75]\u001b[0m\n"
     ]
    },
    {
     "name": "stderr",
     "output_type": "stream",
     "text": [
      "Getting SADs: 100%|██████████| 1/1 [00:00<00:00,  2.34it/s]\n"
     ]
    },
    {
     "name": "stdout",
     "output_type": "stream",
     "text": [
      "Getting phases\n",
      "Setting source to \u001b[96mE:\\data\\my data\\June 2024 imaging\\Day1 variability healthy 30mins\\second fish\\2024-06-19 16.39.55 vid\\Allied Vision Technologies GS650 0001f61c\\763586.tif\u001b[0m\n",
      "Getting reference sequence Reference period: \u001b[96m53.023035754586196\u001b[0m; Reference indices: \u001b[96m[18, 76]\u001b[0m\n"
     ]
    },
    {
     "name": "stderr",
     "output_type": "stream",
     "text": [
      "Getting SADs: 100%|██████████| 1/1 [00:00<00:00,  2.22it/s]\n"
     ]
    },
    {
     "name": "stdout",
     "output_type": "stream",
     "text": [
      "Getting phases\n",
      "Setting source to \u001b[96mE:\\data\\my data\\June 2024 imaging\\Day1 variability healthy 30mins\\second fish\\2024-06-19 16.39.55 vid\\Allied Vision Technologies GS650 0001f61c\\764586.tif\u001b[0m\n",
      "Getting reference sequence Reference period: \u001b[96m52.878257456828884\u001b[0m; Reference indices: \u001b[96m[20, 77]\u001b[0m\n"
     ]
    },
    {
     "name": "stderr",
     "output_type": "stream",
     "text": [
      "Getting SADs: 100%|██████████| 1/1 [00:00<00:00,  2.39it/s]\n"
     ]
    },
    {
     "name": "stdout",
     "output_type": "stream",
     "text": [
      "Getting phases\n",
      "Setting source to \u001b[96mE:\\data\\my data\\June 2024 imaging\\Day1 variability healthy 30mins\\second fish\\2024-06-19 16.39.55 vid\\Allied Vision Technologies GS650 0001f61c\\765586.tif\u001b[0m\n",
      "Getting reference sequence Reference period: \u001b[96m53.66031038467888\u001b[0m; Reference indices: \u001b[96m[20, 78]\u001b[0m\n"
     ]
    },
    {
     "name": "stderr",
     "output_type": "stream",
     "text": [
      "Getting SADs: 100%|██████████| 1/1 [00:00<00:00,  2.10it/s]\n"
     ]
    },
    {
     "name": "stdout",
     "output_type": "stream",
     "text": [
      "Getting phases\n",
      "Setting source to \u001b[96mE:\\data\\my data\\June 2024 imaging\\Day1 variability healthy 30mins\\second fish\\2024-06-19 16.39.55 vid\\Allied Vision Technologies GS650 0001f61c\\766586.tif\u001b[0m\n",
      "Getting reference sequence Reference period: \u001b[96m53.23391812865497\u001b[0m; Reference indices: \u001b[96m[7, 65]\u001b[0m\n"
     ]
    },
    {
     "name": "stderr",
     "output_type": "stream",
     "text": [
      "Getting SADs: 100%|██████████| 1/1 [00:00<00:00,  2.05it/s]\n"
     ]
    },
    {
     "name": "stdout",
     "output_type": "stream",
     "text": [
      "Getting phases\n",
      "Setting source to \u001b[96mE:\\data\\my data\\June 2024 imaging\\Day1 variability healthy 30mins\\second fish\\2024-06-19 16.39.55 vid\\Allied Vision Technologies GS650 0001f61c\\767586.tif\u001b[0m\n",
      "Getting reference sequence Reference period: \u001b[96m53.49890334844275\u001b[0m; Reference indices: \u001b[96m[14, 72]\u001b[0m\n"
     ]
    },
    {
     "name": "stderr",
     "output_type": "stream",
     "text": [
      "Getting SADs: 100%|██████████| 1/1 [00:00<00:00,  2.12it/s]\n"
     ]
    },
    {
     "name": "stdout",
     "output_type": "stream",
     "text": [
      "Getting phases\n",
      "Setting source to \u001b[96mE:\\data\\my data\\June 2024 imaging\\Day1 variability healthy 30mins\\second fish\\2024-06-19 16.39.55 vid\\Allied Vision Technologies GS650 0001f61c\\768586.tif\u001b[0m\n",
      "Getting reference sequence Reference period: \u001b[96m53.420777738764045\u001b[0m; Reference indices: \u001b[96m[18, 76]\u001b[0m\n"
     ]
    },
    {
     "name": "stderr",
     "output_type": "stream",
     "text": [
      "Getting SADs: 100%|██████████| 1/1 [00:00<00:00,  2.03it/s]\n"
     ]
    },
    {
     "name": "stdout",
     "output_type": "stream",
     "text": [
      "Getting phases\n",
      "Setting source to \u001b[96mE:\\data\\my data\\June 2024 imaging\\Day1 variability healthy 30mins\\second fish\\2024-06-19 16.39.55 vid\\Allied Vision Technologies GS650 0001f61c\\769586.tif\u001b[0m\n",
      "Getting reference sequence Reference period: \u001b[96m52.67912509593246\u001b[0m; Reference indices: \u001b[96m[20, 77]\u001b[0m\n"
     ]
    },
    {
     "name": "stderr",
     "output_type": "stream",
     "text": [
      "Getting SADs: 100%|██████████| 1/1 [00:00<00:00,  1.68it/s]\n"
     ]
    },
    {
     "name": "stdout",
     "output_type": "stream",
     "text": [
      "Getting phases\n",
      "Setting source to \u001b[96mE:\\data\\my data\\June 2024 imaging\\Day1 variability healthy 30mins\\second fish\\2024-06-19 16.39.55 vid\\Allied Vision Technologies GS650 0001f61c\\770586.tif\u001b[0m\n",
      "Getting reference sequence Reference period: \u001b[96m54.041280148423006\u001b[0m; Reference indices: \u001b[96m[20, 79]\u001b[0m\n"
     ]
    },
    {
     "name": "stderr",
     "output_type": "stream",
     "text": [
      "Getting SADs: 100%|██████████| 1/1 [00:00<00:00,  1.87it/s]\n"
     ]
    },
    {
     "name": "stdout",
     "output_type": "stream",
     "text": [
      "Getting phases\n",
      "Setting source to \u001b[96mE:\\data\\my data\\June 2024 imaging\\Day1 variability healthy 30mins\\second fish\\2024-06-19 16.39.55 vid\\Allied Vision Technologies GS650 0001f61c\\771586.tif\u001b[0m\n",
      "Getting reference sequence Reference period: \u001b[96m53.19342517219787\u001b[0m; Reference indices: \u001b[96m[20, 78]\u001b[0m\n"
     ]
    },
    {
     "name": "stderr",
     "output_type": "stream",
     "text": [
      "Getting SADs: 100%|██████████| 1/1 [00:00<00:00,  2.03it/s]\n"
     ]
    },
    {
     "name": "stdout",
     "output_type": "stream",
     "text": [
      "Getting phases\n",
      "Setting source to \u001b[96mE:\\data\\my data\\June 2024 imaging\\Day1 variability healthy 30mins\\second fish\\2024-06-19 16.39.55 vid\\Allied Vision Technologies GS650 0001f61c\\772586.tif\u001b[0m\n",
      "Getting reference sequence Reference period: \u001b[96m53.525696864111495\u001b[0m; Reference indices: \u001b[96m[8, 66]\u001b[0m\n"
     ]
    },
    {
     "name": "stderr",
     "output_type": "stream",
     "text": [
      "Getting SADs: 100%|██████████| 1/1 [00:00<00:00,  1.83it/s]\n"
     ]
    },
    {
     "name": "stdout",
     "output_type": "stream",
     "text": [
      "Getting phases\n",
      "Setting source to \u001b[96mE:\\data\\my data\\June 2024 imaging\\Day1 variability healthy 30mins\\second fish\\2024-06-19 16.39.55 vid\\Allied Vision Technologies GS650 0001f61c\\773586.tif\u001b[0m\n",
      "Getting reference sequence Reference period: \u001b[96m52.54841735867413\u001b[0m; Reference indices: \u001b[96m[7, 64]\u001b[0m\n"
     ]
    },
    {
     "name": "stderr",
     "output_type": "stream",
     "text": [
      "Getting SADs: 100%|██████████| 1/1 [00:00<00:00,  2.56it/s]"
     ]
    },
    {
     "name": "stdout",
     "output_type": "stream",
     "text": [
      "Getting phases\n"
     ]
    },
    {
     "name": "stderr",
     "output_type": "stream",
     "text": [
      "\n"
     ]
    },
    {
     "data": {
      "text/plain": [
       "[<matplotlib.lines.Line2D at 0x1ba3fc13550>]"
      ]
     },
     "execution_count": 3,
     "metadata": {},
     "output_type": "execute_result"
    },
    {
     "data": {
      "image/png": "[encoded data removed]",
      "text/plain": [
       "<Figure size 640x480 with 1 Axes>"
      ]
     },
     "metadata": {},
     "output_type": "display_data"
    }
   ],
   "source": [
    "import glob\n",
    "periods = []\n",
    "sequence_src = r\"E:\\data\\my data\\June 2024 imaging\\Day1 variability healthy 30mins\\second fish\\2024-06-19 16.39.55 vid\\Allied Vision Technologies GS650 0001f61c\\*tif\"\n",
    "file_list = sorted(glob.glob(sequence_src))\n",
    "for file in file_list:\n",
    "    oog = OG.BasicOpticalGating()\n",
    "    oog.sequence_manager.set_source(file)\n",
    "    #oog.sequence_manager.set_reference_sequence(r\"E:\\data\\my data\\June 2024 imaging\\Day1 variability healthy 30mins\\second fish\\2024-06-19 16.39.55 vid\\ref-frames-2024-06-19-16.39.54\\551441.tif\")\n",
    "    #oog.sequence_manager.reference_period = 53.690834\n",
    "    oog.run()\n",
    "    \"\"\"plt.figure(figsize = (6,4))\n",
    "    plt.scatter(oog.phases[1::], oog.delta_phases_frames, s = 4)\n",
    "    plt.show()\"\"\"\n",
    "    periods.append(oog.sequence_manager.reference_period)\n",
    "\n",
    "plt.plot(periods)"
   ]
  },
  {
   "cell_type": "code",
   "execution_count": 4,
   "metadata": {},
   "outputs": [
    {
     "name": "stdout",
     "output_type": "stream",
     "text": [
      "Setting source to \u001b[96mE:\\data\\my data\\June 2024 imaging\\Day1 variability healthy 30mins\\second fish\\2024-06-19 16.39.55 vid\\Allied Vision Technologies GS650 0001f61c\\*tif\u001b[0m\n",
      "Getting reference sequence Reference period: \u001b[96m53.68333142004362\u001b[0m; Reference indices: \u001b[96m[10, 68]\u001b[0m\n"
     ]
    },
    {
     "name": "stderr",
     "output_type": "stream",
     "text": [
      "Getting SADs: 100%|██████████| 219/219 [05:06<00:00,  1.40s/it]\n"
     ]
    },
    {
     "name": "stdout",
     "output_type": "stream",
     "text": [
      "Getting phases\n"
     ]
    }
   ],
   "source": [
    "sequence_src = r\"E:\\data\\my data\\June 2024 imaging\\Day1 variability healthy 30mins\\second fish\\2024-06-19 16.39.55 vid\\Allied Vision Technologies GS650 0001f61c\\*tif\"\n",
    "oog = OG.BasicOpticalGating()\n",
    "oog.sequence_manager.set_source(sequence_src)\n",
    "oog.run()"
   ]
  },
  {
   "cell_type": "code",
   "execution_count": 5,
   "metadata": {},
   "outputs": [
    {
     "data": {
      "text/plain": [
       "<matplotlib.collections.PathCollection at 0x1ba41785fd0>"
      ]
     },
     "execution_count": 5,
     "metadata": {},
     "output_type": "execute_result"
    },
    {
     "data": {
      "image/png": "[encoded data removed]",
      "text/plain": [
       "<Figure size 640x480 with 1 Axes>"
      ]
     },
     "metadata": {},
     "output_type": "display_data"
    }
   ],
   "source": [
    "unwrapped_phases = oog.unwrapped_phases + 1.6\n",
    "phases = unwrapped_phases % (2 * np.pi)\n",
    "delta_phases = np.diff(unwrapped_phases)\n",
    "\n",
    "plt.scatter(phases[0:1000], delta_phases[0:1000], s = 1)"
   ]
  },
  {
   "cell_type": "code",
   "execution_count": 6,
   "metadata": {},
   "outputs": [],
   "source": [
    "oog.unwrapped_phases = unwrapped_phases\n",
    "oog.phases = phases\n",
    "oog.delta_phases = delta_phases"
   ]
  },
  {
   "cell_type": "code",
   "execution_count": 7,
   "metadata": {},
   "outputs": [
    {
     "data": {
      "text/plain": [
       "<matplotlib.collections.PathCollection at 0x1ba48aec9a0>"
      ]
     },
     "execution_count": 7,
     "metadata": {},
     "output_type": "execute_result"
    },
    {
     "data": {
      "image/png": "[encoded data removed]",
      "text/plain": [
       "<Figure size 640x480 with 1 Axes>"
      ]
     },
     "metadata": {},
     "output_type": "display_data"
    }
   ],
   "source": [
    "plt.scatter(oog.phases[1::], oog.delta_phases, s = 1)"
   ]
  },
  {
   "cell_type": "code",
   "execution_count": null,
   "metadata": {},
   "outputs": [
    {
     "data": {
      "text/plain": [
       "[<matplotlib.lines.Line2D at 0x113315aef40>]"
      ]
     },
     "execution_count": 8,
     "metadata": {},
     "output_type": "execute_result"
    },
    {
     "data": {
      "image/png": "[encoded data removed]",
      "text/plain": [
       "<Figure size 640x480 with 1 Axes>"
      ]
     },
     "metadata": {},
     "output_type": "display_data"
    }
   ],
   "source": [
    "plt.plot(np.sum(np.abs(np.diff(oog.sequence_manager.reference_sequence.astype(np.int32), axis = 0)), axis = (1,2)))"
   ]
  },
  {
   "cell_type": "code",
   "execution_count": null,
   "metadata": {},
   "outputs": [
    {
     "data": {
      "image/png": "[encoded data removed]",
      "text/plain": [
       "<Figure size 1600x600 with 1 Axes>"
      ]
     },
     "metadata": {},
     "output_type": "display_data"
    }
   ],
   "source": [
    "oog.sequence_manager.framerate = 120\n",
    "plt.figure(figsize = (16,6))\n",
    "rr_intervals = hrv.get_rr_interval(oog, 1, \"gradient\")\n",
    "plt.scatter(np.cumsum(1/rr_intervals)[::1], 1/rr_intervals[::1], s = 5, label = \"gradient method\")\n",
    "rr_intervals = hrv.get_rr_interval(oog, 1, \"mean\")\n",
    "plt.scatter(np.cumsum(1/rr_intervals)[::1], 1/rr_intervals[::1], s = 5, label = \"mean method\")\n",
    "plt.ylabel(\"RR interval (s)\")\n",
    "plt.xlabel(\"Time (s)\")\n",
    "plt.legend()\n",
    "plt.tight_layout()\n",
    "plt.show()"
   ]
  },
  {
   "cell_type": "code",
   "execution_count": null,
   "metadata": {},
   "outputs": [
    {
     "data": {
      "image/png": "[encoded data removed]",
      "text/plain": [
       "<Figure size 600x600 with 1 Axes>"
      ]
     },
     "metadata": {},
     "output_type": "display_data"
    }
   ],
   "source": [
    "plt.figure(figsize = (6,6))\n",
    "plt.scatter(rr_intervals[1::], rr_intervals[0:-1], s = 5)\n",
    "plt.axis(\"equal\")\n",
    "plt.show()"
   ]
  },
  {
   "cell_type": "code",
   "execution_count": null,
   "metadata": {},
   "outputs": [
    {
     "data": {
      "image/png": "[encoded data removed]",
      "text/plain": [
       "<Figure size 900x900 with 2 Axes>"
      ]
     },
     "metadata": {},
     "output_type": "display_data"
    }
   ],
   "source": [
    "hrv.poincare_plot(np.array(periods))"
   ]
  },
  {
   "cell_type": "code",
   "execution_count": null,
   "metadata": {},
   "outputs": [
    {
     "ename": "KeyboardInterrupt",
     "evalue": "",
     "output_type": "error",
     "traceback": [
      "\u001b[1;31m---------------------------------------------------------------------------\u001b[0m",
      "\u001b[1;31mKeyboardInterrupt\u001b[0m                         Traceback (most recent call last)",
      "Cell \u001b[1;32mIn[12], line 1\u001b[0m\n\u001b[1;32m----> 1\u001b[0m \u001b[43mhrv\u001b[49m\u001b[38;5;241;43m.\u001b[39;49m\u001b[43mpoincare_plot\u001b[49m\u001b[43m(\u001b[49m\u001b[43moog\u001b[49m\u001b[38;5;241;43m.\u001b[39;49m\u001b[43mdelta_phases\u001b[49m\u001b[43m)\u001b[49m\n",
      "File \u001b[1;32mc:\\users\\kross\\desktop\\phd\\optical_gating_analysis\\optical_gating_analysis\\src\\hrv_analysis.py:104\u001b[0m, in \u001b[0;36mpoincare_plot\u001b[1;34m(delta_phases)\u001b[0m\n\u001b[0;32m    100\u001b[0m values \u001b[38;5;241m=\u001b[39m np\u001b[38;5;241m.\u001b[39mvstack([x, y])\n\u001b[0;32m    102\u001b[0m kernel \u001b[38;5;241m=\u001b[39m gaussian_kde(values)\n\u001b[1;32m--> 104\u001b[0m Z \u001b[38;5;241m=\u001b[39m np\u001b[38;5;241m.\u001b[39mreshape(\u001b[43mkernel\u001b[49m\u001b[43m(\u001b[49m\u001b[43mpositions\u001b[49m\u001b[43m)\u001b[49m\u001b[38;5;241m.\u001b[39mT, X\u001b[38;5;241m.\u001b[39mshape)\n\u001b[0;32m    106\u001b[0m plt\u001b[38;5;241m.\u001b[39mfigure(figsize \u001b[38;5;241m=\u001b[39m (\u001b[38;5;241m9\u001b[39m,\u001b[38;5;241m9\u001b[39m))\n\u001b[0;32m    107\u001b[0m plt\u001b[38;5;241m.\u001b[39mtitle(\u001b[38;5;124m\"\u001b[39m\u001b[38;5;124mPoincaré Density Plot\u001b[39m\u001b[38;5;124m\"\u001b[39m)\n",
      "File \u001b[1;32mc:\\Users\\kross\\anaconda3\\envs\\optical-gating\\lib\\site-packages\\scipy\\stats\\_kde.py:268\u001b[0m, in \u001b[0;36mgaussian_kde.evaluate\u001b[1;34m(self, points)\u001b[0m\n\u001b[0;32m    265\u001b[0m         \u001b[38;5;28;01mraise\u001b[39;00m \u001b[38;5;167;01mValueError\u001b[39;00m(msg)\n\u001b[0;32m    267\u001b[0m output_dtype, spec \u001b[38;5;241m=\u001b[39m _get_output_dtype(\u001b[38;5;28mself\u001b[39m\u001b[38;5;241m.\u001b[39mcovariance, points)\n\u001b[1;32m--> 268\u001b[0m result \u001b[38;5;241m=\u001b[39m \u001b[43mgaussian_kernel_estimate\u001b[49m\u001b[43m[\u001b[49m\u001b[43mspec\u001b[49m\u001b[43m]\u001b[49m\u001b[43m(\u001b[49m\n\u001b[0;32m    269\u001b[0m \u001b[43m    \u001b[49m\u001b[38;5;28;43mself\u001b[39;49m\u001b[38;5;241;43m.\u001b[39;49m\u001b[43mdataset\u001b[49m\u001b[38;5;241;43m.\u001b[39;49m\u001b[43mT\u001b[49m\u001b[43m,\u001b[49m\u001b[43m \u001b[49m\u001b[38;5;28;43mself\u001b[39;49m\u001b[38;5;241;43m.\u001b[39;49m\u001b[43mweights\u001b[49m\u001b[43m[\u001b[49m\u001b[43m:\u001b[49m\u001b[43m,\u001b[49m\u001b[43m \u001b[49m\u001b[38;5;28;43;01mNone\u001b[39;49;00m\u001b[43m]\u001b[49m\u001b[43m,\u001b[49m\n\u001b[0;32m    270\u001b[0m \u001b[43m    \u001b[49m\u001b[43mpoints\u001b[49m\u001b[38;5;241;43m.\u001b[39;49m\u001b[43mT\u001b[49m\u001b[43m,\u001b[49m\u001b[43m \u001b[49m\u001b[38;5;28;43mself\u001b[39;49m\u001b[38;5;241;43m.\u001b[39;49m\u001b[43mcho_cov\u001b[49m\u001b[43m,\u001b[49m\u001b[43m \u001b[49m\u001b[43moutput_dtype\u001b[49m\u001b[43m)\u001b[49m\n\u001b[0;32m    272\u001b[0m \u001b[38;5;28;01mreturn\u001b[39;00m result[:, \u001b[38;5;241m0\u001b[39m]\n",
      "\u001b[1;31mKeyboardInterrupt\u001b[0m: "
     ]
    }
   ],
   "source": [
    "hrv.poincare_plot(oog.delta_phases)"
   ]
  },
  {
   "cell_type": "code",
   "execution_count": null,
   "metadata": {},
   "outputs": [
    {
     "data": {
      "image/png": "[encoded data removed]",
      "text/plain": [
       "<Figure size 640x480 with 1 Axes>"
      ]
     },
     "metadata": {},
     "output_type": "display_data"
    }
   ],
   "source": [
    "from scipy import signal\n",
    "# Use welch's method to get PSD of RR intervals\n",
    "f, Pxx = signal.welch(np.array(rr_intervals)[0:3000], fs=1/32)\n",
    "plt.semilogy(f[1::], Pxx[1::])\n",
    "plt.xscale(\"log\")\n",
    "plt.show()"
   ]
  }
 ],
 "metadata": {
  "kernelspec": {
   "display_name": "optical-gating",
   "language": "python",
   "name": "python3"
  },
  "language_info": {
   "codemirror_mode": {
    "name": "ipython",
    "version": 3
   },
   "file_extension": ".py",
   "mimetype": "text/x-python",
   "name": "python",
   "nbconvert_exporter": "python",
   "pygments_lexer": "ipython3",
   "version": "3.9.16"
  }
 },
 "nbformat": 4,
 "nbformat_minor": 2
}
