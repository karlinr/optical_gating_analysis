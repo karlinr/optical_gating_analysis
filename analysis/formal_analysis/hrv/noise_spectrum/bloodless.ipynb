{
 "cells": [
  {
   "cell_type": "code",
   "execution_count": 1,
   "metadata": {},
   "outputs": [],
   "source": [
    "import matplotlib.pyplot as plt\n",
    "import numpy as np\n",
    "\n",
    "import optical_gating_analysis as OG\n",
    "from tqdm import tqdm"
   ]
  },
  {
   "cell_type": "code",
   "execution_count": 2,
   "metadata": {},
   "outputs": [
    {
     "name": "stdout",
     "output_type": "stream",
     "text": [
      "Setting source to E:\\data\\my data\\Arrhythmic imaging April 2024 2\\2024-04-26 17.30.44 vid bloodless 200fps\\Allied Vision Technologies GS650 0001f61c\\*tif\n",
      "Getting reference sequence\n",
      "Reference period: 73.62612008708606; Reference indices: [33, 111]\n"
     ]
    },
    {
     "name": "stderr",
     "output_type": "stream",
     "text": [
      "Getting SADs: 100%|██████████| 38/38 [01:39<00:00,  2.62s/it]\n",
      "Getting phases: 100%|██████████| 37970/37970 [00:00<00:00, 191327.92it/s]\n"
     ]
    }
   ],
   "source": [
    "oog = OG.BasicOpticalGating()\n",
    "oog.sequence_manager.set_source(r\"E:\\data\\my data\\Arrhythmic imaging April 2024 2\\2024-04-26 17.30.44 vid bloodless 200fps\\Allied Vision Technologies GS650 0001f61c\\*tif\")\n",
    "#oog.settings[\"include_reference_frames\"] = False\n",
    "oog.run()"
   ]
  },
  {
   "cell_type": "code",
   "execution_count": 10,
   "metadata": {},
   "outputs": [
    {
     "name": "stderr",
     "output_type": "stream",
     "text": [
      "C:\\Users\\kross\\AppData\\Local\\Temp\\ipykernel_24092\\3435091319.py:2: UserWarning: Matplotlib is currently using pgf, which is a non-GUI backend, so cannot show the figure.\n",
      "  plt.show()\n"
     ]
    }
   ],
   "source": [
    "plt.scatter(oog.phases[1::], oog.delta_phases,s = 1)\n",
    "plt.show()"
   ]
  },
  {
   "cell_type": "code",
   "execution_count": 4,
   "metadata": {},
   "outputs": [],
   "source": [
    "import matplotlib\n",
    "import matplotlib.pyplot as plt\n",
    "from matplotlib.backends.backend_pgf import FigureCanvasPgf\n",
    "\n",
    "matplotlib.use('pgf')\n",
    "matplotlib.backend_bases.register_backend(\"pgf\", FigureCanvasPgf)\n",
    "matplotlib.rcParams.update(\n",
    "    {\n",
    "        # Adjust to your LaTex-Engine\n",
    "        \"pgf.texsystem\": \"xelatex\",\n",
    "        \"font.family\": \"serif\",\n",
    "        \"text.usetex\": True,\n",
    "        \"pgf.rcfonts\": False,\n",
    "        \"axes.unicode_minus\": False,\n",
    "    }\n",
    ")\n",
    "\n",
    "matplotlib.rcParams['figure.figsize'] = (4.01407, 3.09654)"
   ]
  },
  {
   "cell_type": "code",
   "execution_count": 5,
   "metadata": {},
   "outputs": [],
   "source": [
    "i_prev = 0\n",
    "beat_indices = []\n",
    "for i in range(1, oog.phases.shape[0]):\n",
    "    if (oog.phases[i] - oog.phases[i - 1]) < -np.pi:\n",
    "        if abs(i_prev - i) > 5:\n",
    "            beat_indices.append(i)\n",
    "            i_prev = i\n",
    "\n",
    "gradients = []\n",
    "from scipy.optimize import curve_fit\n",
    "for i in range(len(beat_indices) - 2):\n",
    "    xs = range(beat_indices[i], beat_indices[i+2])\n",
    "    ys = oog.unwrapped_phases[beat_indices[i]:beat_indices[i+2]]\n",
    "    popt, popc = curve_fit(lambda x, a, b: a * x + b, xs, ys)\n",
    "    gradients.append(popt[0])\n",
    "\n",
    "gradients = np.array(OG.radsperframe_to_bps(np.array(gradients),80))\n"
   ]
  },
  {
   "cell_type": "code",
   "execution_count": 6,
   "metadata": {},
   "outputs": [],
   "source": [
    "# Gets the noise spectrum by looking at the standard deviation of the change in delta phases over some time period.\n",
    "def get_noise_spectrum(delta_phases, averaging_window):\n",
    "    time_windows = range(1, (delta_phases.shape[0] - averaging_window) // 2, 1)\n",
    "    avg_delta_phases_std = []\n",
    "    for time_window in tqdm(time_windows):\n",
    "        avg_delta_phases = []\n",
    "        for i in np.arange(delta_phases.shape[0] - time_window - averaging_window):\n",
    "            average_delta_phase_init = np.mean(delta_phases[i:i + averaging_window])\n",
    "            average_delta_phase_final = np.mean(delta_phases[i + time_window:i + time_window + averaging_window])\n",
    "\n",
    "            est_avg_delta_phases = average_delta_phase_init - average_delta_phase_final\n",
    "\n",
    "            avg_delta_phases.append(est_avg_delta_phases)\n",
    "\n",
    "        avg_delta_phases_std.append(np.std(avg_delta_phases))\n",
    "\n",
    "    return time_windows, avg_delta_phases_std"
   ]
  },
  {
   "cell_type": "code",
   "execution_count": 7,
   "metadata": {},
   "outputs": [
    {
     "name": "stderr",
     "output_type": "stream",
     "text": [
      "100%|██████████| 2460/2460 [01:52<00:00, 21.86it/s]\n",
      "100%|██████████| 252/252 [00:01<00:00, 212.57it/s]\n"
     ]
    }
   ],
   "source": [
    "dp_noise_spectrum = get_noise_spectrum(oog.delta_phases[0:5000], oog.sequence_manager.reference_sequence.shape[0])\n",
    "gr_noise_spectrum = get_noise_spectrum(gradients, 3)"
   ]
  },
  {
   "cell_type": "code",
   "execution_count": 8,
   "metadata": {},
   "outputs": [],
   "source": [
    "plt.figure()\n",
    "plt.plot(*dp_noise_spectrum)\n",
    "plt.xlabel(\"Time windows (frames)\")\n",
    "plt.ylabel(\"Noise spectrum\")\n",
    "plt.tight_layout()\n",
    "plt.savefig(\"dp_noise_spectrum_bloodless.pgf\")"
   ]
  },
  {
   "cell_type": "code",
   "execution_count": 9,
   "metadata": {},
   "outputs": [],
   "source": [
    "plt.figure()\n",
    "plt.plot(*gr_noise_spectrum)\n",
    "plt.xlabel(\"Time windows (frames)\")\n",
    "plt.ylabel(\"Noise spectrum\")\n",
    "plt.tight_layout()\n",
    "plt.savefig(\"gr_noise_spectrum_bloodless.pgf\")"
   ]
  }
 ],
 "metadata": {
  "kernelspec": {
   "display_name": "optical-gating",
   "language": "python",
   "name": "python3"
  },
  "language_info": {
   "codemirror_mode": {
    "name": "ipython",
    "version": 3
   },
   "file_extension": ".py",
   "mimetype": "text/x-python",
   "name": "python",
   "nbconvert_exporter": "python",
   "pygments_lexer": "ipython3",
   "version": "3.9.16"
  }
 },
 "nbformat": 4,
 "nbformat_minor": 2
}
