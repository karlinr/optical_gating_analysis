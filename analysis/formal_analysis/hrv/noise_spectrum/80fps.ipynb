{
 "cells": [
  {
   "cell_type": "code",
   "execution_count": 1,
   "metadata": {},
   "outputs": [],
   "source": [
    "import matplotlib.pyplot as plt\n",
    "import numpy as np\n",
    "\n",
    "import optical_gating_analysis as OG\n",
    "from tqdm import tqdm"
   ]
  },
  {
   "cell_type": "code",
   "execution_count": 2,
   "metadata": {},
   "outputs": [
    {
     "name": "stdout",
     "output_type": "stream",
     "text": [
      "Setting source to D:\\Data\\2012-06-20 13.34.11 vid 2x2 multi phase single plane\\brightfield\\*tif\n",
      "Loading reference sequence from D:\\Data\\2012-06-20 13.34.11 vid 2x2 multi phase single plane\\ref_seq.tif\n"
     ]
    },
    {
     "name": "stderr",
     "output_type": "stream",
     "text": [
      "Getting SADs: 100%|█████████▉| 1106/1107 [00:02<00:00, 406.18it/s]\n",
      "Getting phases: 100%|██████████| 1106/1106 [00:00<00:00, 109449.33it/s]\n"
     ]
    }
   ],
   "source": [
    "oog = OG.BasicOpticalGating().default()\n",
    "#oog.sequence_manager.set_source(r\"D:\\Data\\both 800fps\\brightfield\\*tif\")\n",
    "#oog.settings[\"include_reference_frames\"] = False\n",
    "oog.run()"
   ]
  },
  {
   "cell_type": "code",
   "execution_count": 17,
   "metadata": {},
   "outputs": [],
   "source": [
    "import matplotlib\n",
    "import matplotlib.pyplot as plt\n",
    "from matplotlib.backends.backend_pgf import FigureCanvasPgf\n",
    "\n",
    "matplotlib.backend_bases.register_backend(\"pgf\", FigureCanvasPgf)\n",
    "matplotlib.rcParams.update(\n",
    "    {\n",
    "        # Adjust to your LaTex-Engine\n",
    "        \"pgf.texsystem\": \"xelatex\",\n",
    "        \"font.family\": \"serif\",\n",
    "        \"text.usetex\": True,\n",
    "        \"pgf.rcfonts\": False,\n",
    "        \"axes.unicode_minus\": False,\n",
    "    }\n",
    ")\n",
    "\n",
    "matplotlib.rcParams['figure.figsize'] = (4.01407, 3.09654)"
   ]
  },
  {
   "cell_type": "code",
   "execution_count": 4,
   "metadata": {},
   "outputs": [],
   "source": [
    "i_prev = 0\n",
    "beat_indices = []\n",
    "for i in range(1, oog.phases.shape[0]):\n",
    "    if (oog.phases[i] - oog.phases[i - 1]) < -np.pi:\n",
    "        if abs(i_prev - i) > 5:\n",
    "            beat_indices.append(i)\n",
    "            i_prev = i\n",
    "\n",
    "gradients = []\n",
    "from scipy.optimize import curve_fit\n",
    "for i in range(len(beat_indices) - 2):\n",
    "    xs = range(beat_indices[i], beat_indices[i+2])\n",
    "    ys = oog.unwrapped_phases[beat_indices[i]:beat_indices[i+2]]\n",
    "    popt, popc = curve_fit(lambda x, a, b: a * x + b, xs, ys)\n",
    "    gradients.append(popt[0])\n",
    "\n",
    "gradients = np.array(OG.radsperframe_to_bps(np.array(gradients),80))\n"
   ]
  },
  {
   "cell_type": "code",
   "execution_count": 26,
   "metadata": {},
   "outputs": [],
   "source": [
    "# Gets the noise spectrum by looking at the standard deviation of the change in delta phases over some time period.\n",
    "def get_noise_spectrum(delta_phases, averaging_window):\n",
    "    time_windows = range(1, (delta_phases.shape[0] - averaging_window) // 2, 1)\n",
    "    avg_delta_phases_std = []\n",
    "    for i, time_window in enumerate(tqdm(time_windows)):\n",
    "        avg_delta_phases = []\n",
    "        for i in np.arange(delta_phases.shape[0] - time_window - averaging_window):\n",
    "            average_delta_phase_init = np.mean(delta_phases[i:i + averaging_window])\n",
    "            average_delta_phase_final = np.mean(delta_phases[i + time_window:i + time_window + averaging_window])\n",
    "\n",
    "            est_avg_delta_phases = average_delta_phase_init - average_delta_phase_final\n",
    "\n",
    "            avg_delta_phases.append(est_avg_delta_phases)\n",
    "\n",
    "        if time_window == 100:\n",
    "            plt.figure()\n",
    "            plt.hist(avg_delta_phases, bins = 50, rasterized = True)\n",
    "            plt.xlabel(\"Average delta phase difference (radians)\")\n",
    "            plt.ylabel(\"Frequency\")\n",
    "            plt.tight_layout()\n",
    "            plt.savefig(\"noise_spectrum_hist.pgf\")\n",
    "\n",
    "        avg_delta_phases_std.append(np.std(avg_delta_phases))\n",
    "\n",
    "    return time_windows, avg_delta_phases_std"
   ]
  },
  {
   "cell_type": "code",
   "execution_count": 27,
   "metadata": {},
   "outputs": [
    {
     "name": "stderr",
     "output_type": "stream",
     "text": [
      "100%|██████████| 531/531 [00:05<00:00, 92.29it/s] \n",
      "100%|██████████| 12/12 [00:00<00:00, 3001.65it/s]\n"
     ]
    }
   ],
   "source": [
    "dp_noise_spectrum = get_noise_spectrum(oog.delta_phases, oog.sequence_manager.reference_sequence.shape[0])\n",
    "gr_noise_spectrum = get_noise_spectrum(gradients, 3)"
   ]
  },
  {
   "cell_type": "code",
   "execution_count": 28,
   "metadata": {},
   "outputs": [],
   "source": [
    "plt.figure()\n",
    "plt.plot(*dp_noise_spectrum)\n",
    "plt.xlabel(\"Time windows (frames)\")\n",
    "plt.ylabel(\"Noise spectrum\")\n",
    "plt.tight_layout()\n",
    "plt.savefig(\"dp_noise_spectrum_80.pgf\")"
   ]
  },
  {
   "cell_type": "code",
   "execution_count": null,
   "metadata": {},
   "outputs": [],
   "source": [
    "plt.figure()\n",
    "plt.plot(*gr_noise_spectrum)\n",
    "plt.xlabel(\"Time windows (frames)\")\n",
    "plt.ylabel(\"Noise spectrum\")\n",
    "plt.tight_layout()\n",
    "plt.savefig(\"gr_noise_spectrum_80.pgf\")"
   ]
  }
 ],
 "metadata": {
  "kernelspec": {
   "display_name": "optical-gating",
   "language": "python",
   "name": "python3"
  },
  "language_info": {
   "codemirror_mode": {
    "name": "ipython",
    "version": 3
   },
   "file_extension": ".py",
   "mimetype": "text/x-python",
   "name": "python",
   "nbconvert_exporter": "python",
   "pygments_lexer": "ipython3",
   "version": "3.9.16"
  }
 },
 "nbformat": 4,
 "nbformat_minor": 2
}
