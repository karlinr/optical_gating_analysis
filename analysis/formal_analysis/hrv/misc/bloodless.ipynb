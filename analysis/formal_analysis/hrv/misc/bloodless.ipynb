{
 "cells": [
  {
   "cell_type": "code",
   "execution_count": 1,
   "metadata": {},
   "outputs": [],
   "source": [
    "import matplotlib.pyplot as plt\n",
    "import numpy as np\n",
    "\n",
    "import optical_gating_analysis as OG\n",
    "from tqdm import tqdm"
   ]
  },
  {
   "cell_type": "code",
   "execution_count": 7,
   "metadata": {},
   "outputs": [],
   "source": [
    "import matplotlib\n",
    "import matplotlib.pyplot as plt\n",
    "from matplotlib.backends.backend_pgf import FigureCanvasPgf\n",
    "\n",
    "matplotlib.backend_bases.register_backend(\"pgf\", FigureCanvasPgf)\n",
    "matplotlib.rcParams.update(\n",
    "    {\n",
    "        # Adjust to your LaTex-Engine\n",
    "        \"pgf.texsystem\": \"xelatex\",\n",
    "        \"font.family\": \"serif\",\n",
    "        \"text.usetex\": True,\n",
    "        \"pgf.rcfonts\": False,\n",
    "        \"axes.unicode_minus\": False,\n",
    "    }\n",
    ")\n",
    "\n",
    "matplotlib.rcParams['figure.figsize'] = (4.01407, 3.09654)"
   ]
  },
  {
   "cell_type": "code",
   "execution_count": 2,
   "metadata": {},
   "outputs": [
    {
     "name": "stdout",
     "output_type": "stream",
     "text": [
      "Setting source to E:\\data\\my data\\Arrhythmic imaging April 2024 2\\2024-04-26 17.30.44 vid bloodless 200fps\\Allied Vision Technologies GS650 0001f61c\\*tif\n",
      "Getting reference sequence\n",
      "Reference period: 73.62612008708606; Reference indices: [33, 111]\n"
     ]
    },
    {
     "name": "stderr",
     "output_type": "stream",
     "text": [
      "Getting SADs: 100%|██████████| 38/38 [01:41<00:00,  2.67s/it]\n",
      "Getting phases: 100%|██████████| 37970/37970 [00:00<00:00, 164611.72it/s]\n"
     ]
    }
   ],
   "source": [
    "oog = OG.BasicOpticalGating()\n",
    "oog.sequence_manager.set_source(r\"E:\\data\\my data\\Arrhythmic imaging April 2024 2\\2024-04-26 17.30.44 vid bloodless 200fps\\Allied Vision Technologies GS650 0001f61c\\*tif\")\n",
    "#oog.settings[\"include_reference_frames\"] = False\n",
    "oog.run()"
   ]
  },
  {
   "cell_type": "code",
   "execution_count": 9,
   "metadata": {},
   "outputs": [],
   "source": [
    "plt.figure()\n",
    "plt.scatter(oog.phases[1::], oog.delta_phases, s = 1, rasterized = True)\n",
    "plt.xlabel(\"Phase (rads)\")\n",
    "plt.ylabel(\"Delta Phase (rads)\")\n",
    "plt.tight_layout()\n",
    "plt.savefig(\"delta_phase_vs_phase.pgf\")"
   ]
  }
 ],
 "metadata": {
  "kernelspec": {
   "display_name": "optical-gating",
   "language": "python",
   "name": "python3"
  },
  "language_info": {
   "codemirror_mode": {
    "name": "ipython",
    "version": 3
   },
   "file_extension": ".py",
   "mimetype": "text/x-python",
   "name": "python",
   "nbconvert_exporter": "python",
   "pygments_lexer": "ipython3",
   "version": "3.9.16"
  }
 },
 "nbformat": 4,
 "nbformat_minor": 2
}
