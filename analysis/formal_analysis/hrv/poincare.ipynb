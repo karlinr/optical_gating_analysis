{
 "cells": [
  {
   "cell_type": "code",
   "execution_count": 1,
   "metadata": {},
   "outputs": [],
   "source": [
    "import numpy as np\n",
    "import matplotlib.pyplot as plt"
   ]
  },
  {
   "cell_type": "code",
   "execution_count": 6,
   "metadata": {},
   "outputs": [],
   "source": [
    "import matplotlib\n",
    "import matplotlib.pyplot as plt\n",
    "from matplotlib.backends.backend_pgf import FigureCanvasPgf\n",
    "\n",
    "matplotlib.backend_bases.register_backend(\"pgf\", FigureCanvasPgf)\n",
    "matplotlib.rcParams.update(\n",
    "    {\n",
    "        # Adjust to your LaTex-Engine\n",
    "        \"pgf.texsystem\": \"xelatex\",\n",
    "        \"font.family\": \"serif\",\n",
    "        \"text.usetex\": True,\n",
    "        \"pgf.rcfonts\": False,\n",
    "        \"axes.unicode_minus\": False,\n",
    "    }\n",
    ")\n",
    "\n",
    "matplotlib.rcParams['figure.figsize'] = (2.8, 2.8)"
   ]
  },
  {
   "cell_type": "code",
   "execution_count": 7,
   "metadata": {},
   "outputs": [],
   "source": [
    "num_samples = 4000\n",
    "\n",
    "# The desired mean values of the sample.\n",
    "mu = np.array([10, 10])\n",
    "\n",
    "# The desired covariance matrix.\n",
    "r = np.array([\n",
    "        [  5.1, 5],\n",
    "        [ 5, 5.1]\n",
    "    ])\n",
    "\n",
    "# Generate the random samples.\n",
    "rng = np.random.default_rng()\n",
    "y = rng.multivariate_normal(mu, r, size=num_samples)"
   ]
  },
  {
   "cell_type": "code",
   "execution_count": 4,
   "metadata": {},
   "outputs": [
    {
     "name": "stdout",
     "output_type": "stream",
     "text": [
      "[[4.96780491 4.89619641]\n",
      " [4.89619641 5.01687001]]\n"
     ]
    }
   ],
   "source": [
    "print(np.cov(y.T))"
   ]
  },
  {
   "cell_type": "code",
   "execution_count": 8,
   "metadata": {},
   "outputs": [
    {
     "name": "stderr",
     "output_type": "stream",
     "text": [
      "C:\\Users\\kross\\AppData\\Local\\Temp\\ipykernel_10236\\1585545094.py:25: UserWarning: Matplotlib is currently using pgf, which is a non-GUI backend, so cannot show the figure.\n",
      "  plt.show()\n",
      "C:\\Users\\kross\\AppData\\Local\\Temp\\ipykernel_10236\\1585545094.py:51: UserWarning: Matplotlib is currently using pgf, which is a non-GUI backend, so cannot show the figure.\n",
      "  plt.show()\n",
      "C:\\Users\\kross\\AppData\\Local\\Temp\\ipykernel_10236\\1585545094.py:68: RuntimeWarning: covariance is not symmetric positive-semidefinite.\n",
      "  y = rng.multivariate_normal(mu, r, size=num_samples)\n",
      "C:\\Users\\kross\\AppData\\Local\\Temp\\ipykernel_10236\\1585545094.py:79: UserWarning: Matplotlib is currently using pgf, which is a non-GUI backend, so cannot show the figure.\n",
      "  plt.show()\n"
     ]
    }
   ],
   "source": [
    "num_samples = 400\n",
    "\n",
    "# The desired mean values of the sample.\n",
    "mu = np.array([10, 10])\n",
    "\n",
    "# The desired covariance matrix.\n",
    "r = np.array([\n",
    "        [  5.5, 5],\n",
    "        [ 5, 5.5]\n",
    "    ])\n",
    "\n",
    "# Generate the random samples.\n",
    "rng = np.random.default_rng()\n",
    "y = rng.multivariate_normal(mu, r, size=num_samples)\n",
    "\n",
    "\n",
    "# Plot various projections of the samples.\n",
    "plt.figure()\n",
    "plt.plot(y[:,0], y[:,1], \"o\", ms = 0.5)\n",
    "plt.xlabel('$t_{i}$')\n",
    "plt.ylabel('$t_{i+1}$')\n",
    "plt.axis('equal')\n",
    "plt.tight_layout()\n",
    "plt.savefig(\"poincare_correlated.pgf\")\n",
    "plt.show()\n",
    "\n",
    "num_samples = 400\n",
    "\n",
    "# The desired mean values of the sample.\n",
    "mu = np.array([10, 10])\n",
    "\n",
    "# The desired covariance matrix.\n",
    "r = np.array([\n",
    "        [  5.1, 0],\n",
    "        [ 0, 5.1]\n",
    "    ])\n",
    "\n",
    "# Generate the random samples.\n",
    "rng = np.random.default_rng()\n",
    "y = rng.multivariate_normal(mu, r, size=num_samples)\n",
    "\n",
    "\n",
    "# Plot various projections of the samples.\n",
    "plt.figure()\n",
    "plt.plot(y[:,0], y[:,1], \"o\", ms = 0.5)\n",
    "plt.xlabel('$t_{i}$')\n",
    "plt.ylabel('$t_{i+1}$')\n",
    "plt.axis('equal')\n",
    "plt.tight_layout()\n",
    "plt.savefig(\"poincare_noise.pgf\")\n",
    "plt.show()\n",
    "\n",
    "\n",
    "\n",
    "num_samples = 400\n",
    "\n",
    "# The desired mean values of the sample.\n",
    "mu = np.array([10, 10])\n",
    "\n",
    "# The desired covariance matrix.\n",
    "r = np.array([\n",
    "        [  5, -5.5],\n",
    "        [ -5.5, 5]\n",
    "    ])\n",
    "\n",
    "# Generate the random samples.\n",
    "rng = np.random.default_rng()\n",
    "y = rng.multivariate_normal(mu, r, size=num_samples)\n",
    "\n",
    "\n",
    "# Plot various projections of the samples.\n",
    "plt.figure()\n",
    "plt.plot(y[:,0], y[:,1], \"o\", ms = 0.5)\n",
    "plt.xlabel('$t_{i}$')\n",
    "plt.ylabel('$t_{i+1}$')\n",
    "plt.axis('equal')\n",
    "plt.tight_layout()\n",
    "plt.savefig(\"poincare_switch.pgf\")\n",
    "plt.show()"
   ]
  }
 ],
 "metadata": {
  "kernelspec": {
   "display_name": "optical-gating",
   "language": "python",
   "name": "python3"
  },
  "language_info": {
   "codemirror_mode": {
    "name": "ipython",
    "version": 3
   },
   "file_extension": ".py",
   "mimetype": "text/x-python",
   "name": "python",
   "nbconvert_exporter": "python",
   "pygments_lexer": "ipython3",
   "version": "3.9.16"
  }
 },
 "nbformat": 4,
 "nbformat_minor": 2
}
