{
 "cells": [
  {
   "cell_type": "code",
   "execution_count": 1,
   "metadata": {},
   "outputs": [],
   "source": [
    "import numpy as np\n",
    "import matplotlib.pyplot as plt\n",
    "from scipy import signal\n",
    "\n",
    "from tqdm import tqdm"
   ]
  },
  {
   "cell_type": "code",
   "execution_count": 2,
   "metadata": {},
   "outputs": [],
   "source": [
    "import hrv_analysis as hrv"
   ]
  },
  {
   "cell_type": "code",
   "execution_count": 7,
   "metadata": {},
   "outputs": [
    {
     "name": "stderr",
     "output_type": "stream",
     "text": [
      "100%|██████████| 5000/5000 [00:00<00:00, 693479.71it/s]\n"
     ]
    }
   ],
   "source": [
    "N = 5000\n",
    "k = 7\n",
    "d = 7\n",
    "T = 300\n",
    "dt = 0.011\n",
    "stationary_model_data_1 = hrv.brownian_motion_with_restoring_force(N, k, d, T, dt, random_seed = 0, verbose = True)\n",
    "\n",
    "# Compute the Normalized Power Spectrum Similarity (NPSS) for the stationary model\n",
    "def calculate_npss(signal1, signal2):\n",
    "    # Ensure signals are the same length\n",
    "    min_length = min(len(signal1), len(signal2))\n",
    "    signal1 = signal1[:min_length]\n",
    "    signal2 = signal2[:min_length]\n",
    "    \n",
    "    # Calculate power spectra\n",
    "    _, Pxx1 = signal.welch(signal1)\n",
    "    _, Pxx2 = signal.welch(signal2)\n",
    "    \n",
    "    # Normalize power spectra\n",
    "    Pxx1_norm = Pxx1# / np.sum(Pxx1)\n",
    "    Pxx2_norm = Pxx2# / np.sum(Pxx2)\n",
    "    \n",
    "    # Calculate cross-spectral density\n",
    "    npss = np.sum(np.square(Pxx1_norm - Pxx2_norm))\n",
    "    \n",
    "    # Calculate NPSS\n",
    "    #npss = cross_spectral_density ** 2\n",
    "    return npss\n",
    "\n",
    "# Perform a minimisation to find the signal with fits signal1 the best\n",
    "def objective_function(x):\n",
    "    signal = hrv.brownian_motion_with_restoring_force(N, x[0], x[1], T, dt, random_seed = 100, verbose = False)[0]\n",
    "    return calculate_npss(stationary_model_data_1[0], signal)\n",
    "\n",
    "import scipy.optimize as optimize\n",
    "\n",
    "initial_guess = [5, 5]\n",
    "result = optimize.minimize(objective_function, initial_guess)\n",
    "\n",
    "print(result)\n",
    "\n",
    "# Plot the optimal signal and original\n",
    "optimal_signal = hrv.brownian_motion_with_restoring_force(N, result.x[0], result.x[1], T, dt, verbose = False)[0]\n",
    "plt.figure()\n",
    "plt.scatter(range(len(optimal_signal)), optimal_signal, s = 1)\n",
    "plt.scatter(range(len(stationary_model_data_1[0])), stationary_model_data_1[0], s = 1)\n",
    "plt.show()\n",
    "\n",
    "# Plot the normalised periodograms of the optimal signal and original\n",
    "f1, Pxx1 = signal.welch(stationary_model_data_1[0])\n",
    "f2, Pxx2 = signal.welch(optimal_signal)\n",
    "\n",
    "# Normalize power spectra\n",
    "Pxx1_norm = Pxx1 / np.sum(Pxx1)\n",
    "Pxx2_norm = Pxx2 / np.sum(Pxx2)\n",
    "\n",
    "plt.figure()\n",
    "plt.semilogy(f1, Pxx1_norm)\n",
    "plt.semilogy(f2, Pxx2_norm)\n",
    "plt.xscale(\"log\")\n",
    "plt.show()"
   ]
  },
  {
   "cell_type": "code",
   "execution_count": 5,
   "metadata": {},
   "outputs": [
    {
     "name": "stderr",
     "output_type": "stream",
     "text": [
      "100%|██████████| 50/50 [00:17<00:00,  2.86it/s]\n"
     ]
    },
    {
     "data": {
      "image/png": "[encoded data removed]",
      "text/plain": [
       "<Figure size 640x480 with 2 Axes>"
      ]
     },
     "metadata": {},
     "output_type": "display_data"
    },
    {
     "name": "stdout",
     "output_type": "stream",
     "text": [
      "True k:7.00\n",
      "True d:7.00\n",
      "k:7.98\n",
      "d:6.65\n"
     ]
    }
   ],
   "source": [
    "import matplotlib.colors as mpc\n",
    "\n",
    "# Run Monte Carlo optimisation to find the optimal parameters and plot on 2d image\n",
    "npss_values = np.zeros((50, 50))\n",
    "k_values = np.linspace(4,9,npss_values.shape[0])\n",
    "d_values = np.linspace(4,9,npss_values.shape[1])\n",
    "for i, ks in tqdm(enumerate(k_values), total = k_values.shape[0]):\n",
    "    for j, ds in enumerate(d_values):\n",
    "        npss_values[i, j] = calculate_npss(stationary_model_data_1[0], hrv.brownian_motion_with_restoring_force(N, ks, ds, T, dt, random_seed = 100, verbose = False)[0])\n",
    "\n",
    "\n",
    "plt.figure()\n",
    "plt.imshow(1/npss_values, interpolation = \"None\")\n",
    "plt.colorbar()\n",
    "plt.show()\n",
    "\n",
    "# convert argmuents to k and d values\n",
    "print(f\"True k:{k:.2f}\")\n",
    "print(f\"True d:{d:.2f}\")\n",
    "print(f\"k:{k_values[np.unravel_index(npss_values.argmin(), npss_values.shape)[0]]:.2f}\")\n",
    "print(f\"d:{d_values[np.unravel_index(npss_values.argmin(), npss_values.shape)[1]]:.2f}\")"
   ]
  }
 ],
 "metadata": {
  "kernelspec": {
   "display_name": "optical-gating",
   "language": "python",
   "name": "python3"
  },
  "language_info": {
   "codemirror_mode": {
    "name": "ipython",
    "version": 3
   },
   "file_extension": ".py",
   "mimetype": "text/x-python",
   "name": "python",
   "nbconvert_exporter": "python",
   "pygments_lexer": "ipython3",
   "version": "3.9.16"
  }
 },
 "nbformat": 4,
 "nbformat_minor": 2
}
