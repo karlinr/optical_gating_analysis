{
 "cells": [
  {
   "cell_type": "code",
   "execution_count": null,
   "metadata": {},
   "outputs": [],
   "source": [
    "def mse(xshift, yshift, rotation, scale):\n",
    "    image = transform_image(xshift, yshift, rotation, scale)\n",
    "\n",
    "    return np.mean((image - target)**2)\n",
    "\n",
    "minima = scipy.optimize.minimize(mse, [0, 0, 0, 1], bounds = [(-100, 100), (-100, 100), (-np.pi, np.pi), (0.5, 1.5)])"
   ]
  }
 ],
 "metadata": {
  "language_info": {
   "name": "python"
  }
 },
 "nbformat": 4,
 "nbformat_minor": 2
}
